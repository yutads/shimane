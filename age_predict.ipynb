{
 "cells": [
  {
   "cell_type": "markdown",
   "id": "proper-aerospace",
   "metadata": {},
   "source": [
    "## Transfomer"
   ]
  },
  {
   "cell_type": "code",
   "execution_count": 1,
   "id": "suffering-lawrence",
   "metadata": {},
   "outputs": [
    {
     "data": {
      "text/plain": [
       "'%%bash\\npython3 -m pip install --user torch\\npython3 -m pip install --user scikit-learn'"
      ]
     },
     "execution_count": 1,
     "metadata": {},
     "output_type": "execute_result"
    }
   ],
   "source": [
    "\"\"\"%%bash\n",
    "python3 -m pip install --user torch\n",
    "python3 -m pip install --user scikit-learn\"\"\""
   ]
  },
  {
   "cell_type": "code",
   "execution_count": null,
   "id": "champion-anatomy",
   "metadata": {},
   "outputs": [],
   "source": [
    "from IPython.core.interactiveshell import InteractiveShell\n",
    "InteractiveShell.ast_node_interactivity = 'all'\n",
    "\n",
    "import numpy as np\n",
    "import pandas as pd\n",
    "import random\n",
    "import matplotlib.pyplot as plt\n",
    "from sklearn.model_selection import train_test_split\n",
    "from sklearn.metrics import r2_score\n",
    "from sklearn.linear_model import LinearRegression\n",
    "\n",
    "import torch\n",
    "import torch.nn as nn\n",
    "\n",
    "device = torch.device('cuda' if torch.cuda.is_available() else 'cpu')\n",
    "torch.cuda.device_count()\n",
    "#torch.set_default_tensor_type('torch.cuda.FloatTensor')"
   ]
  },
  {
   "cell_type": "markdown",
   "id": "rolled-archive",
   "metadata": {},
   "source": [
    "## Data定義"
   ]
  },
  {
   "cell_type": "code",
   "execution_count": null,
   "id": "liable-plaintiff",
   "metadata": {},
   "outputs": [],
   "source": [
    "%%time\n",
    "#6分ぐらいかかる\n",
    "df_aal = pd.read_csv('../02_data_analysis/roi_timeseries/timeseries_aal.csv')\n",
    "df_ho = pd.read_csv('../02_data_analysis/roi_timeseries/timeseries_ho.csv')\n",
    "\n",
    "#df_dynamic_aal = pd.read_csv('../02_data_analysis/dynamic_FC/dynamic_aal.csv')\n",
    "#df_dynamic_ho = pd.read_csv('../02_data_analysis/dynamic_FC/dynamic_ho.csv')\n",
    "\n",
    "df_subjects_info = pd.read_csv('../02_data_analysis/subjects_info/subjects_info.csv')"
   ]
  },
  {
   "cell_type": "code",
   "execution_count": null,
   "id": "combined-timeline",
   "metadata": {},
   "outputs": [],
   "source": [
    "def make_info_data(df = df_subjects_info,col = ['Age','Sex','やる気スコア(Apathy scale)']):\n",
    "    subID = np.array(df.subID)\n",
    "    subjects_info_list = []\n",
    "    for ID in subID:\n",
    "        data = np.array(df[df.subID == ID][col])[0]\n",
    "        if 'Sex' in col:\n",
    "            idx = col.index('Sex')\n",
    "            if data[idx] == '男':\n",
    "                data[idx] = 0\n",
    "            else:\n",
    "                data[idx] = 1\n",
    "        subjects_info_list.append(data)\n",
    "    subjects_info = np.array(subjects_info_list)\n",
    "    \n",
    "    for i in range(len(col)):\n",
    "        if i == idx:\n",
    "            continue\n",
    "        else:\n",
    "            subjects_info[:,i] = (subjects_info[:,i] - \\\n",
    "                                  np.mean(subjects_info[:,i]))/np.std(subjects_info[:,i])\n",
    "    return subjects_info.astype(np.float)\n",
    "\n",
    "def make_data(df, subID = df_subjects_info.subID ,remove_list = ['time','subID']):\n",
    "    data_list = []\n",
    "    df_cols = list(df.columns)\n",
    "    for r in remove_list:\n",
    "        try:\n",
    "            df_cols.remove(r)\n",
    "        except:\n",
    "            pass\n",
    "    for ID in df_subjects_info.subID:\n",
    "        data = df[df.subID == ID][df_cols]\n",
    "        data = np.array(data)\n",
    "        data_list.append(data)\n",
    "    data = np.array(data_list)\n",
    "    return data"
   ]
  },
  {
   "cell_type": "code",
   "execution_count": null,
   "id": "domestic-element",
   "metadata": {},
   "outputs": [],
   "source": [
    "%%time\n",
    "data_label = make_info_data()\n",
    "data_aal = make_data(df_aal)\n",
    "data_ho = make_data(df_ho)\n",
    "\n",
    "age_mean = df_subjects_info.Age.mean()\n",
    "age_std = df_subjects_info.Age.std()\n",
    "\n",
    "data_label.shape\n",
    "data_aal.shape\n",
    "data_ho.shape"
   ]
  },
  {
   "cell_type": "code",
   "execution_count": null,
   "id": "beginning-catholic",
   "metadata": {},
   "outputs": [],
   "source": [
    "#30秒ぐらいかかる\n",
    "#data_dynamic_aal = make_data(df_dynamic_aal)\n",
    "#data_dynamic_ho = make_data(df_dynamic_ho)\n",
    "\n",
    "#data_dynamic_aal.shape\n",
    "#data_dynamic_ho.shape"
   ]
  },
  {
   "cell_type": "markdown",
   "id": "dramatic-native",
   "metadata": {},
   "source": [
    "## Model作成"
   ]
  },
  {
   "cell_type": "code",
   "execution_count": null,
   "id": "ambient-muscle",
   "metadata": {},
   "outputs": [],
   "source": [
    "import math\n",
    "class PositionalEncoding(nn.Module):\n",
    "\n",
    "    def __init__(self, d_model: int, dropout: float = 0.1, max_len: int = 5000):\n",
    "        super(PositionalEncoding, self).__init__()\n",
    "        \n",
    "        self.dropout = nn.Dropout(p=dropout)\n",
    "        # Not a parameter\n",
    "        self.register_buffer('pe', self._pe_table(d_model, max_len))\n",
    "\n",
    "    def _pe_table(self, d_model: int, max_len: int) -> torch.Tensor:\n",
    "        pos = torch.arange(0, max_len).unsqueeze(1)\n",
    "        pe_denominator = torch.exp(\n",
    "            torch.arange(0, d_model, 2) * math.log(10000) / d_model\n",
    "        )\n",
    "\n",
    "        pe = torch.zeros(max_len, d_model)\n",
    "        pe[:, 0::2] = torch.sin(pos / pe_denominator)  # 偶数項にはsin\n",
    "        pe[:, 1::2] = torch.cos(pos / pe_denominator)  # 奇数項にはcos\n",
    "\n",
    "        pe = pe.unsqueeze(0)  # バッチに対応するため\n",
    "        return pe\n",
    "\n",
    "    def forward(self, x: torch.Tensor) -> torch.Tensor:\n",
    "        return self.dropout(x + self.pe[:, :x.size(1)].clone().detach())"
   ]
  },
  {
   "cell_type": "code",
   "execution_count": null,
   "id": "physical-serum",
   "metadata": {},
   "outputs": [],
   "source": [
    "class Model(nn.Module):    \n",
    "    def __init__(self,\n",
    "                 input_dim,\n",
    "                 hidden_dim,\n",
    "                 time_len,nhead,\n",
    "                 output_dim,\n",
    "                 hidden_dim_transformer,\n",
    "                 fc_drop = 0.1,\n",
    "                 trans_drop = 0.1):\n",
    "        super(Model, self).__init__()\n",
    "        self.fc0  = nn.Linear(input_dim,hidden_dim)\n",
    "        self.pos  = PositionalEncoding(d_model = hidden_dim,dropout=fc_drop)\n",
    "        self.transformer_encoder_layer = nn.TransformerEncoderLayer(hidden_dim,\n",
    "                                                                    nhead,\n",
    "                                                                    dropout=trans_drop,\n",
    "                                                                    dim_feedforward=hidden_dim,\n",
    "                                                                    batch_first=True)\n",
    "        self.transformer_encoder       = nn.TransformerEncoder(self.transformer_encoder_layer,\n",
    "                                                               num_layers=hidden_dim_transformer)\n",
    "        self.fc1  = nn.Linear(hidden_dim,1)\n",
    "        self.fc2  = nn.Linear(time_len,1)\n",
    "        self.drop  = nn.Dropout(0.1)\n",
    "        self.time_len = time_len\n",
    "        \n",
    "    def forward(self,x):\n",
    "        x = self.fc0(x)\n",
    "        x = self.pos(x)\n",
    "        x = self.transformer_encoder(x)\n",
    "        x = self.fc1(x)\n",
    "        x = self.drop(x)\n",
    "        x = torch.reshape(x, (-1, self.time_len))\n",
    "        x = self.fc2(x)\n",
    "        x = torch.reshape(x, (-1, 1))\n",
    "        return x"
   ]
  },
  {
   "cell_type": "code",
   "execution_count": null,
   "id": "cubic-resource",
   "metadata": {},
   "outputs": [],
   "source": [
    "class MyDataset(torch.utils.data.Dataset):\n",
    "    def __init__(self, data, label=None):\n",
    "        self.data = data\n",
    "        self.label = label\n",
    "        self.test = label is None\n",
    "        self.length = data.shape[0]\n",
    "    def __len__(self):\n",
    "        return self.length\n",
    "    def __getitem__(self,idx):\n",
    "        if self.test:\n",
    "            data = torch.tensor(self.data[idx])\n",
    "            return data\n",
    "        else:\n",
    "            data = torch.tensor(self.data[idx])\n",
    "            label = torch.tensor(self.label[idx])\n",
    "            return data, label"
   ]
  },
  {
   "cell_type": "code",
   "execution_count": null,
   "id": "pediatric-spelling",
   "metadata": {},
   "outputs": [],
   "source": [
    "def train_model(data,\n",
    "                label,\n",
    "                epochs=1000,\n",
    "                n_splits=5,\n",
    "                train_size = 0.8,\n",
    "                criterion = nn.MSELoss()):\n",
    "    \n",
    "    epochs = epochs\n",
    "    seed = 0\n",
    "    np.random.seed(seed)\n",
    "    random.seed(seed)\n",
    "    torch.manual_seed(seed)\n",
    "    torch.cuda.manual_seed(seed)\n",
    "    \n",
    "    label_age = np.array([label[:,0]]).T\n",
    "    train_all, test, train_all_label, test_label = train_test_split(data,\n",
    "                                                                    label_age,\n",
    "                                                                    train_size = train_size,\n",
    "                                                                    shuffle=False)\n",
    "    \n",
    "    test_dataset = MyDataset(test)\n",
    "    test_dataloader = torch.utils.data.DataLoader(test_dataset,batch_size=32)\n",
    "    \n",
    "    from sklearn.model_selection import KFold\n",
    "    kf = KFold(n_splits=n_splits)\n",
    "    test_pred_all = []\n",
    "    \n",
    "    for i, (train_index, val_index) in enumerate(kf.split(train_all)):\n",
    "        \n",
    "        early_stopping = 1e5\n",
    "        save_epochs = 0\n",
    "        \n",
    "        train_loss_plot = []\n",
    "        val_loss_plot = []\n",
    "        \n",
    "        train, train_label = train_all[train_index], train_all_label[train_index]\n",
    "        val,   val_label   = train_all[val_index],   train_all_label[val_index]\n",
    "        \n",
    "        train_dataset = MyDataset(train,train_label)\n",
    "        train_dataloader = torch.utils.data.DataLoader(train_dataset,batch_size=32,shuffle=True)\n",
    "\n",
    "        val_dataset = MyDataset(val,val_label)\n",
    "        val_dataloader = torch.utils.data.DataLoader(val_dataset,batch_size=32)\n",
    "        \n",
    "        input_dim  = train.shape[2]\n",
    "        time_len   = train.shape[1]\n",
    "        output_dim = train_label.shape[1]\n",
    "        hidden_dim = 128\n",
    "        nhead      = 32\n",
    "        hidden_dim_transformer = 2\n",
    "        fc_drop = 0.1\n",
    "        trans_drop = 0.1\n",
    "        \n",
    "        model = Model(input_dim,\n",
    "                      hidden_dim,\n",
    "                      time_len,\n",
    "                      nhead,\n",
    "                      output_dim,\n",
    "                      hidden_dim_transformer,\n",
    "                      fc_drop,\n",
    "                      trans_drop).to(device)\n",
    "        \n",
    "        criterion = criterion\n",
    "        optimizer = torch.optim.AdamW(model.parameters())\n",
    "\n",
    "        def compute_loss(y, t):\n",
    "            return criterion(y, t)\n",
    "\n",
    "        def train_step(x,t):\n",
    "            model.train()\n",
    "            preds = model(x)\n",
    "            loss = compute_loss(preds, t)\n",
    "            optimizer.zero_grad()\n",
    "            loss.backward()\n",
    "            optimizer.step()\n",
    "            return loss, preds\n",
    "\n",
    "        def val_step(x,t):\n",
    "            model.eval()\n",
    "            preds = model(x)\n",
    "            loss = compute_loss(preds, t)    \n",
    "            return loss, preds\n",
    "\n",
    "        def test_step(x):\n",
    "            model.eval()\n",
    "            preds = model(x)\n",
    "            return preds\n",
    "        \n",
    "        for epoch in range(epochs):\n",
    "            train_loss = 0.\n",
    "            val_loss = 0.\n",
    "\n",
    "            for (x, t) in train_dataloader:\n",
    "                x, t = x.to(device), t.to(device)\n",
    "                x = x.float()\n",
    "                t = t.float()\n",
    "                loss, preds = train_step(x,t)\n",
    "                train_loss += loss.item()\n",
    "            train_loss /= len(train_dataloader)\n",
    "            \n",
    "            val_pred = []\n",
    "            for (x, t) in val_dataloader:\n",
    "                x, t = x.to(device), t.to(device)\n",
    "                x = x.float()\n",
    "                t = t.float()\n",
    "                loss, preds = val_step(x,t)\n",
    "                val_loss += loss.item()\n",
    "                if epochs == epoch+1:\n",
    "                    val_pred.append(preds)\n",
    "                \n",
    "            val_loss /= len(val_dataloader)\n",
    "            if (epoch+1) % 100 == 0:\n",
    "                print(f'Kfold: {i+1} ::: epoch: {epoch+1}, loss: {train_loss}, val loss: {val_loss}')\n",
    "            \"\"\"if early_stopping >= val_loss:\n",
    "                early_stopping = val_loss\n",
    "                model_path = '../02_data_analysis/model/model_.pth'\n",
    "                torch.save(model.state_dict(), model_path)\n",
    "                save_epochs = epoch+1\"\"\"\n",
    "        \n",
    "            train_loss_plot.append(train_loss)\n",
    "            val_loss_plot.append(val_loss)\n",
    "        \n",
    "        #model.load_state_dict(torch.load(model_path))\n",
    "        #print(f'save_epochs:{save_epochs}')\n",
    "        \n",
    "        train_loss_plot = np.array(train_loss_plot)\n",
    "        val_loss_plot   = np.array(val_loss_plot)\n",
    "        x               = np.linspace(0, len(train_loss_plot), len(train_loss_plot))\n",
    "        \n",
    "        plt.figure(figsize=(6, 4), dpi=80)\n",
    "        plt.plot(x, train_loss_plot, label=\"train loss\")\n",
    "        plt.plot(x, val_loss_plot, label=\"val loss\")\n",
    "        plt.legend()\n",
    "        plt.grid()\n",
    "        plt.show()\n",
    "        \n",
    "        train_pred = []\n",
    "        train_label = []\n",
    "        for (x, t) in train_dataloader:\n",
    "            x, t = x.to(device), t.to(device)\n",
    "            x = x.float()\n",
    "            t = t.float()\n",
    "            loss, preds = train_step(x,t)\n",
    "            train_pred.append(preds)\n",
    "            train_label.append(t)\n",
    "            \n",
    "        val_pred = []\n",
    "        for (x, t) in val_dataloader:\n",
    "            x, t = x.to(device), t.to(device)\n",
    "            x = x.float()\n",
    "            t = t.float()\n",
    "            loss, preds = val_step(x,t)\n",
    "            val_pred.append(preds)\n",
    "        \n",
    "        train_pred = torch.cat(train_pred)\n",
    "        train_pred = train_pred.to('cpu').detach().numpy().copy()\n",
    "        \n",
    "        train_label = torch.cat(train_label)\n",
    "        train_label = train_label.to('cpu').detach().numpy().copy()\n",
    "        \n",
    "        val_pred = torch.cat(val_pred)\n",
    "        val_pred = val_pred.to('cpu').detach().numpy().copy()\n",
    "        \n",
    "        plt.figure(figsize=(6, 6), dpi=80)\n",
    "        plt.scatter((train_label[:,0]*age_std)+age_mean,(np.array(train_pred[:,0])*age_std)+age_mean)\n",
    "        plt.xlabel('chronological age') # x軸のラベル\n",
    "        plt.ylabel('predicted age') # y軸のラベル\n",
    "        #plt.legend()\n",
    "        plt.grid()\n",
    "        plt.show()\n",
    "        print(np.corrcoef(train_label[:,0],np.array(train_pred[:,0])))\n",
    "        print('r^2 train data: ', r2_score(train_label[:,0],np.array(train_pred[:,0])))\n",
    "        \n",
    "        plt.figure(figsize=(6, 6), dpi=80)\n",
    "        plt.scatter((val_label[:,0]*age_std)+age_mean,(np.array(val_pred[:,0])*age_std)+age_mean)\n",
    "        plt.xlabel('chronological age') # x軸のラベル\n",
    "        plt.ylabel('predicted age') # y軸のラベル\n",
    "        #plt.legend()\n",
    "        plt.grid()\n",
    "        plt.show()\n",
    "        print(np.corrcoef(val_label[:,0],np.array(val_pred[:,0])))\n",
    "        print('r^2 train data: ', r2_score(val_label[:,0],np.array(val_pred[:,0])))\n",
    "        \n",
    "        lr = LinearRegression()\n",
    "        lr.fit(val_label*age_std+age_mean,val_pred[:,0]*age_std+age_mean)\n",
    "        \n",
    "        \n",
    "        plt.figure(figsize=(6, 6), dpi=80)\n",
    "        plt.scatter(val_label[:,0]*age_std+age_mean,val_pred[:,0]*age_std+age_mean)#散布図をプロット\n",
    "        plt.plot(val_label[:,0]*age_std + age_mean,\n",
    "                 lr.predict(val_label*age_std+age_mean), color = 'red')#回帰直線をプロット\n",
    "        \n",
    "        plt.title('Regression Line') # 図のタイトル\n",
    "        plt.xlabel('chronological age') # x軸のラベル\n",
    "        plt.ylabel('predicted age') # y軸のラベル\n",
    "        #plt.legend()# 説明\n",
    "        plt.grid()  # グリッド線を表示\n",
    "        plt.show()  # 図の表示\n",
    "        print('切片:', lr.intercept_)\n",
    "        print('傾き:', lr.coef_)\n",
    "                \n",
    "        test_pred = []\n",
    "        for x in test_dataloader:\n",
    "            x = x.to(device)\n",
    "            x = x.float()\n",
    "            preds = test_step(x)\n",
    "            test_pred.append(preds)\n",
    "        test_pred = torch.cat(test_pred)\n",
    "        test_pred = test_pred.to('cpu').detach().numpy().copy()\n",
    "        test_pred_all.append(test_pred)\n",
    "    return np.array(test_pred_all),test_label"
   ]
  },
  {
   "cell_type": "code",
   "execution_count": null,
   "id": "pursuant-lease",
   "metadata": {},
   "outputs": [],
   "source": [
    "%%time\n",
    "# 128 32 2 0.1 0.1 128 last:fc1 drop 0.1 fc2\n",
    "test_pred,test_label = train_model(data_aal,\n",
    "                                   data_label,\n",
    "                                   epochs=750,\n",
    "                                   n_splits=5,\n",
    "                                   train_size = 0.8,\n",
    "                                   criterion = nn.MSELoss()\n",
    "                                  )"
   ]
  },
  {
   "cell_type": "code",
   "execution_count": null,
   "id": "mental-thinking",
   "metadata": {},
   "outputs": [],
   "source": [
    "plt.figure(figsize=(6, 6), dpi=80)\n",
    "plt.scatter(test_label[:,0]*age_std+age_mean,test_pred[0,:,0]*age_std+age_mean)\n",
    "plt.grid()\n",
    "plt.show()\n",
    "np.corrcoef(test_label[:,0],test_pred[0,:,0])"
   ]
  },
  {
   "cell_type": "code",
   "execution_count": null,
   "id": "threaded-distinction",
   "metadata": {},
   "outputs": [],
   "source": [
    "plt.figure(figsize=(6, 6), dpi=80)\n",
    "plt.scatter(test_label[:,0]*age_std+age_mean,test_pred[1,:,0]*age_std+age_mean)\n",
    "plt.grid()\n",
    "plt.show()\n",
    "np.corrcoef(test_label[:,0],test_pred[1,:,0])"
   ]
  },
  {
   "cell_type": "code",
   "execution_count": null,
   "id": "periodic-houston",
   "metadata": {},
   "outputs": [],
   "source": [
    "plt.figure(figsize=(6, 6), dpi=80)\n",
    "plt.scatter(test_label[:,0]*age_std+age_mean,test_pred[2,:,0]*age_std+age_mean)\n",
    "plt.grid()\n",
    "plt.show()\n",
    "np.corrcoef(test_label[:,0],test_pred[2,:,0])"
   ]
  },
  {
   "cell_type": "code",
   "execution_count": null,
   "id": "documentary-colombia",
   "metadata": {},
   "outputs": [],
   "source": [
    "plt.figure(figsize=(6, 6), dpi=80)\n",
    "plt.scatter(test_label[:,0]*age_std+age_mean,test_pred[3,:,0]*age_std+age_mean)\n",
    "plt.grid()\n",
    "plt.show()\n",
    "np.corrcoef(test_label[:,0],test_pred[3,:,0])"
   ]
  },
  {
   "cell_type": "code",
   "execution_count": null,
   "id": "colored-defense",
   "metadata": {},
   "outputs": [],
   "source": [
    "plt.figure(figsize=(6, 6), dpi=80)\n",
    "plt.scatter(test_label[:,0]*age_std+age_mean,test_pred[4,:,0]*age_std+age_mean)\n",
    "plt.grid()\n",
    "plt.show()\n",
    "np.corrcoef(test_label[:,0],test_pred[4,:,0])"
   ]
  },
  {
   "cell_type": "code",
   "execution_count": null,
   "id": "moral-symphony",
   "metadata": {},
   "outputs": [],
   "source": [
    "\"\"\"plt.scatter(test_label[:,0]*age_std+age_mean,test_pred[5,:,0]*age_std+age_mean)\n",
    "plt.grid()\n",
    "plt.show()\n",
    "np.corrcoef(test_label[:,0],test_pred[5,:,0])\"\"\""
   ]
  },
  {
   "cell_type": "code",
   "execution_count": 46,
   "id": "considered-little",
   "metadata": {},
   "outputs": [
    {
     "data": {
      "text/plain": [
       "'plt.scatter(test_label[:,0]*age_std+age_mean,test_pred[6,:,0]*age_std+age_mean)\\nplt.grid()\\nplt.show()\\nnp.corrcoef(test_label[:,0],test_pred[6,:,0])'"
      ]
     },
     "execution_count": 46,
     "metadata": {},
     "output_type": "execute_result"
    }
   ],
   "source": [
    "\"\"\"plt.scatter(test_label[:,0]*age_std+age_mean,test_pred[6,:,0]*age_std+age_mean)\n",
    "plt.grid()\n",
    "plt.show()\n",
    "np.corrcoef(test_label[:,0],test_pred[6,:,0])\"\"\""
   ]
  },
  {
   "cell_type": "code",
   "execution_count": 47,
   "id": "unnecessary-hazard",
   "metadata": {},
   "outputs": [
    {
     "data": {
      "text/plain": [
       "'plt.scatter(test_label[:,0]*age_std+age_mean,test_pred[7,:,0]*age_std+age_mean)\\nplt.grid()\\nplt.show()\\nnp.corrcoef(test_label[:,0],test_pred[7,:,0])'"
      ]
     },
     "execution_count": 47,
     "metadata": {},
     "output_type": "execute_result"
    }
   ],
   "source": [
    "\"\"\"plt.scatter(test_label[:,0]*age_std+age_mean,test_pred[7,:,0]*age_std+age_mean)\n",
    "plt.grid()\n",
    "plt.show()\n",
    "np.corrcoef(test_label[:,0],test_pred[7,:,0])\"\"\""
   ]
  },
  {
   "cell_type": "code",
   "execution_count": 48,
   "id": "dressed-pearl",
   "metadata": {},
   "outputs": [
    {
     "data": {
      "text/plain": [
       "'plt.scatter(test_label[:,0]*age_std+age_mean,test_pred[8,:,0]*age_std+age_mean)\\nplt.grid()\\nplt.show()\\nnp.corrcoef(test_label[:,0],test_pred[8,:,0])'"
      ]
     },
     "execution_count": 48,
     "metadata": {},
     "output_type": "execute_result"
    }
   ],
   "source": [
    "\"\"\"plt.scatter(test_label[:,0]*age_std+age_mean,test_pred[8,:,0]*age_std+age_mean)\n",
    "plt.grid()\n",
    "plt.show()\n",
    "np.corrcoef(test_label[:,0],test_pred[8,:,0])\"\"\""
   ]
  },
  {
   "cell_type": "code",
   "execution_count": 49,
   "id": "honey-stake",
   "metadata": {},
   "outputs": [
    {
     "data": {
      "text/plain": [
       "'plt.scatter(test_label[:,0]*age_std+age_mean,test_pred[9,:,0]*age_std+age_mean)\\nplt.grid()\\nplt.show()\\nnp.corrcoef(test_label[:,0],test_pred[9,:,0])'"
      ]
     },
     "execution_count": 49,
     "metadata": {},
     "output_type": "execute_result"
    }
   ],
   "source": [
    "\"\"\"plt.scatter(test_label[:,0]*age_std+age_mean,test_pred[9,:,0]*age_std+age_mean)\n",
    "plt.grid()\n",
    "plt.show()\n",
    "np.corrcoef(test_label[:,0],test_pred[9,:,0])\"\"\""
   ]
  },
  {
   "cell_type": "code",
   "execution_count": 50,
   "id": "derived-protection",
   "metadata": {},
   "outputs": [
    {
     "data": {
      "text/plain": [
       "<Figure size 480x480 with 0 Axes>"
      ]
     },
     "execution_count": 50,
     "metadata": {},
     "output_type": "execute_result"
    },
    {
     "data": {
      "text/plain": [
       "<matplotlib.collections.PathCollection at 0x2aabdff0e438>"
      ]
     },
     "execution_count": 50,
     "metadata": {},
     "output_type": "execute_result"
    },
    {
     "data": {
      "text/plain": [
       "<matplotlib.collections.PathCollection at 0x2aabdff0e4e0>"
      ]
     },
     "execution_count": 50,
     "metadata": {},
     "output_type": "execute_result"
    },
    {
     "data": {
      "text/plain": [
       "<matplotlib.collections.PathCollection at 0x2aabdff250b8>"
      ]
     },
     "execution_count": 50,
     "metadata": {},
     "output_type": "execute_result"
    },
    {
     "data": {
      "text/plain": [
       "<matplotlib.collections.PathCollection at 0x2aabdff25710>"
      ]
     },
     "execution_count": 50,
     "metadata": {},
     "output_type": "execute_result"
    },
    {
     "data": {
      "text/plain": [
       "<matplotlib.collections.PathCollection at 0x2aabdff252b0>"
      ]
     },
     "execution_count": 50,
     "metadata": {},
     "output_type": "execute_result"
    },
    {
     "data": {
      "text/plain": [
       "'plt.scatter(test_label[:,0]*age_std+age_mean,test_pred[5,:,0]*age_std+age_mean)\\nplt.scatter(test_label[:,0]*age_std+age_mean,test_pred[6,:,0]*age_std+age_mean)\\nplt.scatter(test_label[:,0]*age_std+age_mean,test_pred[7,:,0]*age_std+age_mean)\\nplt.scatter(test_label[:,0]*age_std+age_mean,test_pred[8,:,0]*age_std+age_mean)\\nplt.scatter(test_label[:,0]*age_std+age_mean,test_pred[9,:,0]*age_std+age_mean)'"
      ]
     },
     "execution_count": 50,
     "metadata": {},
     "output_type": "execute_result"
    },
    {
     "data": {
      "image/png": "[encoded data removed]",
      "text/plain": [
       "<Figure size 480x480 with 1 Axes>"
      ]
     },
     "metadata": {
      "needs_background": "light"
     },
     "output_type": "display_data"
    }
   ],
   "source": [
    "plt.figure(figsize=(6, 6), dpi=80)\n",
    "plt.scatter(test_label[:,0]*age_std+age_mean,test_pred[0,:,0]*age_std+age_mean)\n",
    "plt.scatter(test_label[:,0]*age_std+age_mean,test_pred[1,:,0]*age_std+age_mean)\n",
    "plt.scatter(test_label[:,0]*age_std+age_mean,test_pred[2,:,0]*age_std+age_mean)\n",
    "plt.scatter(test_label[:,0]*age_std+age_mean,test_pred[3,:,0]*age_std+age_mean)\n",
    "plt.scatter(test_label[:,0]*age_std+age_mean,test_pred[4,:,0]*age_std+age_mean)\n",
    "\"\"\"plt.scatter(test_label[:,0]*age_std+age_mean,test_pred[5,:,0]*age_std+age_mean)\n",
    "plt.scatter(test_label[:,0]*age_std+age_mean,test_pred[6,:,0]*age_std+age_mean)\n",
    "plt.scatter(test_label[:,0]*age_std+age_mean,test_pred[7,:,0]*age_std+age_mean)\n",
    "plt.scatter(test_label[:,0]*age_std+age_mean,test_pred[8,:,0]*age_std+age_mean)\n",
    "plt.scatter(test_label[:,0]*age_std+age_mean,test_pred[9,:,0]*age_std+age_mean)\"\"\"\n",
    "plt.grid()\n",
    "plt.show()"
   ]
  },
  {
   "cell_type": "code",
   "execution_count": 51,
   "id": "substantial-pavilion",
   "metadata": {},
   "outputs": [
    {
     "data": {
      "text/plain": [
       "LinearRegression()"
      ]
     },
     "execution_count": 51,
     "metadata": {},
     "output_type": "execute_result"
    },
    {
     "data": {
      "text/plain": [
       "<Figure size 480x480 with 0 Axes>"
      ]
     },
     "execution_count": 51,
     "metadata": {},
     "output_type": "execute_result"
    },
    {
     "data": {
      "text/plain": [
       "<matplotlib.collections.PathCollection at 0x2aabf9503d68>"
      ]
     },
     "execution_count": 51,
     "metadata": {},
     "output_type": "execute_result"
    },
    {
     "data": {
      "text/plain": [
       "[<matplotlib.lines.Line2D at 0x2aabd2a58668>]"
      ]
     },
     "execution_count": 51,
     "metadata": {},
     "output_type": "execute_result"
    },
    {
     "data": {
      "text/plain": [
       "Text(0.5, 1.0, 'Regression Line')"
      ]
     },
     "execution_count": 51,
     "metadata": {},
     "output_type": "execute_result"
    },
    {
     "data": {
      "text/plain": [
       "Text(0.5, 0, 'chronological age')"
      ]
     },
     "execution_count": 51,
     "metadata": {},
     "output_type": "execute_result"
    },
    {
     "data": {
      "text/plain": [
       "Text(0, 0.5, 'predicted age')"
      ]
     },
     "execution_count": 51,
     "metadata": {},
     "output_type": "execute_result"
    },
    {
     "data": {
      "image/png": "[encoded data removed]",
      "text/plain": [
       "<Figure size 480x480 with 1 Axes>"
      ]
     },
     "metadata": {
      "needs_background": "light"
     },
     "output_type": "display_data"
    },
    {
     "data": {
      "text/plain": [
       "array([[1.        , 0.56646792],\n",
       "       [0.56646792, 1.        ]])"
      ]
     },
     "execution_count": 51,
     "metadata": {},
     "output_type": "execute_result"
    },
    {
     "name": "stdout",
     "output_type": "stream",
     "text": [
      "r^2 train data:  0.30278364345625164\n",
      "切片: 42.73002695708563\n",
      "傾き: [0.30254607]\n"
     ]
    }
   ],
   "source": [
    "test_pred_mean = test_pred.mean(axis=0)\n",
    "lr = LinearRegression()\n",
    "lr.fit(test_label*age_std+age_mean,test_pred_mean[:,0]*age_std+age_mean)\n",
    "\n",
    "plt.figure(figsize=(6, 6), dpi=80)\n",
    "plt.scatter(test_label[:,0]*age_std+age_mean,test_pred_mean[:,0]*age_std+age_mean)# 説明変数と目的変数のデータ点の散布図をプロット\n",
    "plt.plot(test_label[:,0]*age_std+age_mean,lr.predict(test_label*age_std+age_mean), color = 'red') # 回帰直線をプロット\n",
    "\n",
    "plt.title('Regression Line') # 図のタイトル\n",
    "plt.xlabel('chronological age')            # x軸のラベル\n",
    "plt.ylabel('predicted age')    # y軸のラベル\n",
    "plt.grid()                   # グリッド線を表示\n",
    "plt.show()                   # 図の表示\n",
    "\n",
    "np.corrcoef(test_label[:,0],test_pred_mean[:,0])\n",
    "print('r^2 train data: ', r2_score(test_label[:,0],test_pred_mean[:,0]))\n",
    "print('切片:', lr.intercept_)\n",
    "print('傾き:', lr.coef_)"
   ]
  },
  {
   "cell_type": "code",
   "execution_count": 52,
   "id": "mental-upper",
   "metadata": {},
   "outputs": [
    {
     "data": {
      "text/plain": [
       "<Figure size 480x480 with 0 Axes>"
      ]
     },
     "execution_count": 52,
     "metadata": {},
     "output_type": "execute_result"
    },
    {
     "data": {
      "text/plain": [
       "<matplotlib.collections.PathCollection at 0x2aabd29f3710>"
      ]
     },
     "execution_count": 52,
     "metadata": {},
     "output_type": "execute_result"
    },
    {
     "data": {
      "text/plain": [
       "array([[1.        , 0.20806239],\n",
       "       [0.20806239, 1.        ]])"
      ]
     },
     "execution_count": 52,
     "metadata": {},
     "output_type": "execute_result"
    },
    {
     "data": {
      "image/png": "[encoded data removed]",
      "text/plain": [
       "<Figure size 480x480 with 1 Axes>"
      ]
     },
     "metadata": {
      "needs_background": "light"
     },
     "output_type": "display_data"
    }
   ],
   "source": [
    "diff = test_pred_mean[:,0]*age_std - test_label[:,0]*age_std\n",
    "_, _, _, label_ = train_test_split(data_aal,data_label, train_size = 0.8,shuffle=False)\n",
    "\n",
    "plt.figure(figsize=(6, 6), dpi=80)\n",
    "plt.scatter(label_[:,2],diff)\n",
    "np.corrcoef(label_[:,2],diff)"
   ]
  },
  {
   "cell_type": "code",
   "execution_count": null,
   "id": "cloudy-forwarding",
   "metadata": {},
   "outputs": [],
   "source": []
  }
 ],
 "metadata": {
  "kernelspec": {
   "display_name": "Python 3",
   "language": "python",
   "name": "python3"
  },
  "language_info": {
   "codemirror_mode": {
    "name": "ipython",
    "version": 3
   },
   "file_extension": ".py",
   "mimetype": "text/x-python",
   "name": "python",
   "nbconvert_exporter": "python",
   "pygments_lexer": "ipython3",
   "version": "3.6.5"
  }
 },
 "nbformat": 4,
 "nbformat_minor": 5
}
