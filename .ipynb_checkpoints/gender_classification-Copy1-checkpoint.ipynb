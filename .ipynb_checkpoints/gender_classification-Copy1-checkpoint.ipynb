{
 "cells": [
  {
   "cell_type": "markdown",
   "id": "surface-volume",
   "metadata": {},
   "source": [
    "## Transfomer\n",
    "nn.init"
   ]
  },
  {
   "cell_type": "code",
   "execution_count": 11,
   "id": "organic-pioneer",
   "metadata": {},
   "outputs": [
    {
     "data": {
      "text/plain": [
       "'%%bash\\npython3 -m pip install --user torch\\npython3 -m pip install --user scikit-learn\\npython3 -m pip install --user imblearn'"
      ]
     },
     "execution_count": 11,
     "metadata": {},
     "output_type": "execute_result"
    }
   ],
   "source": [
    "\"\"\"%%bash\n",
    "python3 -m pip install --user torch\n",
    "python3 -m pip install --user scikit-learn\n",
    "python3 -m pip install --user imblearn\"\"\""
   ]
  },
  {
   "cell_type": "code",
   "execution_count": 12,
   "id": "guided-atlantic",
   "metadata": {},
   "outputs": [
    {
     "data": {
      "text/plain": [
       "1"
      ]
     },
     "execution_count": 12,
     "metadata": {},
     "output_type": "execute_result"
    }
   ],
   "source": [
    "from IPython.core.interactiveshell import InteractiveShell\n",
    "InteractiveShell.ast_node_interactivity = 'all'\n",
    "\n",
    "import numpy as np\n",
    "import pandas as pd\n",
    "import random\n",
    "import matplotlib.pyplot as plt\n",
    "from sklearn.model_selection import train_test_split\n",
    "\n",
    "import torch\n",
    "import torch.nn as nn\n",
    "\n",
    "device = torch.device('cuda' if torch.cuda.is_available() else 'cpu')\n",
    "torch.cuda.device_count()\n",
    "#torch.set_default_tensor_type('torch.cuda.FloatTensor')"
   ]
  },
  {
   "cell_type": "markdown",
   "id": "polished-workplace",
   "metadata": {},
   "source": [
    "## Data定義"
   ]
  },
  {
   "cell_type": "code",
   "execution_count": 13,
   "id": "broadband-portugal",
   "metadata": {},
   "outputs": [
    {
     "name": "stdout",
     "output_type": "stream",
     "text": [
      "CPU times: user 3.08 s, sys: 144 ms, total: 3.22 s\n",
      "Wall time: 3.23 s\n"
     ]
    }
   ],
   "source": [
    "%%time\n",
    "#6分ぐらいかかる\n",
    "df_aal = pd.read_csv('../02_data_analysis/roi_timeseries/timeseries_aal.csv')\n",
    "df_ho = pd.read_csv('../02_data_analysis/roi_timeseries/timeseries_ho.csv')\n",
    "\n",
    "#df_dynamic_aal = pd.read_csv('../02_data_analysis/dynamic_FC/dynamic_aal.csv')\n",
    "#df_dynamic_ho = pd.read_csv('../02_data_analysis/dynamic_FC/dynamic_ho.csv')\n",
    "\n",
    "df_subjects_info = pd.read_csv('../02_data_analysis/subjects_info/subjects_info.csv')"
   ]
  },
  {
   "cell_type": "code",
   "execution_count": 14,
   "id": "imperial-isaac",
   "metadata": {},
   "outputs": [],
   "source": [
    "def make_info_data(df = df_subjects_info,col = ['Age','Sex','やる気スコア(Apathy scale)']):\n",
    "    subID = np.array(df.subID)\n",
    "    subjects_info_list = []\n",
    "    for ID in subID:\n",
    "        data = np.array(df[df.subID == ID][col])[0]\n",
    "        if 'Sex' in col:\n",
    "            idx = col.index('Sex')\n",
    "            if data[idx] == '男':\n",
    "                data[idx] = 0\n",
    "            else:\n",
    "                data[idx] = 1\n",
    "        subjects_info_list.append(data)\n",
    "    subjects_info = np.array(subjects_info_list)\n",
    "    \n",
    "    for i in range(len(col)):\n",
    "        if i == idx:\n",
    "            continue\n",
    "        else:\n",
    "            subjects_info[:,i] = (subjects_info[:,i] - np.mean(subjects_info[:,i]))/np.std(subjects_info[:,i])\n",
    "    return subjects_info.astype(np.float)\n",
    "\n",
    "def make_data(df, subID = df_subjects_info.subID ,remove_list = ['time','subID']):\n",
    "    data_list = []\n",
    "    df_cols = list(df.columns)\n",
    "    for r in remove_list:\n",
    "        try:\n",
    "            df_cols.remove(r)\n",
    "        except:\n",
    "            pass\n",
    "    for ID in df_subjects_info.subID:\n",
    "        data = df[df.subID == ID][df_cols]\n",
    "        data = np.array(data)\n",
    "        data_list.append(data)\n",
    "    data = np.array(data_list)\n",
    "    return data"
   ]
  },
  {
   "cell_type": "code",
   "execution_count": 15,
   "id": "stunning-absence",
   "metadata": {},
   "outputs": [
    {
     "name": "stdout",
     "output_type": "stream",
     "text": [
      "CPU times: user 10.1 s, sys: 32.3 ms, total: 10.1 s\n",
      "Wall time: 10.1 s\n"
     ]
    },
    {
     "data": {
      "text/plain": [
       "(615, 140, 110)"
      ]
     },
     "execution_count": 15,
     "metadata": {},
     "output_type": "execute_result"
    }
   ],
   "source": [
    "%%time\n",
    "data_label = make_info_data()\n",
    "data_aal = make_data(df_aal)\n",
    "data_ho = make_data(df_ho)\n",
    "\n",
    "data_label.shape\n",
    "data_aal.shape\n",
    "data_ho.shape"
   ]
  },
  {
   "cell_type": "code",
   "execution_count": 16,
   "id": "environmental-inflation",
   "metadata": {},
   "outputs": [
    {
     "data": {
      "text/plain": [
       "'%%time\\n#30秒ぐらいかかる\\ndata_dynamic_aal = make_data(df_dynamic_aal)\\ndata_dynamic_ho = make_data(df_dynamic_ho)\\n\\ndata_dynamic_aal.shape\\ndata_dynamic_ho.shape'"
      ]
     },
     "execution_count": 16,
     "metadata": {},
     "output_type": "execute_result"
    }
   ],
   "source": [
    "\"\"\"%%time\n",
    "#30秒ぐらいかかる\n",
    "data_dynamic_aal = make_data(df_dynamic_aal)\n",
    "data_dynamic_ho = make_data(df_dynamic_ho)\n",
    "\n",
    "data_dynamic_aal.shape\n",
    "data_dynamic_ho.shape\"\"\""
   ]
  },
  {
   "cell_type": "markdown",
   "id": "protective-blame",
   "metadata": {},
   "source": [
    "## Model作成"
   ]
  },
  {
   "cell_type": "code",
   "execution_count": 17,
   "id": "convenient-playlist",
   "metadata": {},
   "outputs": [
    {
     "data": {
      "text/plain": [
       "'class Model(nn.Module):\\n    def __init__(self,input_dim,hidden_dim,time_len,nhead,output_dim,hidden_dim_transformer):\\n        super(Model, self).__init__()\\n        self.fc0  = nn.Linear(input_dim,hidden_dim)\\n        self.pos  = PositionalEncoding(d_model = hidden_dim,dropout=0.)\\n        self.transformer_encoder_layer = nn.TransformerEncoderLayer(hidden_dim,nhead,dropout=0.)\\n        self.transformer_encoder       = nn.TransformerEncoder(self.transformer_encoder_layer,\\n                                                               num_layers=hidden_dim_transformer)\\n        self.fc1  = nn.Linear(hidden_dim,1)\\n        self.fc2  = nn.Linear(time_len,1)\\n        self.sigmoid = nn.Sigmoid()\\n        self.time_len = time_len\\n        \\n    def forward(self,x):\\n        x = self.fc0(x)\\n        x = self.pos(x)\\n        x = self.transformer_encoder(x)\\n        x = self.fc1(x)\\n        x = torch.reshape(x, (-1, self.time_len))\\n        x = self.fc2(x)\\n        x = torch.reshape(x, (-1, 1))\\n        x = self.sigmoid(x)\\n        return x'"
      ]
     },
     "execution_count": 17,
     "metadata": {},
     "output_type": "execute_result"
    }
   ],
   "source": [
    "import math\n",
    "class PositionalEncoding(nn.Module):\n",
    "\n",
    "    def __init__(self, d_model: int, dropout: float = 0.1, max_len: int = 5000):\n",
    "        super(PositionalEncoding, self).__init__()\n",
    "        \n",
    "        self.dropout = nn.Dropout(p=dropout)\n",
    "        # Not a parameter\n",
    "        self.register_buffer('pe', self._pe_table(d_model, max_len))\n",
    "\n",
    "    def _pe_table(self, d_model: int, max_len: int) -> torch.Tensor:\n",
    "        pos = torch.arange(0, max_len).unsqueeze(1)\n",
    "        pe_denominator = torch.exp(\n",
    "            torch.arange(0, d_model, 2) * math.log(10000) / d_model\n",
    "        )\n",
    "\n",
    "        pe = torch.zeros(max_len, d_model)\n",
    "        pe[:, 0::2] = torch.sin(pos / pe_denominator)  # 偶数項にはsin\n",
    "        pe[:, 1::2] = torch.cos(pos / pe_denominator)  # 奇数項にはcos\n",
    "\n",
    "        pe = pe.unsqueeze(0)  # バッチに対応するため\n",
    "        return pe\n",
    "\n",
    "    def forward(self, x: torch.Tensor) -> torch.Tensor:\n",
    "        return self.dropout(x + self.pe[:, :x.size(1)].clone().detach())\n",
    "    \n",
    "class Model(nn.Module):    \n",
    "    def __init__(self,input_dim,hidden_dim,time_len,nhead,output_dim,hidden_dim_transformer):\n",
    "        super(Model, self).__init__()\n",
    "        self.fc   = nn.Linear(input_dim,hidden_dim)\n",
    "        self.pos  = PositionalEncoding(d_model = hidden_dim,dropout=0.1)\n",
    "        self.transformer_encoder_layer = nn.TransformerEncoderLayer(hidden_dim,nhead,dropout=0.1)\n",
    "        self.transformer_encoder       = nn.TransformerEncoder(self.transformer_encoder_layer,\n",
    "                                                               num_layers=hidden_dim_transformer)\n",
    "        self.sigmoid = nn.Sigmoid()\n",
    "        \n",
    "    def forward(self,x):\n",
    "        x = self.fc(x)\n",
    "        x = self.pos(x)\n",
    "        x = self.transformer_encoder(x)\n",
    "        x = torch.mean(x,axis=2)\n",
    "        x = torch.mean(x,axis=1)\n",
    "        x = torch.reshape(x, (-1, 1))\n",
    "        x = self.sigmoid(x)\n",
    "        return x\n",
    "\n",
    "\n",
    "class Model(nn.Module):\n",
    "    def __init__(self,input_dim,hidden_dim,time_len,nhead,output_dim,hidden_dim_transformer):\n",
    "        super(Model, self).__init__()\n",
    "        self.fc0  = nn.Linear(input_dim,hidden_dim)\n",
    "        self.pos  = PositionalEncoding(d_model = hidden_dim,dropout=0.5)\n",
    "        self.transformer_encoder_layer = nn.TransformerEncoderLayer(hidden_dim,nhead,dropout=0.5)\n",
    "        self.transformer_encoder       = nn.TransformerEncoder(self.transformer_encoder_layer,\n",
    "                                                               num_layers=hidden_dim_transformer)\n",
    "        self.fc1  = nn.Linear(hidden_dim,1)\n",
    "        #nn.init.uniform_(self.fc1.weight, 0.5, 1.0)\n",
    "        #nn.init.ones_(self.fc1.weight)\n",
    "        nn.init.constant_(self.fc1.weight, 1/len(self.fc1.weight[0]))\n",
    "        nn.init.zeros_(self.fc1.bias)\n",
    "        self.sigmoid = nn.Sigmoid()\n",
    "        self.time_len = time_len\n",
    "        self.hidden = hidden_dim\n",
    "        \n",
    "    def forward(self,x):\n",
    "        x = self.fc0(x)\n",
    "        x = self.pos(x)\n",
    "        x = self.transformer_encoder(x)\n",
    "        x = torch.mean(x,axis=1)\n",
    "        x = torch.reshape(x, (-1, self.hidden))\n",
    "        x = self.fc1(x)\n",
    "        x = torch.reshape(x, (-1, 1))\n",
    "        x = self.sigmoid(x)\n",
    "        return x\n",
    "\n",
    "class MyDataset(torch.utils.data.Dataset):\n",
    "    def __init__(self, data, label=None):\n",
    "        self.data = data\n",
    "        self.label = label\n",
    "        self.test = label is None\n",
    "        self.length = data.shape[0]\n",
    "    def __len__(self):\n",
    "        return self.length\n",
    "    def __getitem__(self,idx):\n",
    "        if self.test:\n",
    "            data = torch.tensor(self.data[idx])\n",
    "            return data\n",
    "        else:\n",
    "            data = torch.tensor(self.data[idx])\n",
    "            label = torch.tensor(self.label[idx])\n",
    "            return data, label"
   ]
  },
  {
   "cell_type": "code",
   "execution_count": 18,
   "id": "artistic-geneva",
   "metadata": {},
   "outputs": [],
   "source": [
    "from imblearn.over_sampling import SMOTE\n",
    "\n",
    "#https://qiita.com/ryouta0506/items/619d9ac0d80f8c0aed92#%E3%82%AA%E3%83%BC%E3%83%90%E3%83%BC%E3%82%B5%E3%83%B3%E3%83%97%E3%83%AA%E3%83%B3%E3%82%B0\n",
    "#https://pimientito-handson-ml.hatenablog.com/entry/2019/10/15/014801"
   ]
  },
  {
   "cell_type": "code",
   "execution_count": 19,
   "id": "adult-checkout",
   "metadata": {},
   "outputs": [],
   "source": [
    "def train_model(data,label,epochs=1000,n_splits=5):\n",
    "    \n",
    "    epochs = epochs\n",
    "    seed = 0\n",
    "    \n",
    "    np.random.seed(seed)\n",
    "    random.seed(seed)\n",
    "    torch.manual_seed(seed)\n",
    "    torch.cuda.manual_seed(seed)\n",
    "    \n",
    "    label_gender = np.array([label[:,1]]).T\n",
    "    train_all, test, train_all_label, test_label = train_test_split(data,label_gender, train_size = 0.8 ,shuffle=False)\n",
    "    \n",
    "    test_dataset = MyDataset(test)\n",
    "    test_dataloader = torch.utils.data.DataLoader(test_dataset,batch_size=32)\n",
    "    \n",
    "    from sklearn.model_selection import KFold\n",
    "    kf = KFold(n_splits=n_splits)\n",
    "    test_pred_all = []\n",
    "    \n",
    "    for i, (train_index, val_index) in enumerate(kf.split(train_all)):\n",
    "        \n",
    "        early_stopping = 1e5\n",
    "        save_epochs = 0\n",
    "        \n",
    "        train_loss_plot = []\n",
    "        val_loss_plot = []\n",
    "        \n",
    "        train, train_label = train_all[train_index], train_all_label[train_index]\n",
    "        val,   val_label   = train_all[val_index],   train_all_label[val_index]\n",
    "        \n",
    "        input_dim  = train.shape[2]\n",
    "        hidden_dim = 8\n",
    "        time_len   = train.shape[1]\n",
    "        nhead      = 4\n",
    "        output_dim = train_label.shape[1]\n",
    "        hidden_dim_transformer = 1\n",
    "        \n",
    "        sm = SMOTE(random_state=42)\n",
    "        train, train_label = sm.fit_resample(train.reshape(train.shape[0],-1), train_label)\n",
    "        train = train.reshape(train.shape[0],time_len,input_dim)\n",
    "        train_label = train_label.reshape(train_label.shape[0],-1)\n",
    "        \n",
    "        train_dataset = MyDataset(train,train_label)\n",
    "        train_dataloader = torch.utils.data.DataLoader(train_dataset,batch_size=32,shuffle=True)\n",
    "\n",
    "        val_dataset = MyDataset(val,val_label)\n",
    "        val_dataloader = torch.utils.data.DataLoader(val_dataset,batch_size=32)\n",
    "        \n",
    "        model = Model(input_dim,hidden_dim,time_len,nhead,output_dim,hidden_dim_transformer).to(device)\n",
    "        \n",
    "        # 学習させるパラメータを、変数params_to_updateに格納する\n",
    "        params_to_update = []\n",
    "        # 学習させないパラメータ\n",
    "        update_param_names = [\"fc1.weight\", \"fc1.bias\"]\n",
    "        \n",
    "        # 学習させるパラメータ以外は勾配計算をなくし、変化しないように設定\n",
    "        for name, param in model.named_parameters():\n",
    "            if name in update_param_names:\n",
    "                param.requires_grad = False\n",
    "                print(name)\n",
    "                print(param)\n",
    "            else:\n",
    "                param.requires_grad = True\n",
    "                params_to_update.append(param)\n",
    "\n",
    "        criterion = nn.BCELoss()\n",
    "        optimizer = torch.optim.AdamW(params_to_update)\n",
    "\n",
    "        def compute_loss(y, t):\n",
    "            return criterion(y, t)\n",
    "\n",
    "        def train_step(x,t):\n",
    "            model.train()\n",
    "            preds = model(x)\n",
    "            loss = compute_loss(preds, t)\n",
    "            optimizer.zero_grad()\n",
    "            loss.backward()\n",
    "            optimizer.step()\n",
    "            return loss, preds\n",
    "\n",
    "        def val_step(x,t):\n",
    "            model.eval()\n",
    "            preds = model(x)\n",
    "            loss = compute_loss(preds, t)    \n",
    "            return loss, preds\n",
    "\n",
    "        def test_step(x):\n",
    "            model.eval()\n",
    "            preds = model(x)\n",
    "            return preds\n",
    "\n",
    "        for epoch in range(epochs):\n",
    "            train_loss = 0.\n",
    "            val_loss = 0.\n",
    "            \n",
    "            for (x, t) in train_dataloader:\n",
    "                x, t = x.to(device), t.to(device)\n",
    "                x = x.float()\n",
    "                t = t.float()\n",
    "                loss, preds = train_step(x,t)\n",
    "                train_loss += loss.item()\n",
    "            \n",
    "            for (x, t) in val_dataloader:\n",
    "                x, t = x.to(device), t.to(device)\n",
    "                x = x.float()\n",
    "                t = t.float()\n",
    "                loss, preds = val_step(x,t)\n",
    "                val_loss += loss.item()\n",
    "                \n",
    "            train_loss /= len(train_dataloader)\n",
    "            val_loss /= len(val_dataloader)\n",
    "            if (epoch+1) % 100 == 0:\n",
    "                print(f'Kfold: {i+1} ::: epoch: {epoch+1}, loss: {train_loss}, val loss: {val_loss}')\n",
    "            \n",
    "            if epoch+1 >=100:\n",
    "                if early_stopping >= val_loss:\n",
    "                    early_stopping = val_loss\n",
    "                    model_path = '../02_data_analysis/model/model_gender.pth'\n",
    "                    torch.save(model.state_dict(), model_path)\n",
    "                    save_epochs = epoch+1\n",
    "            \n",
    "            train_loss_plot.append(train_loss)\n",
    "            val_loss_plot.append(val_loss)\n",
    "        \n",
    "        model.load_state_dict(torch.load(model_path))\n",
    "        print(f'save_epochs:{save_epochs}')\n",
    "        \n",
    "        train_loss_plot = np.array(train_loss_plot)\n",
    "        val_loss_plot   = np.array(val_loss_plot)\n",
    "        x               = np.linspace(0, len(train_loss_plot), len(train_loss_plot))\n",
    "        \n",
    "        plt.plot(x, train_loss_plot, label=\"train loss\")\n",
    "        plt.plot(x, val_loss_plot, label=\"val loss\")\n",
    "        plt.grid()\n",
    "        plt.show()\n",
    "        \n",
    "        train_pred = []\n",
    "        train_label = []\n",
    "        \n",
    "        for (x, t) in train_dataloader:\n",
    "            x, t = x.to(device), t.to(device)\n",
    "            x = x.float()\n",
    "            t = t.float()\n",
    "            loss, preds = train_step(x,t)\n",
    "            train_pred.append(preds)\n",
    "            train_label.append(t)\n",
    "            \n",
    "        val_pred = []\n",
    "        for (x, t) in val_dataloader:\n",
    "            x, t = x.to(device), t.to(device)\n",
    "            x = x.float()\n",
    "            t = t.float()\n",
    "            loss, preds = val_step(x,t)\n",
    "            val_pred.append(preds)\n",
    "            \n",
    "        for name, param in model.named_parameters():\n",
    "            if name in update_param_names:\n",
    "                print(name)\n",
    "                print(param)\n",
    "        \n",
    "        train_pred = torch.cat(train_pred)\n",
    "        train_pred = train_pred.to('cpu').detach().numpy().copy()\n",
    "        \n",
    "        train_label = torch.cat(train_label)\n",
    "        train_label = train_label.to('cpu').detach().numpy().copy()\n",
    "        \n",
    "        val_pred = torch.cat(val_pred)\n",
    "        val_pred = val_pred.to('cpu').detach().numpy().copy()\n",
    "        \n",
    "        plt.scatter(train_label[:,0],np.array(train_pred[:,0]))\n",
    "        plt.show()\n",
    "        print(np.mean(train_label[:,0]))\n",
    "        print(np.corrcoef(train_label[:,0],np.array(train_pred[:,0])))\n",
    "        \n",
    "        plt.scatter(val_label[:,0],np.array(val_pred[:,0]))\n",
    "        plt.show()\n",
    "        print(np.corrcoef(val_label[:,0],np.array(val_pred[:,0])))\n",
    "                \n",
    "        test_pred = []\n",
    "        for x in test_dataloader:\n",
    "            x = x.to(device)\n",
    "            x = x.float()\n",
    "            preds = test_step(x)\n",
    "            test_pred.append(preds)\n",
    "        test_pred = torch.cat(test_pred)\n",
    "        test_pred = test_pred.to('cpu').detach().numpy().copy()\n",
    "        test_pred_all.append(test_pred)\n",
    "    return np.array(test_pred_all),test_label"
   ]
  },
  {
   "cell_type": "code",
   "execution_count": 20,
   "id": "suburban-circuit",
   "metadata": {},
   "outputs": [
    {
     "name": "stdout",
     "output_type": "stream",
     "text": [
      "fc1.weight\n",
      "Parameter containing:\n",
      "tensor([[ 0.2592,  0.0886,  0.2943, -0.2154,  0.2451,  0.1060, -0.1123, -0.2052]],\n",
      "       device='cuda:0')\n",
      "fc1.bias\n",
      "Parameter containing:\n",
      "tensor([0.3384], device='cuda:0')\n",
      "Kfold: 1 ::: epoch: 100, loss: 0.613990421478565, val loss: 0.6515210270881653\n",
      "Kfold: 1 ::: epoch: 200, loss: 0.5172936732952411, val loss: 0.6577328592538834\n",
      "Kfold: 1 ::: epoch: 300, loss: 0.4441925516495338, val loss: 0.6676182001829147\n",
      "Kfold: 1 ::: epoch: 400, loss: 0.3985432294698862, val loss: 0.6814964860677719\n",
      "Kfold: 1 ::: epoch: 500, loss: 0.3378059474321512, val loss: 0.6540766060352325\n",
      "save_epochs:251\n"
     ]
    },
    {
     "data": {
      "image/png": "[encoded data removed]",
      "text/plain": [
       "<Figure size 432x288 with 1 Axes>"
      ]
     },
     "metadata": {
      "needs_background": "light"
     },
     "output_type": "display_data"
    },
    {
     "name": "stdout",
     "output_type": "stream",
     "text": [
      "fc1.weight\n",
      "Parameter containing:\n",
      "tensor([[ 0.2592,  0.0886,  0.2943, -0.2154,  0.2451,  0.1060, -0.1123, -0.2052]],\n",
      "       device='cuda:0')\n",
      "fc1.bias\n",
      "Parameter containing:\n",
      "tensor([0.3384], device='cuda:0')\n"
     ]
    },
    {
     "data": {
      "image/png": "[encoded data removed]",
      "text/plain": [
       "<Figure size 432x288 with 1 Axes>"
      ]
     },
     "metadata": {
      "needs_background": "light"
     },
     "output_type": "display_data"
    },
    {
     "name": "stdout",
     "output_type": "stream",
     "text": [
      "0.5\n",
      "[[1.        0.7695984]\n",
      " [0.7695984 1.       ]]\n"
     ]
    },
    {
     "data": {
      "image/png": "[encoded data removed]",
      "text/plain": [
       "<Figure size 432x288 with 1 Axes>"
      ]
     },
     "metadata": {
      "needs_background": "light"
     },
     "output_type": "display_data"
    },
    {
     "name": "stdout",
     "output_type": "stream",
     "text": [
      "[[1.         0.33249926]\n",
      " [0.33249926 1.        ]]\n",
      "fc1.weight\n",
      "Parameter containing:\n",
      "tensor([[-0.3529, -0.0699, -0.1380, -0.0369, -0.2524, -0.1593,  0.2669, -0.3290]],\n",
      "       device='cuda:0')\n",
      "fc1.bias\n",
      "Parameter containing:\n",
      "tensor([-0.1828], device='cuda:0')\n",
      "Kfold: 2 ::: epoch: 100, loss: 0.6041321924754551, val loss: 0.6117094159126282\n",
      "Kfold: 2 ::: epoch: 200, loss: 0.5103571776832853, val loss: 0.5837923586368561\n"
     ]
    },
    {
     "ename": "KeyboardInterrupt",
     "evalue": "",
     "output_type": "error",
     "traceback": [
      "\u001b[0;31m---------------------------------------------------------------------------\u001b[0m",
      "\u001b[0;31mKeyboardInterrupt\u001b[0m                         Traceback (most recent call last)",
      "\u001b[0;32m<ipython-input-20-94d2cb6ef7fb>\u001b[0m in \u001b[0;36m<module>\u001b[0;34m\u001b[0m\n\u001b[0;32m----> 1\u001b[0;31m \u001b[0mtest_pred\u001b[0m\u001b[0;34m,\u001b[0m\u001b[0mtest_label\u001b[0m \u001b[0;34m=\u001b[0m \u001b[0mtrain_model\u001b[0m\u001b[0;34m(\u001b[0m\u001b[0mdata_aal\u001b[0m\u001b[0;34m,\u001b[0m\u001b[0mdata_label\u001b[0m\u001b[0;34m,\u001b[0m\u001b[0mepochs\u001b[0m\u001b[0;34m=\u001b[0m\u001b[0;36m500\u001b[0m\u001b[0;34m,\u001b[0m\u001b[0mn_splits\u001b[0m\u001b[0;34m=\u001b[0m\u001b[0;36m5\u001b[0m\u001b[0;34m)\u001b[0m\u001b[0;34m\u001b[0m\u001b[0m\n\u001b[0m",
      "\u001b[0;32m<ipython-input-19-65e05826bf03>\u001b[0m in \u001b[0;36mtrain_model\u001b[0;34m(data, label, epochs, n_splits)\u001b[0m\n\u001b[1;32m     95\u001b[0m             \u001b[0mval_loss\u001b[0m \u001b[0;34m=\u001b[0m \u001b[0;36m0.\u001b[0m\u001b[0;34m\u001b[0m\u001b[0m\n\u001b[1;32m     96\u001b[0m \u001b[0;34m\u001b[0m\u001b[0m\n\u001b[0;32m---> 97\u001b[0;31m             \u001b[0;32mfor\u001b[0m \u001b[0;34m(\u001b[0m\u001b[0mx\u001b[0m\u001b[0;34m,\u001b[0m \u001b[0mt\u001b[0m\u001b[0;34m)\u001b[0m \u001b[0;32min\u001b[0m \u001b[0mtrain_dataloader\u001b[0m\u001b[0;34m:\u001b[0m\u001b[0;34m\u001b[0m\u001b[0m\n\u001b[0m\u001b[1;32m     98\u001b[0m                 \u001b[0mx\u001b[0m\u001b[0;34m,\u001b[0m \u001b[0mt\u001b[0m \u001b[0;34m=\u001b[0m \u001b[0mx\u001b[0m\u001b[0;34m.\u001b[0m\u001b[0mto\u001b[0m\u001b[0;34m(\u001b[0m\u001b[0mdevice\u001b[0m\u001b[0;34m)\u001b[0m\u001b[0;34m,\u001b[0m \u001b[0mt\u001b[0m\u001b[0;34m.\u001b[0m\u001b[0mto\u001b[0m\u001b[0;34m(\u001b[0m\u001b[0mdevice\u001b[0m\u001b[0;34m)\u001b[0m\u001b[0;34m\u001b[0m\u001b[0m\n\u001b[1;32m     99\u001b[0m                 \u001b[0mx\u001b[0m \u001b[0;34m=\u001b[0m \u001b[0mx\u001b[0m\u001b[0;34m.\u001b[0m\u001b[0mfloat\u001b[0m\u001b[0;34m(\u001b[0m\u001b[0;34m)\u001b[0m\u001b[0;34m\u001b[0m\u001b[0m\n",
      "\u001b[0;32m~/.local/lib/python3.6/site-packages/torch/utils/data/dataloader.py\u001b[0m in \u001b[0;36m__next__\u001b[0;34m(self)\u001b[0m\n\u001b[1;32m    519\u001b[0m             \u001b[0;32mif\u001b[0m \u001b[0mself\u001b[0m\u001b[0;34m.\u001b[0m\u001b[0m_sampler_iter\u001b[0m \u001b[0;32mis\u001b[0m \u001b[0;32mNone\u001b[0m\u001b[0;34m:\u001b[0m\u001b[0;34m\u001b[0m\u001b[0m\n\u001b[1;32m    520\u001b[0m                 \u001b[0mself\u001b[0m\u001b[0;34m.\u001b[0m\u001b[0m_reset\u001b[0m\u001b[0;34m(\u001b[0m\u001b[0;34m)\u001b[0m\u001b[0;34m\u001b[0m\u001b[0m\n\u001b[0;32m--> 521\u001b[0;31m             \u001b[0mdata\u001b[0m \u001b[0;34m=\u001b[0m \u001b[0mself\u001b[0m\u001b[0;34m.\u001b[0m\u001b[0m_next_data\u001b[0m\u001b[0;34m(\u001b[0m\u001b[0;34m)\u001b[0m\u001b[0;34m\u001b[0m\u001b[0m\n\u001b[0m\u001b[1;32m    522\u001b[0m             \u001b[0mself\u001b[0m\u001b[0;34m.\u001b[0m\u001b[0m_num_yielded\u001b[0m \u001b[0;34m+=\u001b[0m \u001b[0;36m1\u001b[0m\u001b[0;34m\u001b[0m\u001b[0m\n\u001b[1;32m    523\u001b[0m             \u001b[0;32mif\u001b[0m \u001b[0mself\u001b[0m\u001b[0;34m.\u001b[0m\u001b[0m_dataset_kind\u001b[0m \u001b[0;34m==\u001b[0m \u001b[0m_DatasetKind\u001b[0m\u001b[0;34m.\u001b[0m\u001b[0mIterable\u001b[0m \u001b[0;32mand\u001b[0m\u001b[0;31m \u001b[0m\u001b[0;31m\\\u001b[0m\u001b[0;34m\u001b[0m\u001b[0m\n",
      "\u001b[0;32m~/.local/lib/python3.6/site-packages/torch/utils/data/dataloader.py\u001b[0m in \u001b[0;36m_next_data\u001b[0;34m(self)\u001b[0m\n\u001b[1;32m    559\u001b[0m     \u001b[0;32mdef\u001b[0m \u001b[0m_next_data\u001b[0m\u001b[0;34m(\u001b[0m\u001b[0mself\u001b[0m\u001b[0;34m)\u001b[0m\u001b[0;34m:\u001b[0m\u001b[0;34m\u001b[0m\u001b[0m\n\u001b[1;32m    560\u001b[0m         \u001b[0mindex\u001b[0m \u001b[0;34m=\u001b[0m \u001b[0mself\u001b[0m\u001b[0;34m.\u001b[0m\u001b[0m_next_index\u001b[0m\u001b[0;34m(\u001b[0m\u001b[0;34m)\u001b[0m  \u001b[0;31m# may raise StopIteration\u001b[0m\u001b[0;34m\u001b[0m\u001b[0m\n\u001b[0;32m--> 561\u001b[0;31m         \u001b[0mdata\u001b[0m \u001b[0;34m=\u001b[0m \u001b[0mself\u001b[0m\u001b[0;34m.\u001b[0m\u001b[0m_dataset_fetcher\u001b[0m\u001b[0;34m.\u001b[0m\u001b[0mfetch\u001b[0m\u001b[0;34m(\u001b[0m\u001b[0mindex\u001b[0m\u001b[0;34m)\u001b[0m  \u001b[0;31m# may raise StopIteration\u001b[0m\u001b[0;34m\u001b[0m\u001b[0m\n\u001b[0m\u001b[1;32m    562\u001b[0m         \u001b[0;32mif\u001b[0m \u001b[0mself\u001b[0m\u001b[0;34m.\u001b[0m\u001b[0m_pin_memory\u001b[0m\u001b[0;34m:\u001b[0m\u001b[0;34m\u001b[0m\u001b[0m\n\u001b[1;32m    563\u001b[0m             \u001b[0mdata\u001b[0m \u001b[0;34m=\u001b[0m \u001b[0m_utils\u001b[0m\u001b[0;34m.\u001b[0m\u001b[0mpin_memory\u001b[0m\u001b[0;34m.\u001b[0m\u001b[0mpin_memory\u001b[0m\u001b[0;34m(\u001b[0m\u001b[0mdata\u001b[0m\u001b[0;34m)\u001b[0m\u001b[0;34m\u001b[0m\u001b[0m\n",
      "\u001b[0;32m~/.local/lib/python3.6/site-packages/torch/utils/data/_utils/fetch.py\u001b[0m in \u001b[0;36mfetch\u001b[0;34m(self, possibly_batched_index)\u001b[0m\n\u001b[1;32m     42\u001b[0m     \u001b[0;32mdef\u001b[0m \u001b[0mfetch\u001b[0m\u001b[0;34m(\u001b[0m\u001b[0mself\u001b[0m\u001b[0;34m,\u001b[0m \u001b[0mpossibly_batched_index\u001b[0m\u001b[0;34m)\u001b[0m\u001b[0;34m:\u001b[0m\u001b[0;34m\u001b[0m\u001b[0m\n\u001b[1;32m     43\u001b[0m         \u001b[0;32mif\u001b[0m \u001b[0mself\u001b[0m\u001b[0;34m.\u001b[0m\u001b[0mauto_collation\u001b[0m\u001b[0;34m:\u001b[0m\u001b[0;34m\u001b[0m\u001b[0m\n\u001b[0;32m---> 44\u001b[0;31m             \u001b[0mdata\u001b[0m \u001b[0;34m=\u001b[0m \u001b[0;34m[\u001b[0m\u001b[0mself\u001b[0m\u001b[0;34m.\u001b[0m\u001b[0mdataset\u001b[0m\u001b[0;34m[\u001b[0m\u001b[0midx\u001b[0m\u001b[0;34m]\u001b[0m \u001b[0;32mfor\u001b[0m \u001b[0midx\u001b[0m \u001b[0;32min\u001b[0m \u001b[0mpossibly_batched_index\u001b[0m\u001b[0;34m]\u001b[0m\u001b[0;34m\u001b[0m\u001b[0m\n\u001b[0m\u001b[1;32m     45\u001b[0m         \u001b[0;32melse\u001b[0m\u001b[0;34m:\u001b[0m\u001b[0;34m\u001b[0m\u001b[0m\n\u001b[1;32m     46\u001b[0m             \u001b[0mdata\u001b[0m \u001b[0;34m=\u001b[0m \u001b[0mself\u001b[0m\u001b[0;34m.\u001b[0m\u001b[0mdataset\u001b[0m\u001b[0;34m[\u001b[0m\u001b[0mpossibly_batched_index\u001b[0m\u001b[0;34m]\u001b[0m\u001b[0;34m\u001b[0m\u001b[0m\n",
      "\u001b[0;32m~/.local/lib/python3.6/site-packages/torch/utils/data/_utils/fetch.py\u001b[0m in \u001b[0;36m<listcomp>\u001b[0;34m(.0)\u001b[0m\n\u001b[1;32m     42\u001b[0m     \u001b[0;32mdef\u001b[0m \u001b[0mfetch\u001b[0m\u001b[0;34m(\u001b[0m\u001b[0mself\u001b[0m\u001b[0;34m,\u001b[0m \u001b[0mpossibly_batched_index\u001b[0m\u001b[0;34m)\u001b[0m\u001b[0;34m:\u001b[0m\u001b[0;34m\u001b[0m\u001b[0m\n\u001b[1;32m     43\u001b[0m         \u001b[0;32mif\u001b[0m \u001b[0mself\u001b[0m\u001b[0;34m.\u001b[0m\u001b[0mauto_collation\u001b[0m\u001b[0;34m:\u001b[0m\u001b[0;34m\u001b[0m\u001b[0m\n\u001b[0;32m---> 44\u001b[0;31m             \u001b[0mdata\u001b[0m \u001b[0;34m=\u001b[0m \u001b[0;34m[\u001b[0m\u001b[0mself\u001b[0m\u001b[0;34m.\u001b[0m\u001b[0mdataset\u001b[0m\u001b[0;34m[\u001b[0m\u001b[0midx\u001b[0m\u001b[0;34m]\u001b[0m \u001b[0;32mfor\u001b[0m \u001b[0midx\u001b[0m \u001b[0;32min\u001b[0m \u001b[0mpossibly_batched_index\u001b[0m\u001b[0;34m]\u001b[0m\u001b[0;34m\u001b[0m\u001b[0m\n\u001b[0m\u001b[1;32m     45\u001b[0m         \u001b[0;32melse\u001b[0m\u001b[0;34m:\u001b[0m\u001b[0;34m\u001b[0m\u001b[0m\n\u001b[1;32m     46\u001b[0m             \u001b[0mdata\u001b[0m \u001b[0;34m=\u001b[0m \u001b[0mself\u001b[0m\u001b[0;34m.\u001b[0m\u001b[0mdataset\u001b[0m\u001b[0;34m[\u001b[0m\u001b[0mpossibly_batched_index\u001b[0m\u001b[0;34m]\u001b[0m\u001b[0;34m\u001b[0m\u001b[0m\n",
      "\u001b[0;32m<ipython-input-17-faf3c6e62edb>\u001b[0m in \u001b[0;36m__getitem__\u001b[0;34m(self, idx)\u001b[0m\n\u001b[1;32m    106\u001b[0m     \u001b[0;32mdef\u001b[0m \u001b[0m__len__\u001b[0m\u001b[0;34m(\u001b[0m\u001b[0mself\u001b[0m\u001b[0;34m)\u001b[0m\u001b[0;34m:\u001b[0m\u001b[0;34m\u001b[0m\u001b[0m\n\u001b[1;32m    107\u001b[0m         \u001b[0;32mreturn\u001b[0m \u001b[0mself\u001b[0m\u001b[0;34m.\u001b[0m\u001b[0mlength\u001b[0m\u001b[0;34m\u001b[0m\u001b[0m\n\u001b[0;32m--> 108\u001b[0;31m     \u001b[0;32mdef\u001b[0m \u001b[0m__getitem__\u001b[0m\u001b[0;34m(\u001b[0m\u001b[0mself\u001b[0m\u001b[0;34m,\u001b[0m\u001b[0midx\u001b[0m\u001b[0;34m)\u001b[0m\u001b[0;34m:\u001b[0m\u001b[0;34m\u001b[0m\u001b[0m\n\u001b[0m\u001b[1;32m    109\u001b[0m         \u001b[0;32mif\u001b[0m \u001b[0mself\u001b[0m\u001b[0;34m.\u001b[0m\u001b[0mtest\u001b[0m\u001b[0;34m:\u001b[0m\u001b[0;34m\u001b[0m\u001b[0m\n\u001b[1;32m    110\u001b[0m             \u001b[0mdata\u001b[0m \u001b[0;34m=\u001b[0m \u001b[0mtorch\u001b[0m\u001b[0;34m.\u001b[0m\u001b[0mtensor\u001b[0m\u001b[0;34m(\u001b[0m\u001b[0mself\u001b[0m\u001b[0;34m.\u001b[0m\u001b[0mdata\u001b[0m\u001b[0;34m[\u001b[0m\u001b[0midx\u001b[0m\u001b[0;34m]\u001b[0m\u001b[0;34m)\u001b[0m\u001b[0;34m\u001b[0m\u001b[0m\n",
      "\u001b[0;31mKeyboardInterrupt\u001b[0m: "
     ]
    }
   ],
   "source": [
    "test_pred,test_label = train_model(data_aal,data_label,epochs=500,n_splits=5)"
   ]
  },
  {
   "cell_type": "code",
   "execution_count": null,
   "id": "downtown-league",
   "metadata": {},
   "outputs": [],
   "source": [
    "plt.scatter(test_label[:,0],test_pred[0,:,0])\n",
    "np.corrcoef(test_label[:,0],test_pred[0,:,0])"
   ]
  },
  {
   "cell_type": "code",
   "execution_count": 179,
   "id": "duplicate-portuguese",
   "metadata": {},
   "outputs": [
    {
     "data": {
      "text/plain": [
       "<matplotlib.collections.PathCollection at 0x2aac013bdf60>"
      ]
     },
     "execution_count": 179,
     "metadata": {},
     "output_type": "execute_result"
    },
    {
     "data": {
      "text/plain": [
       "array([[1.        , 0.36639798],\n",
       "       [0.36639798, 1.        ]])"
      ]
     },
     "execution_count": 179,
     "metadata": {},
     "output_type": "execute_result"
    },
    {
     "data": {
      "image/png": "[encoded data removed]",
      "text/plain": [
       "<Figure size 432x288 with 1 Axes>"
      ]
     },
     "metadata": {
      "needs_background": "light"
     },
     "output_type": "display_data"
    }
   ],
   "source": [
    "plt.scatter(test_label[:,0],test_pred[1,:,0])\n",
    "np.corrcoef(test_label[:,0],test_pred[1,:,0])"
   ]
  },
  {
   "cell_type": "code",
   "execution_count": 180,
   "id": "collected-question",
   "metadata": {},
   "outputs": [
    {
     "data": {
      "text/plain": [
       "<matplotlib.collections.PathCollection at 0x2aac01ad99b0>"
      ]
     },
     "execution_count": 180,
     "metadata": {},
     "output_type": "execute_result"
    },
    {
     "data": {
      "text/plain": [
       "array([[1.        , 0.29415374],\n",
       "       [0.29415374, 1.        ]])"
      ]
     },
     "execution_count": 180,
     "metadata": {},
     "output_type": "execute_result"
    },
    {
     "data": {
      "image/png": "[encoded data removed]",
      "text/plain": [
       "<Figure size 432x288 with 1 Axes>"
      ]
     },
     "metadata": {
      "needs_background": "light"
     },
     "output_type": "display_data"
    }
   ],
   "source": [
    "plt.scatter(test_label[:,0],test_pred[2,:,0])\n",
    "np.corrcoef(test_label[:,0],test_pred[2,:,0])"
   ]
  },
  {
   "cell_type": "code",
   "execution_count": 181,
   "id": "demographic-american",
   "metadata": {},
   "outputs": [
    {
     "data": {
      "text/plain": [
       "<matplotlib.collections.PathCollection at 0x2aabdff6cc88>"
      ]
     },
     "execution_count": 181,
     "metadata": {},
     "output_type": "execute_result"
    },
    {
     "data": {
      "text/plain": [
       "array([[1.        , 0.28374282],\n",
       "       [0.28374282, 1.        ]])"
      ]
     },
     "execution_count": 181,
     "metadata": {},
     "output_type": "execute_result"
    },
    {
     "data": {
      "image/png": "[encoded data removed]",
      "text/plain": [
       "<Figure size 432x288 with 1 Axes>"
      ]
     },
     "metadata": {
      "needs_background": "light"
     },
     "output_type": "display_data"
    }
   ],
   "source": [
    "plt.scatter(test_label[:,0],test_pred[3,:,0])\n",
    "np.corrcoef(test_label[:,0],test_pred[3,:,0])"
   ]
  },
  {
   "cell_type": "code",
   "execution_count": 182,
   "id": "systematic-dating",
   "metadata": {},
   "outputs": [
    {
     "data": {
      "text/plain": [
       "<matplotlib.collections.PathCollection at 0x2aac01772a20>"
      ]
     },
     "execution_count": 182,
     "metadata": {},
     "output_type": "execute_result"
    },
    {
     "data": {
      "text/plain": [
       "array([[1.       , 0.3255373],\n",
       "       [0.3255373, 1.       ]])"
      ]
     },
     "execution_count": 182,
     "metadata": {},
     "output_type": "execute_result"
    },
    {
     "data": {
      "image/png": "[encoded data removed]",
      "text/plain": [
       "<Figure size 432x288 with 1 Axes>"
      ]
     },
     "metadata": {
      "needs_background": "light"
     },
     "output_type": "display_data"
    }
   ],
   "source": [
    "plt.scatter(test_label[:,0],test_pred[4,:,0])\n",
    "np.corrcoef(test_label[:,0],test_pred[4,:,0])"
   ]
  },
  {
   "cell_type": "code",
   "execution_count": 183,
   "id": "packed-month",
   "metadata": {},
   "outputs": [
    {
     "data": {
      "text/plain": [
       "<matplotlib.collections.PathCollection at 0x2aac018efdd8>"
      ]
     },
     "execution_count": 183,
     "metadata": {},
     "output_type": "execute_result"
    },
    {
     "data": {
      "text/plain": [
       "<matplotlib.collections.PathCollection at 0x2aac018ef898>"
      ]
     },
     "execution_count": 183,
     "metadata": {},
     "output_type": "execute_result"
    },
    {
     "data": {
      "text/plain": [
       "<matplotlib.collections.PathCollection at 0x2aac018efc88>"
      ]
     },
     "execution_count": 183,
     "metadata": {},
     "output_type": "execute_result"
    },
    {
     "data": {
      "text/plain": [
       "<matplotlib.collections.PathCollection at 0x2aac018efb38>"
      ]
     },
     "execution_count": 183,
     "metadata": {},
     "output_type": "execute_result"
    },
    {
     "data": {
      "text/plain": [
       "<matplotlib.collections.PathCollection at 0x2aac018efe10>"
      ]
     },
     "execution_count": 183,
     "metadata": {},
     "output_type": "execute_result"
    },
    {
     "data": {
      "image/png": "[encoded data removed]",
      "text/plain": [
       "<Figure size 432x288 with 1 Axes>"
      ]
     },
     "metadata": {
      "needs_background": "light"
     },
     "output_type": "display_data"
    }
   ],
   "source": [
    "plt.scatter(test_label[:,0],test_pred[0,:,0])\n",
    "plt.scatter(test_label[:,0],test_pred[1,:,0])\n",
    "plt.scatter(test_label[:,0],test_pred[2,:,0])\n",
    "plt.scatter(test_label[:,0],test_pred[3,:,0])\n",
    "plt.scatter(test_label[:,0],test_pred[4,:,0])"
   ]
  },
  {
   "cell_type": "code",
   "execution_count": 184,
   "id": "drawn-cinema",
   "metadata": {},
   "outputs": [
    {
     "data": {
      "text/plain": [
       "<matplotlib.collections.PathCollection at 0x2aac015da6d8>"
      ]
     },
     "execution_count": 184,
     "metadata": {},
     "output_type": "execute_result"
    },
    {
     "data": {
      "text/plain": [
       "array([[1.       , 0.4026985],\n",
       "       [0.4026985, 1.       ]])"
      ]
     },
     "execution_count": 184,
     "metadata": {},
     "output_type": "execute_result"
    },
    {
     "data": {
      "image/png": "[encoded data removed]",
      "text/plain": [
       "<Figure size 432x288 with 1 Axes>"
      ]
     },
     "metadata": {
      "needs_background": "light"
     },
     "output_type": "display_data"
    }
   ],
   "source": [
    "test_pred_mean = test_pred.mean(axis=0)\n",
    "plt.scatter(test_label[:,0],test_pred_mean[:,0])\n",
    "np.corrcoef(test_label[:,0],test_pred_mean[:,0])\n",
    "#0.46427031"
   ]
  },
  {
   "cell_type": "code",
   "execution_count": 185,
   "id": "applicable-freight",
   "metadata": {},
   "outputs": [
    {
     "name": "stdout",
     "output_type": "stream",
     "text": [
      "r^2 train data:  0.13893374421483662\n"
     ]
    }
   ],
   "source": [
    "from sklearn.metrics import r2_score\n",
    "\n",
    "print('r^2 train data: ', r2_score(test_label[:,0],test_pred_mean[:,0]))"
   ]
  },
  {
   "cell_type": "code",
   "execution_count": 186,
   "id": "sacred-hughes",
   "metadata": {},
   "outputs": [
    {
     "data": {
      "text/plain": [
       "LinearRegression()"
      ]
     },
     "execution_count": 186,
     "metadata": {},
     "output_type": "execute_result"
    }
   ],
   "source": [
    "from sklearn.linear_model import LinearRegression\n",
    "lr = LinearRegression()\n",
    "lr.fit(test_label,test_pred_mean[:,0])"
   ]
  },
  {
   "cell_type": "code",
   "execution_count": 187,
   "id": "human-playback",
   "metadata": {},
   "outputs": [
    {
     "data": {
      "text/plain": [
       "<matplotlib.collections.PathCollection at 0x2aac015e5e48>"
      ]
     },
     "execution_count": 187,
     "metadata": {},
     "output_type": "execute_result"
    },
    {
     "data": {
      "text/plain": [
       "[<matplotlib.lines.Line2D at 0x2aac0189cba8>]"
      ]
     },
     "execution_count": 187,
     "metadata": {},
     "output_type": "execute_result"
    },
    {
     "data": {
      "text/plain": [
       "Text(0.5, 1.0, 'Regression Line')"
      ]
     },
     "execution_count": 187,
     "metadata": {},
     "output_type": "execute_result"
    },
    {
     "data": {
      "text/plain": [
       "Text(0.5, 0, 'age')"
      ]
     },
     "execution_count": 187,
     "metadata": {},
     "output_type": "execute_result"
    },
    {
     "data": {
      "text/plain": [
       "Text(0, 0.5, 'age predict')"
      ]
     },
     "execution_count": 187,
     "metadata": {},
     "output_type": "execute_result"
    },
    {
     "data": {
      "image/png": "[encoded data removed]",
      "text/plain": [
       "<Figure size 432x288 with 1 Axes>"
      ]
     },
     "metadata": {
      "needs_background": "light"
     },
     "output_type": "display_data"
    }
   ],
   "source": [
    "plt.scatter(test_label[:,0],test_pred_mean[:,0])         # 説明変数と目的変数のデータ点の散布図をプロット\n",
    "plt.plot(test_label[:,0], lr.predict(test_label), color = 'red') # 回帰直線をプロット\n",
    "\n",
    "plt.title('Regression Line')               # 図のタイトル\n",
    "plt.xlabel('age') # x軸のラベル\n",
    "plt.ylabel('age predict')    # y軸のラベル\n",
    "plt.grid()                                 # グリッド線を表示\n",
    "\n",
    "plt.show()                                 # 図の表示"
   ]
  },
  {
   "cell_type": "code",
   "execution_count": 188,
   "id": "likely-recycling",
   "metadata": {},
   "outputs": [],
   "source": [
    "diff = test_pred_mean[:,0] - lr.predict(test_label)"
   ]
  },
  {
   "cell_type": "code",
   "execution_count": 189,
   "id": "champion-chemical",
   "metadata": {},
   "outputs": [],
   "source": [
    "_, _, _, label_ = train_test_split(data_aal,data_label, train_size = 0.8 ,shuffle=False)"
   ]
  },
  {
   "cell_type": "code",
   "execution_count": 190,
   "id": "current-recall",
   "metadata": {},
   "outputs": [
    {
     "data": {
      "text/plain": [
       "<matplotlib.collections.PathCollection at 0x2aac0191ea58>"
      ]
     },
     "execution_count": 190,
     "metadata": {},
     "output_type": "execute_result"
    },
    {
     "data": {
      "text/plain": [
       "array([[ 1.        , -0.03868622],\n",
       "       [-0.03868622,  1.        ]])"
      ]
     },
     "execution_count": 190,
     "metadata": {},
     "output_type": "execute_result"
    },
    {
     "data": {
      "image/png": "[encoded data removed]",
      "text/plain": [
       "<Figure size 432x288 with 1 Axes>"
      ]
     },
     "metadata": {
      "needs_background": "light"
     },
     "output_type": "display_data"
    }
   ],
   "source": [
    "plt.scatter(label_[:,2],diff)\n",
    "np.corrcoef(label_[:,2],diff)"
   ]
  },
  {
   "cell_type": "code",
   "execution_count": 191,
   "id": "willing-davis",
   "metadata": {},
   "outputs": [
    {
     "data": {
      "text/plain": [
       "0.47885665"
      ]
     },
     "execution_count": 191,
     "metadata": {},
     "output_type": "execute_result"
    }
   ],
   "source": [
    "np.mean(test_pred_mean[:,0])"
   ]
  },
  {
   "cell_type": "code",
   "execution_count": 192,
   "id": "technological-skirt",
   "metadata": {},
   "outputs": [
    {
     "data": {
      "text/plain": [
       "0.46774193548387094"
      ]
     },
     "execution_count": 192,
     "metadata": {},
     "output_type": "execute_result"
    }
   ],
   "source": [
    "np.mean(test_label[:,0])"
   ]
  },
  {
   "cell_type": "code",
   "execution_count": null,
   "id": "wrapped-taxation",
   "metadata": {},
   "outputs": [],
   "source": []
  }
 ],
 "metadata": {
  "kernelspec": {
   "display_name": "Python 3",
   "language": "python",
   "name": "python3"
  },
  "language_info": {
   "codemirror_mode": {
    "name": "ipython",
    "version": 3
   },
   "file_extension": ".py",
   "mimetype": "text/x-python",
   "name": "python",
   "nbconvert_exporter": "python",
   "pygments_lexer": "ipython3",
   "version": "3.6.5"
  }
 },
 "nbformat": 4,
 "nbformat_minor": 5
}
