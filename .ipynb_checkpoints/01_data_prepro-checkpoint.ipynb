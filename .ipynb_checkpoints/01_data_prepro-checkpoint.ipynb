{
 "cells": [
  {
   "cell_type": "markdown",
   "id": "public-execution",
   "metadata": {},
   "source": [
    "# Data Prepro\n",
    "CPACでPreProしたものは複数回被験者がいない\\\n",
    "CPACのPreProにいて、RevisedNew_Shimane3TsubjectsData.xlsxにいない被験者が１名(D6115)\\\n",
    "1回被験者でCPACにいない被験者が2名(D5389,D6190)\\\n",
    "すべてを考慮した結果被験者は616名"
   ]
  },
  {
   "cell_type": "markdown",
   "id": "introductory-insurance",
   "metadata": {},
   "source": [
    "## Install and Import"
   ]
  },
  {
   "cell_type": "code",
   "execution_count": 1,
   "id": "cognitive-contest",
   "metadata": {},
   "outputs": [
    {
     "data": {
      "text/plain": [
       "'%%bash\\npython3 -m pip install --user numpy\\npython3 -m pip install --user pandas\\npython3 -m pip install --user tqdm\\npython3 -m pip install --user ipywidgets\\npython3 -m pip install --user matplotlib\\npython3 -m pip install --user xlrd\\npython3 -m pip install --user openpyxl'"
      ]
     },
     "execution_count": 1,
     "metadata": {},
     "output_type": "execute_result"
    }
   ],
   "source": [
    "\"\"\"%%bash\n",
    "python3 -m pip install --user numpy\n",
    "python3 -m pip install --user pandas\n",
    "python3 -m pip install --user tqdm\n",
    "python3 -m pip install --user ipywidgets\n",
    "python3 -m pip install --user matplotlib\n",
    "python3 -m pip install --user xlrd\n",
    "python3 -m pip install --user openpyxl\"\"\""
   ]
  },
  {
   "cell_type": "code",
   "execution_count": 2,
   "id": "subjective-giving",
   "metadata": {},
   "outputs": [],
   "source": [
    "import numpy as np\n",
    "import pandas as pd\n",
    "import matplotlib.pyplot as plt\n",
    "from pathlib import Path\n",
    "from tqdm.notebook import tqdm\n",
    "\n",
    "from IPython.core.interactiveshell import InteractiveShell\n",
    "InteractiveShell.ast_node_interactivity = 'all'"
   ]
  },
  {
   "cell_type": "markdown",
   "id": "optional-penalty",
   "metadata": {},
   "source": [
    "## Data load"
   ]
  },
  {
   "cell_type": "markdown",
   "id": "south-pharmacology",
   "metadata": {},
   "source": [
    "### time series data load"
   ]
  },
  {
   "cell_type": "code",
   "execution_count": 3,
   "id": "private-charge",
   "metadata": {},
   "outputs": [],
   "source": [
    "#ファイル名からcsvファイルを取得＋subIDを付加\n",
    "def file2df(data_files):\n",
    "    df_list = []\n",
    "    for t in tqdm(data_files):\n",
    "        df_temp = pd.read_csv(t,header = 1)\n",
    "        \n",
    "        t_ = str(t)\n",
    "        fd0000 = t_.find('0000')\n",
    "        fdD    = t_.find('D',fd0000)\n",
    "        fd_    = t_.find('_',fd0000)\n",
    "        \n",
    "        s = t_[fdD:fd_]\n",
    "        df_temp.insert(0,'subID',s)\n",
    "        \n",
    "        df_list.append(df_temp)\n",
    "    return pd.concat(df_list)\n",
    "\n",
    "#columnsに付いている無駄なスペースを削除\n",
    "def rem_space_columns(df):\n",
    "    lis_new = []\n",
    "    for i in df.columns:\n",
    "        lis_new.append(i.replace(' ',''))\n",
    "    df.set_axis(lis_new, axis='columns',inplace = True)\n",
    "    #df.rename(columns={key:val for key, val in zip(df.columns,lis_new)},inplace = True) \n",
    "    return df"
   ]
  },
  {
   "cell_type": "code",
   "execution_count": 4,
   "id": "elegant-genetics",
   "metadata": {},
   "outputs": [],
   "source": [
    "data_path = Path('../01_data/roi_timeseries')\n",
    "\n",
    "data_files_aal = (data_path).rglob('_selector_CSF-2mm-M_aC-CSF+WM-2mm-DPC5_M-SDB_P-2_BP-B0.01-T0.1/\\\n",
    "_mask_aal_mask_pad_mask_file_..resources..aal_mask_pad.nii.gz/roi_stats.csv')\n",
    "\n",
    "data_files_ho = (data_path).rglob('_selector_CSF-2mm-M_aC-CSF+WM-2mm-DPC5_M-SDB_P-2_BP-B0.01-T0.1/\\\n",
    "_mask_ho_mask_pad_mask_file_..resources..ho_mask_pad.nii.gz/roi_stats.csv')"
   ]
  },
  {
   "cell_type": "code",
   "execution_count": 5,
   "id": "aware-daily",
   "metadata": {},
   "outputs": [
    {
     "data": {
      "application/vnd.jupyter.widget-view+json": {
       "model_id": "7c6e57d0147b4345b9ed3b6271889169",
       "version_major": 2,
       "version_minor": 0
      },
      "text/plain": [
       "0it [00:00, ?it/s]"
      ]
     },
     "metadata": {},
     "output_type": "display_data"
    },
    {
     "data": {
      "application/vnd.jupyter.widget-view+json": {
       "model_id": "c7c36c541330449ea09ff8aba506eef5",
       "version_major": 2,
       "version_minor": 0
      },
      "text/plain": [
       "0it [00:00, ?it/s]"
      ]
     },
     "metadata": {},
     "output_type": "display_data"
    }
   ],
   "source": [
    "df_aal = file2df(data_files_aal)\n",
    "df_aal = rem_space_columns(df_aal)\n",
    "df_aal.reset_index(inplace=True)\n",
    "\n",
    "df_ho = file2df(data_files_ho)\n",
    "df_ho = rem_space_columns(df_ho)\n",
    "df_ho.reset_index(inplace=True)"
   ]
  },
  {
   "cell_type": "code",
   "execution_count": 6,
   "id": "responsible-virus",
   "metadata": {},
   "outputs": [],
   "source": [
    "#ファイル名からcsvファイルを取得＋subIDを付加\n",
    "def file2df_ver2(data_files):\n",
    "    df_list = []\n",
    "    for t in tqdm(data_files):\n",
    "        df_temp = pd.read_csv(t,header = None)\n",
    "        \n",
    "        t_ = str(t)\n",
    "        fd0000 = t_.find('0000')\n",
    "        fdD    = t_.find('D',fd0000)\n",
    "        fd_    = t_.find('_',fd0000)\n",
    "        \n",
    "        s = t_[fdD:fd_]\n",
    "        df_temp.insert(0,'subID',s)\n",
    "        \n",
    "        df_list.append(df_temp)\n",
    "    return pd.concat(df_list)"
   ]
  },
  {
   "cell_type": "code",
   "execution_count": null,
   "id": "small-suspect",
   "metadata": {},
   "outputs": [],
   "source": [
    "#aal\n",
    "#ho\n",
    "#destrieux\n",
    "#Dosenbach\n",
    "#msdl\n",
    "#Power\n",
    "#seitzman\n",
    "#Yeo\n",
    "#craddock\n",
    "s = ['destrieux',\n",
    "     'Dosenbach',\n",
    "     'msdl',\n",
    "     'Power',\n",
    "     'seitzman',\n",
    "     'Yeo',]\n",
    "     #'craddock']\n",
    "\n",
    "for i in range(len(s)):\n",
    "    data_path = Path('../01_data/roi_timeseries_others')\n",
    "    data_files = (data_path).rglob(f'{s[i]}/*.csv')\n",
    "    df = file2df_ver2(data_files)\n",
    "    print(s[i],df.shape)"
   ]
  },
  {
   "cell_type": "code",
   "execution_count": 8,
   "id": "electoral-equity",
   "metadata": {},
   "outputs": [
    {
     "data": {
      "text/plain": [
       "0    D4976\n",
       "0    D5374\n",
       "0    D6263\n",
       "0    D4962\n",
       "0    D6180\n",
       "     ...  \n",
       "0    D4971\n",
       "0    D6344\n",
       "0    D6305\n",
       "0    D6297\n",
       "0    D5621\n",
       "Name: subID, Length: 617, dtype: object"
      ]
     },
     "execution_count": 8,
     "metadata": {},
     "output_type": "execute_result"
    }
   ],
   "source": [
    "df.subID.drop_duplicates()"
   ]
  },
  {
   "cell_type": "markdown",
   "id": "sudden-yemen",
   "metadata": {},
   "source": [
    "### ROI label data load"
   ]
  },
  {
   "cell_type": "code",
   "execution_count": 9,
   "id": "approved-david",
   "metadata": {},
   "outputs": [],
   "source": [
    "df_labels_aal = pd.read_csv('../01_data/roi_atlas/aal_labels.csv',header = 1)\n",
    "df_labels_aal.set_axis(['number','roi'], axis='columns',inplace = True)\n",
    "df_labels_ho = pd.read_csv('../01_data/roi_atlas/ho_labels.csv',header = 1)\n",
    "df_labels_ho.set_axis(['number','roi'], axis='columns',inplace = True)\n",
    "\n",
    "def change_labels_name(df_labels):\n",
    "    lis = list(df_labels.roi)\n",
    "    lis_new = []\n",
    "    for i in lis:\n",
    "        i = i.replace(' ','_')\n",
    "        i = i.replace(';','')\n",
    "        i = i.replace(\"'\",\"_\")\n",
    "        i = i.replace('(','')\n",
    "        i = i.replace(')','')\n",
    "        lis_new.append(i)\n",
    "    df_labels.roi = lis_new\n",
    "    return df_labels\n",
    "\n",
    "df_labels_aal = change_labels_name(df_labels_aal)\n",
    "df_labels_ho = change_labels_name(df_labels_ho)\n",
    "df_ho.drop('Mean_3455', axis=1, inplace=True)"
   ]
  },
  {
   "cell_type": "markdown",
   "id": "satisfied-substance",
   "metadata": {},
   "source": [
    "### change timeseries name"
   ]
  },
  {
   "cell_type": "code",
   "execution_count": 10,
   "id": "imposed-recipient",
   "metadata": {},
   "outputs": [],
   "source": [
    "def change_columns_name(df,df_labels):\n",
    "    lis = list(df.columns)\n",
    "    for num in df_labels.number:\n",
    "        temp = [str(num) in i for i in df.columns]\n",
    "        lis[temp.index(True)] = df_labels[df_labels.number == num].roi.iloc[0]\n",
    "        df.set_axis(lis, axis='columns',inplace = True)\n",
    "    return df\n",
    "\n",
    "df_aal = change_columns_name(df_aal,df_labels_aal)\n",
    "df_ho  = change_columns_name(df_ho ,df_labels_ho)"
   ]
  },
  {
   "cell_type": "markdown",
   "id": "devoted-colombia",
   "metadata": {},
   "source": [
    "### subjects data load"
   ]
  },
  {
   "cell_type": "code",
   "execution_count": 11,
   "id": "exact-cleaning",
   "metadata": {},
   "outputs": [],
   "source": [
    "df_subjects_data= pd.read_excel('../01_data/shimane_basicInfo/RevisedNew_Shimane3TsubjectsData.xlsx',\n",
    "                                engine='openpyxl')\n",
    "df_subjects_data.drop('Unnamed: 102',axis=1,inplace=True)"
   ]
  },
  {
   "cell_type": "markdown",
   "id": "czech-romance",
   "metadata": {},
   "source": [
    "## ROI Standardization"
   ]
  },
  {
   "cell_type": "code",
   "execution_count": 12,
   "id": "horizontal-czech",
   "metadata": {},
   "outputs": [
    {
     "name": "stdout",
     "output_type": "stream",
     "text": [
      "0.025446614285714323\n",
      "9.0354087866445\n"
     ]
    }
   ],
   "source": [
    "#標準化前\n",
    "print(np.mean(df_aal[df_aal.subID == 'D5340'].Precentral_L))\n",
    "print(np.std(df_aal[df_aal.subID == 'D5340'].Precentral_L))"
   ]
  },
  {
   "cell_type": "code",
   "execution_count": 13,
   "id": "subject-pencil",
   "metadata": {
    "tags": []
   },
   "outputs": [],
   "source": [
    "def standardization(df):\n",
    "    for subID in tqdm(df.subID.unique()):\n",
    "        df_ = df[df['subID'] == subID]\n",
    "        df_ = df_.drop(['index','subID'],axis=1)\n",
    "        data = np.array(df_)\n",
    "        data -= np.mean(data)\n",
    "        data /= np.std(data)\n",
    "        roi_name = [i for i in list(df.columns).copy() if i != 'index' and i != 'subID']\n",
    "        df.loc[df['subID'] == subID,roi_name] = data\n",
    "    return df"
   ]
  },
  {
   "cell_type": "code",
   "execution_count": 14,
   "id": "union-seeker",
   "metadata": {},
   "outputs": [
    {
     "data": {
      "application/vnd.jupyter.widget-view+json": {
       "model_id": "5f649c3d786c43439543a1dc30507308",
       "version_major": 2,
       "version_minor": 0
      },
      "text/plain": [
       "  0%|          | 0/617 [00:00<?, ?it/s]"
      ]
     },
     "metadata": {},
     "output_type": "display_data"
    },
    {
     "data": {
      "application/vnd.jupyter.widget-view+json": {
       "model_id": "7c99eab3cb1343a3be881436c54f39bc",
       "version_major": 2,
       "version_minor": 0
      },
      "text/plain": [
       "  0%|          | 0/617 [00:00<?, ?it/s]"
      ]
     },
     "metadata": {},
     "output_type": "display_data"
    }
   ],
   "source": [
    "df_aal = standardization(df_aal)\n",
    "df_ho  = standardization(df_ho)\n",
    "\n",
    "df_aal.rename(columns={'index': 'time'}, inplace=True)\n",
    "df_ho.rename(columns={'index': 'time'}, inplace=True)"
   ]
  },
  {
   "cell_type": "code",
   "execution_count": 15,
   "id": "international-compromise",
   "metadata": {},
   "outputs": [
    {
     "name": "stdout",
     "output_type": "stream",
     "text": [
      "-0.0018505632030283263\n",
      "0.5405966433109262\n"
     ]
    }
   ],
   "source": [
    "#標準化後\n",
    "print(np.mean(df_aal[df_aal.subID == 'D5340'].Precentral_L))\n",
    "print(np.std(df_aal[df_aal.subID == 'D5340'].Precentral_L))"
   ]
  },
  {
   "cell_type": "code",
   "execution_count": 13,
   "id": "separated-emission",
   "metadata": {},
   "outputs": [
    {
     "data": {
      "text/plain": [
       "(86380, 118)"
      ]
     },
     "execution_count": 13,
     "metadata": {},
     "output_type": "execute_result"
    },
    {
     "data": {
      "text/plain": [
       "(86380, 112)"
      ]
     },
     "execution_count": 13,
     "metadata": {},
     "output_type": "execute_result"
    },
    {
     "data": {
      "text/plain": [
       "(116, 2)"
      ]
     },
     "execution_count": 13,
     "metadata": {},
     "output_type": "execute_result"
    },
    {
     "data": {
      "text/plain": [
       "(110, 2)"
      ]
     },
     "execution_count": 13,
     "metadata": {},
     "output_type": "execute_result"
    }
   ],
   "source": [
    "df_aal.shape\n",
    "df_ho.shape\n",
    "df_labels_aal.shape\n",
    "df_labels_ho.shape"
   ]
  },
  {
   "cell_type": "markdown",
   "id": "combined-third",
   "metadata": {},
   "source": [
    "## Dynamic FC"
   ]
  },
  {
   "cell_type": "code",
   "execution_count": 14,
   "id": "facial-hostel",
   "metadata": {},
   "outputs": [],
   "source": [
    "def dynamic_FC_fast(df,window_size = 18,extra = 2):\n",
    "    '''\n",
    "    window_size：TR=2.5より、45秒間\n",
    "    extra：dfのcolumnsの最初のindex,subIDを無視\n",
    "    dynamic_FC：被験者あたり２４分かかる(ROIの数に依る)\n",
    "    dynamic_FC_fast：被験者あたり２分以下で終わる(ROIの数に依る)\n",
    "    '''\n",
    "    \n",
    "    lis_col = list(df.columns)[extra:]#ROI名\n",
    "    lis_col_new = list(df.columns)[:extra]#dynamic_FCのcolumns\n",
    "    \n",
    "    for m in range(len(lis_col)):\n",
    "        for n in range(m+1,len(lis_col)):\n",
    "            lis_col_new.append(lis_col[m] + '_' + lis_col[n])\n",
    "    \n",
    "    lis = df.iloc[:,2:].values.tolist()#全データをlistに変換\n",
    "    num_take = int(len(lis)/len(df.subID.unique()))#一人あたり撮像回数\n",
    "    sub_list = list(df.subID.unique())\n",
    "    \n",
    "    lis_dynamic = []#ある被験者についてのdynamic FC情報\n",
    "    \n",
    "    for c, subID in enumerate(tqdm(sub_list)):\n",
    "        lis_temp = lis[c*num_take:c*num_take+num_take]#ある被験者についてのtimeseries情報\n",
    "        for i in range(len(lis_temp)-window_size+1):\n",
    "            lis_dynamic_temp = lis_temp[i:i+window_size]\n",
    "            lis_df = []#計算後DataFrameとなるlist\n",
    "            lis_df.append(f'{i}-{i+window_size-1}')\n",
    "            lis_df.append(f'{subID}')\n",
    "            for j in range(len(lis_col)):\n",
    "                for k in range(j+1,len(lis_col)):\n",
    "                    lis_dynamic_temp1 = []\n",
    "                    lis_dynamic_temp2 = []\n",
    "                    for l in lis_dynamic_temp:\n",
    "                        lis_dynamic_temp1.append(l[j])\n",
    "                        lis_dynamic_temp2.append(l[k])\n",
    "                    corr = np.corrcoef(lis_dynamic_temp1,lis_dynamic_temp2)[0,1]\n",
    "                    if np.isnan(corr):\n",
    "                        lis_df.append(0)\n",
    "                    else:\n",
    "                        lis_df.append(corr)\n",
    "            lis_dynamic.append(lis_df)\n",
    "    df_dynamic = pd.DataFrame(lis_dynamic,columns=lis_col_new)\n",
    "    return df_dynamic"
   ]
  },
  {
   "cell_type": "code",
   "execution_count": 15,
   "id": "western-switch",
   "metadata": {},
   "outputs": [
    {
     "data": {
      "application/vnd.jupyter.widget-view+json": {
       "model_id": "47a3a05ce0894aefa33532434df67cd8",
       "version_major": 2,
       "version_minor": 0
      },
      "text/plain": [
       "  0%|          | 0/617 [00:00<?, ?it/s]"
      ]
     },
     "metadata": {},
     "output_type": "display_data"
    },
    {
     "name": "stderr",
     "output_type": "stream",
     "text": [
      "/home/1/16B14626/.local/lib/python3.6/site-packages/numpy/lib/function_base.py:2559: RuntimeWarning: invalid value encountered in true_divide\n",
      "  c /= stddev[:, None]\n",
      "/home/1/16B14626/.local/lib/python3.6/site-packages/numpy/lib/function_base.py:2560: RuntimeWarning: invalid value encountered in true_divide\n",
      "  c /= stddev[None, :]\n"
     ]
    },
    {
     "data": {
      "text/plain": [
       "(75891, 6672)"
      ]
     },
     "execution_count": 15,
     "metadata": {},
     "output_type": "execute_result"
    }
   ],
   "source": [
    "#1日程度の時間がかかる\n",
    "df_dynamic_aal = dynamic_FC_fast(df_aal)\n",
    "df_dynamic_aal.shape\n",
    "df_dynamic_aal.rename(columns={'index': 'time'}, inplace=True)\n",
    "df_dynamic_aal.reset_index(inplace=True)\n",
    "df_dynamic_aal.drop('index',axis=1,inplace=True)"
   ]
  },
  {
   "cell_type": "code",
   "execution_count": 6,
   "id": "portable-tenant",
   "metadata": {},
   "outputs": [
    {
     "data": {
      "application/vnd.jupyter.widget-view+json": {
       "model_id": "558927aaa98d400f9e6db9e98d17175c",
       "version_major": 2,
       "version_minor": 0
      },
      "text/plain": [
       "  0%|          | 0/617 [00:00<?, ?it/s]"
      ]
     },
     "metadata": {},
     "output_type": "display_data"
    }
   ],
   "source": [
    "#1日程度の時間がかかる\n",
    "df_dynamic_ho = dynamic_FC_fast(df_ho)\n",
    "df_dynamic_ho.shape\n",
    "df_dynamic_ho.rename(columns={'index': 'time'}, inplace=True)\n",
    "df_dynamic_ho.reset_index(inplace=True)\n",
    "df_dynamic_ho.drop('index',axis=1,inplace=True)"
   ]
  },
  {
   "cell_type": "markdown",
   "id": "convinced-techno",
   "metadata": {},
   "source": [
    "##　存在する被験者のデータのみにsubjects_infoを絞る"
   ]
  },
  {
   "cell_type": "code",
   "execution_count": 16,
   "id": "devoted-national",
   "metadata": {},
   "outputs": [],
   "source": [
    "def subjects_once(df = df_aal, df_sub = df_subjects_data):\n",
    "    sub_lis = list(df[['subID']].drop_duplicates()['subID'])\n",
    "    for i in range(df_sub.shape[0]):\n",
    "        subID = df_sub['subID'][i][df_sub['subID'][i].find('D'):]\n",
    "        if subID in sub_lis:\n",
    "            df_sub.loc[i,'subID'] = df_sub['subID'][i][df_sub['subID'][i].find('D'):]\n",
    "    return df_sub[[False if i[0]=='2' else True for i in df_sub['subID']]]#入ってないやつは2から始まる\n",
    "\n",
    "def subjects_not_in(df,df_sub=df_subjects_data):\n",
    "    lis_not_in = list(set(list(df[['subID']].drop_duplicates()['subID'])) - set(df_sub.subID))\n",
    "    return df[[False if i in lis_not_in else True for i in df['subID']]]"
   ]
  },
  {
   "cell_type": "code",
   "execution_count": 17,
   "id": "affecting-briefing",
   "metadata": {},
   "outputs": [],
   "source": [
    "df_subjects_data = df_subjects_data.rename(columns={'NewID': 'subID'})\n",
    "df_subjects_data = subjects_once(df = df_aal, df_sub = df_subjects_data)\n",
    "df_subjects_data = df_subjects_data.sort_values('subID').reset_index(drop=True)\n",
    "\n",
    "df_aal = subjects_not_in(df=df_aal,df_sub=df_subjects_data)\n",
    "df_aal = df_aal.sort_values(['subID','time']).reset_index(drop=True)\n",
    "\n",
    "df_ho = subjects_not_in(df=df_ho,df_sub=df_subjects_data)\n",
    "df_ho = df_ho.sort_values(['subID','time']).reset_index(drop=True)"
   ]
  },
  {
   "cell_type": "code",
   "execution_count": 18,
   "id": "civilian-induction",
   "metadata": {},
   "outputs": [],
   "source": [
    "df_dynamic_aal = subjects_not_in(df=df_dynamic_aal,df_sub=df_subjects_data)\n",
    "df_dynamic_aal = df_dynamic_aal.sort_values(['subID','time']).reset_index(drop=True)"
   ]
  },
  {
   "cell_type": "code",
   "execution_count": null,
   "id": "deluxe-basis",
   "metadata": {},
   "outputs": [],
   "source": [
    "df_dynamic_ho = subjects_not_in(df=df_dynamic_ho, df_sub=df_subjects_data)\n",
    "df_dynamic_ho = df_dynamic_ho.sort_values(['subID','time']).reset_index(drop=True)"
   ]
  },
  {
   "cell_type": "markdown",
   "id": "egyptian-carnival",
   "metadata": {},
   "source": [
    "## 被験者の順番をランダム"
   ]
  },
  {
   "cell_type": "code",
   "execution_count": 82,
   "id": "isolated-improvement",
   "metadata": {},
   "outputs": [],
   "source": [
    "def sort_df(df):\n",
    "    np.random.seed(0)\n",
    "    sort = np.array(df.subID.drop_duplicates())\n",
    "    sort = np.random.choice(sort, len(sort), replace=False)\n",
    "    sort = list(sort)\n",
    "    \n",
    "    if 'time' in df.columns:\n",
    "        df['sort'] = df['subID'].apply(lambda x: sort.index(x) if x in sort else -1)\n",
    "        df = df.sort_values(['sort','time']).reset_index(drop=True).drop('sort', axis=1)\n",
    "    else:\n",
    "        df['sort'] = df['subID'].apply(lambda x: sort.index(x) if x in sort else -1)\n",
    "        df = df.sort_values(['sort']).reset_index(drop=True).drop('sort', axis=1)\n",
    "    return df"
   ]
  },
  {
   "cell_type": "code",
   "execution_count": 83,
   "id": "romance-cowboy",
   "metadata": {},
   "outputs": [
    {
     "name": "stdout",
     "output_type": "stream",
     "text": [
      "CPU times: user 9.73 s, sys: 4.72 s, total: 14.4 s\n",
      "Wall time: 14.5 s\n"
     ]
    }
   ],
   "source": [
    "%%time\n",
    "df_aal = sort_df(df_aal)\n",
    "df_ho  = sort_df(df_ho)\n",
    "df_subjects_data = sort_df(df_subjects_data)\n",
    "df_dynamic_aal = sort_df(df_dynamic_aal)\n",
    "df_dynamic_ho  = sort_df(df_dynamic_ho)"
   ]
  },
  {
   "cell_type": "markdown",
   "id": "cubic-backing",
   "metadata": {},
   "source": [
    "## dynamic FC : float16に変換\n",
    "データが大きすぎる"
   ]
  },
  {
   "cell_type": "code",
   "execution_count": 85,
   "id": "gross-salem",
   "metadata": {
    "tags": []
   },
   "outputs": [],
   "source": [
    "def transform_float(df):\n",
    "    keys = list(df.columns)\n",
    "    keys.remove('time')\n",
    "    keys.remove('subID')\n",
    "    values = ['float16']*len(keys)\n",
    "    d = dict(zip(keys, values))\n",
    "    df = df.astype(d)\n",
    "    return df"
   ]
  },
  {
   "cell_type": "code",
   "execution_count": 86,
   "id": "reverse-wrist",
   "metadata": {},
   "outputs": [
    {
     "name": "stdout",
     "output_type": "stream",
     "text": [
      "CPU times: user 9.82 s, sys: 22.3 ms, total: 9.84 s\n",
      "Wall time: 9.85 s\n"
     ]
    }
   ],
   "source": [
    "%%time\n",
    "df_dynamic_aal = transform_float(df_dynamic_aal)\n",
    "df_dynamic_ho  = transform_float(df_dynamic_ho)"
   ]
  },
  {
   "cell_type": "markdown",
   "id": "metallic-talent",
   "metadata": {},
   "source": [
    "## 外れ値除去"
   ]
  },
  {
   "cell_type": "code",
   "execution_count": null,
   "id": "accepted-letters",
   "metadata": {},
   "outputs": [],
   "source": [
    "%%time\n",
    "df_aal = df_aal[df_aal['subID'] != df_subjects_data[df_subjects_data['Age'] == 20]['subID'].iloc[0]]\n",
    "df_ho  = df_ho[df_ho['subID'] != df_subjects_data[df_subjects_data['Age'] == 20]['subID'].iloc[0]]"
   ]
  },
  {
   "cell_type": "code",
   "execution_count": 40,
   "id": "advised-nickel",
   "metadata": {},
   "outputs": [
    {
     "name": "stdout",
     "output_type": "stream",
     "text": [
      "CPU times: user 1.34 s, sys: 1.55 s, total: 2.89 s\n",
      "Wall time: 2.89 s\n"
     ]
    }
   ],
   "source": [
    "%%time\n",
    "df_dynamic_aal = df_dynamic_aal[df_dynamic_aal['subID'] != df_subjects_data[df_subjects_data['Age'] == 20]['subID'].iloc[0]]\n",
    "df_dynamic_ho  = df_dynamic_ho[df_dynamic_ho['subID'] != df_subjects_data[df_subjects_data['Age'] == 20]['subID'].iloc[0]]"
   ]
  },
  {
   "cell_type": "code",
   "execution_count": 41,
   "id": "cultural-league",
   "metadata": {},
   "outputs": [],
   "source": [
    "df_subjects_data = df_subjects_data[df_subjects_data['subID'] != df_subjects_data[df_subjects_data['Age'] == 20]['subID'].iloc[0]]"
   ]
  },
  {
   "cell_type": "markdown",
   "id": "devoted-chase",
   "metadata": {},
   "source": [
    "## Data 保存(AAL HO)"
   ]
  },
  {
   "cell_type": "code",
   "execution_count": 45,
   "id": "peripheral-valuation",
   "metadata": {},
   "outputs": [
    {
     "name": "stdout",
     "output_type": "stream",
     "text": [
      "CPU times: user 37.4 s, sys: 310 ms, total: 37.7 s\n",
      "Wall time: 38.1 s\n"
     ]
    }
   ],
   "source": [
    "%%time\n",
    "df_aal.to_csv('../02_data_analysis/roi_timeseries/timeseries_aal.csv', index=False)\n",
    "df_ho.to_csv('../02_data_analysis/roi_timeseries/timeseries_ho.csv', index=False)\n",
    "df_labels_aal.to_csv('../02_data_analysis/roi_labels/labels_aal.csv', index=False)\n",
    "df_labels_ho.to_csv('../02_data_analysis/roi_labels/labels_ho.csv', index=False)\n",
    "df_subjects_data.to_csv('../02_data_analysis/subjects_info/subjects_info.csv', index=False)"
   ]
  },
  {
   "cell_type": "code",
   "execution_count": 46,
   "id": "handmade-monthly",
   "metadata": {},
   "outputs": [
    {
     "name": "stdout",
     "output_type": "stream",
     "text": [
      "CPU times: user 10min 44s, sys: 2.6 s, total: 10min 46s\n",
      "Wall time: 10min 48s\n"
     ]
    }
   ],
   "source": [
    "%%time\n",
    "df_dynamic_aal.to_csv('../02_data_analysis/dynamic_FC/dynamic_aal.csv', index=False)"
   ]
  },
  {
   "cell_type": "code",
   "execution_count": 47,
   "id": "individual-ethiopia",
   "metadata": {},
   "outputs": [
    {
     "name": "stdout",
     "output_type": "stream",
     "text": [
      "CPU times: user 9min 46s, sys: 2.26 s, total: 9min 48s\n",
      "Wall time: 9min 50s\n"
     ]
    }
   ],
   "source": [
    "%%time\n",
    "df_dynamic_ho.to_csv('../02_data_analysis/dynamic_FC/dynamic_ho.csv', index=False)"
   ]
  },
  {
   "cell_type": "markdown",
   "id": "clean-disclaimer",
   "metadata": {},
   "source": [
    "## Data load"
   ]
  },
  {
   "cell_type": "code",
   "execution_count": 1,
   "id": "recovered-complexity",
   "metadata": {},
   "outputs": [],
   "source": [
    "import pandas as pd\n",
    "import numpy as np"
   ]
  },
  {
   "cell_type": "code",
   "execution_count": 2,
   "id": "exact-authority",
   "metadata": {},
   "outputs": [
    {
     "name": "stdout",
     "output_type": "stream",
     "text": [
      "CPU times: user 19.6 s, sys: 1.46 s, total: 21 s\n",
      "Wall time: 22 s\n"
     ]
    }
   ],
   "source": [
    "%%time\n",
    "#aal\n",
    "#ho\n",
    "#msdl\n",
    "#Yeo\n",
    "#destrieux\n",
    "#Dosenbach\n",
    "#Power\n",
    "#seitzman\n",
    "\n",
    "df_aal = pd.read_csv(f'/gs/hs0/tga-akamalab/shimane_data/roi_timeseries/timeseries_aal.csv')\n",
    "df_ho = pd.read_csv(f'/gs/hs0/tga-akamalab/shimane_data/roi_timeseries/timeseries_ho.csv')\n",
    "df_msdl = pd.read_csv(f'/gs/hs0/tga-akamalab/shimane_data/roi_timeseries/timeseries_msdl.csv')\n",
    "df_Yeo = pd.read_csv(f'/gs/hs0/tga-akamalab/shimane_data/roi_timeseries/timeseries_Yeo.csv')\n",
    "df_destrieux = pd.read_csv(f'/gs/hs0/tga-akamalab/shimane_data/roi_timeseries/timeseries_destrieux.csv')\n",
    "df_Dosenbach = pd.read_csv(f'/gs/hs0/tga-akamalab/shimane_data/roi_timeseries/timeseries_Dosenbach.csv')\n",
    "df_Power = pd.read_csv(f'/gs/hs0/tga-akamalab/shimane_data/roi_timeseries/timeseries_Power.csv')\n",
    "df_seitzman = pd.read_csv(f'/gs/hs0/tga-akamalab/shimane_data/roi_timeseries/timeseries_seitzman.csv')"
   ]
  },
  {
   "cell_type": "code",
   "execution_count": 3,
   "id": "completed-software",
   "metadata": {},
   "outputs": [
    {
     "name": "stdout",
     "output_type": "stream",
     "text": [
      "(86100, 118)\n",
      "(86100, 113)\n",
      "(86100, 41)\n",
      "(86100, 120)\n",
      "(86100, 150)\n",
      "(86100, 162)\n",
      "(86100, 266)\n",
      "(86100, 302)\n",
      "6672.0\n",
      "6107.0\n",
      "743.0\n",
      "6905.0\n",
      "10880.0\n",
      "12722.0\n",
      "34718.0\n",
      "44852.0\n"
     ]
    }
   ],
   "source": [
    "print(df_aal.shape)\n",
    "print(df_ho.shape)\n",
    "print(df_msdl.shape)\n",
    "print(df_Yeo.shape)\n",
    "print(df_destrieux.shape)\n",
    "print(df_Dosenbach.shape)\n",
    "print(df_Power.shape)\n",
    "print(df_seitzman.shape)\n",
    "\n",
    "aaa = [(86100, 118),\n",
    "(86100, 113),\n",
    "(86100, 41),\n",
    "(86100, 120),\n",
    "(86100, 150),\n",
    "(86100, 162),\n",
    "(86100, 266),\n",
    "(86100, 302)]\n",
    "\n",
    "for i in aaa:\n",
    "    k = i[1]\n",
    "    print((k-2)*(k-3)/2 + 2)"
   ]
  },
  {
   "cell_type": "code",
   "execution_count": null,
   "id": "swiss-agency",
   "metadata": {},
   "outputs": [],
   "source": [
    "%%time\n",
    "#aal\n",
    "#ho\n",
    "#msdl\n",
    "#Yeo\n",
    "#destrieux\n",
    "#Dosenbach\n",
    "#Power\n",
    "#seitzman\n",
    "\n",
    "df_dynamic_aal = pd.read_csv(f'/gs/hs0/tga-akamalab/shimane_data/dynamic_FC/dynamic_aal.csv',\n",
    "                             dtype = transform_float_read(df_aal))\n",
    "print(df_dynamic_aal.shape)\n",
    "df_dynamic_ho = pd.read_csv(f'/gs/hs0/tga-akamalab/shimane_data/dynamic_FC/dynamic_ho.csv',\n",
    "                            dtype = transform_float_read(df_ho))\n",
    "print(df_dynamic_ho.shape)\n",
    "df_dynamic_msdl = pd.read_csv(f'/gs/hs0/tga-akamalab/shimane_data/dynamic_FC/dynamic_msdl.csv',\n",
    "                              dtype = transform_float_read(df_msdl))\n",
    "print(df_dynamic_msdl.shape)\n",
    "df_dynamic_Yeo = pd.read_csv(f'/gs/hs0/tga-akamalab/shimane_data/dynamic_FC/dynamic_Yeo.csv',\n",
    "                             dtype = transform_float_read(df_Yeo))\n",
    "print(df_dynamic_Yeo.shape)\n",
    "df_dynamic_destrieux = pd.read_csv(f'/gs/hs0/tga-akamalab/shimane_data/dynamic_FC/dynamic_destrieux.csv',\n",
    "                                   dtype = transform_float_read(df_destrieux))\n",
    "print(df_dynamic_destrieux.shape)\n",
    "df_dynamic_Dosenbach = pd.read_csv(f'/gs/hs0/tga-akamalab/shimane_data/dynamic_FC/dynamic_Dosenbach.csv',\n",
    "                                   dtype = transform_float_read(df_Dosenbach))\n",
    "print(df_dynamic_Dosenbach.shape)\n",
    "\n",
    "\"\"\"\n",
    "(75645, 6672)\n",
    "(75645, 6107)\n",
    "(75645, 743)\n",
    "(75645, 6905)\n",
    "(75645, 10880)\n",
    "(75645, 12722)\n",
    "\"\"\""
   ]
  },
  {
   "cell_type": "code",
   "execution_count": 55,
   "id": "driving-fitness",
   "metadata": {},
   "outputs": [
    {
     "name": "stdout",
     "output_type": "stream",
     "text": [
      "(75645, 34718)\n",
      "CPU times: user 1h 1min 55s, sys: 26.1 s, total: 1h 2min 22s\n",
      "Wall time: 1h 2min 22s\n"
     ]
    }
   ],
   "source": [
    "%%time\n",
    "df_dynamic_Power = pd.read_csv(f'/gs/hs0/tga-akamalab/shimane_data/dynamic_FC/dynamic_Power.csv',\n",
    "                               dtype = transform_float_read(df_Power))\n",
    "print(df_dynamic_Power.shape)"
   ]
  },
  {
   "cell_type": "code",
   "execution_count": null,
   "id": "clinical-composition",
   "metadata": {},
   "outputs": [],
   "source": [
    "%%time\n",
    "df_dynamic_seitzman = pd.read_csv(f'/gs/hs0/tga-akamalab/shimane_data/dynamic_FC/dynamic_seitzman.csv',\n",
    "                                  dtype = transform_float_read(df_seitzman))\n",
    "print(df_dynamic_seitzman.shape)"
   ]
  }
 ],
 "metadata": {
  "kernelspec": {
   "display_name": "Python 3",
   "language": "python",
   "name": "python3"
  },
  "language_info": {
   "codemirror_mode": {
    "name": "ipython",
    "version": 3
   },
   "file_extension": ".py",
   "mimetype": "text/x-python",
   "name": "python",
   "nbconvert_exporter": "python",
   "pygments_lexer": "ipython3",
   "version": "3.6.5"
  }
 },
 "nbformat": 4,
 "nbformat_minor": 5
}
