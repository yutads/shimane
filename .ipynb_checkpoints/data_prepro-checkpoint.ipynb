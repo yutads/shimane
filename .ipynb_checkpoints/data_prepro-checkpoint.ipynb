{
 "cells": [
  {
   "cell_type": "markdown",
   "id": "improving-creature",
   "metadata": {},
   "source": [
    "# Data Prepro\n",
    "CPACでPreProしたものは複数回被験者がいない\\\n",
    "CPACのPreProにいて、RevisedNew_Shimane3TsubjectsData.xlsxにいない被験者が１名(D6115)\\\n",
    "1回被験者でCPACにいない被験者が2名(D5389,D6190)\\\n",
    "すべてを考慮した結果被験者は616名"
   ]
  },
  {
   "cell_type": "markdown",
   "id": "animated-rouge",
   "metadata": {},
   "source": [
    "## Install and Import"
   ]
  },
  {
   "cell_type": "code",
   "execution_count": 1,
   "id": "occupational-textbook",
   "metadata": {},
   "outputs": [
    {
     "data": {
      "text/plain": [
       "'%%bash\\npython3 -m pip install --user numpy\\npython3 -m pip install --user pandas\\npython3 -m pip install --user tqdm\\npython3 -m pip install --user ipywidgets\\npython3 -m pip install --user matplotlib\\npython3 -m pip install --user xlrd\\npython3 -m pip install --user openpyxl'"
      ]
     },
     "execution_count": 1,
     "metadata": {},
     "output_type": "execute_result"
    }
   ],
   "source": [
    "\"\"\"%%bash\n",
    "python3 -m pip install --user numpy\n",
    "python3 -m pip install --user pandas\n",
    "python3 -m pip install --user tqdm\n",
    "python3 -m pip install --user ipywidgets\n",
    "python3 -m pip install --user matplotlib\n",
    "python3 -m pip install --user xlrd\n",
    "python3 -m pip install --user openpyxl\"\"\""
   ]
  },
  {
   "cell_type": "code",
   "execution_count": 2,
   "id": "changed-session",
   "metadata": {},
   "outputs": [],
   "source": [
    "import numpy as np\n",
    "import pandas as pd\n",
    "import matplotlib.pyplot as plt\n",
    "from pathlib import Path\n",
    "from tqdm.notebook import tqdm\n",
    "\n",
    "from IPython.core.interactiveshell import InteractiveShell\n",
    "InteractiveShell.ast_node_interactivity = 'all'"
   ]
  },
  {
   "cell_type": "markdown",
   "id": "expired-courage",
   "metadata": {},
   "source": [
    "## Data load"
   ]
  },
  {
   "cell_type": "markdown",
   "id": "missing-incidence",
   "metadata": {},
   "source": [
    "### time series data load"
   ]
  },
  {
   "cell_type": "code",
   "execution_count": 3,
   "id": "frank-brief",
   "metadata": {},
   "outputs": [],
   "source": [
    "data_path = Path('../01_data/roi_timeseries')\n",
    "\n",
    "data_files_aal = (data_path).rglob('_selector_CSF-2mm-M_aC-CSF+WM-2mm-DPC5_M-SDB_P-2_BP-B0.01-T0.1/\\\n",
    "_mask_aal_mask_pad_mask_file_..resources..aal_mask_pad.nii.gz/roi_stats.csv')\n",
    "\n",
    "data_files_ho = (data_path).rglob('_selector_CSF-2mm-M_aC-CSF+WM-2mm-DPC5_M-SDB_P-2_BP-B0.01-T0.1/\\\n",
    "_mask_ho_mask_pad_mask_file_..resources..ho_mask_pad.nii.gz/roi_stats.csv')"
   ]
  },
  {
   "cell_type": "code",
   "execution_count": 4,
   "id": "cognitive-bristol",
   "metadata": {},
   "outputs": [],
   "source": [
    "#ファイル名からcsvファイルを取得＋subIDを付加\n",
    "def file2df(data_files):\n",
    "    df_list = []\n",
    "    for t in tqdm(data_files):\n",
    "        df_temp = pd.read_csv(t,header = 1)\n",
    "        \n",
    "        t_ = str(t)\n",
    "        fd0000 = t_.find('0000')\n",
    "        fdD    = t_.find('D',fd0000)\n",
    "        fd_    = t_.find('_',fd0000)\n",
    "        \n",
    "        s = t_[fdD:fd_]\n",
    "        df_temp.insert(0,'subID',s)\n",
    "        \n",
    "        df_list.append(df_temp)\n",
    "    return pd.concat(df_list)\n",
    "\n",
    "#columnsに付いている無駄なスペースを削除\n",
    "def rem_space_columns(df):\n",
    "    lis_new = []\n",
    "    for i in df.columns:\n",
    "        lis_new.append(i.replace(' ',''))\n",
    "    df.set_axis(lis_new, axis='columns',inplace = True)\n",
    "    #df.rename(columns={key:val for key, val in zip(df.columns,lis_new)},inplace = True) \n",
    "    return df"
   ]
  },
  {
   "cell_type": "code",
   "execution_count": 5,
   "id": "mediterranean-breach",
   "metadata": {},
   "outputs": [
    {
     "data": {
      "application/vnd.jupyter.widget-view+json": {
       "model_id": "6c4b2949b2f1444cada7e8651bb2774e",
       "version_major": 2,
       "version_minor": 0
      },
      "text/plain": [
       "0it [00:00, ?it/s]"
      ]
     },
     "metadata": {},
     "output_type": "display_data"
    },
    {
     "data": {
      "application/vnd.jupyter.widget-view+json": {
       "model_id": "6cf7932cc2094225a3047882348e6a24",
       "version_major": 2,
       "version_minor": 0
      },
      "text/plain": [
       "0it [00:00, ?it/s]"
      ]
     },
     "metadata": {},
     "output_type": "display_data"
    }
   ],
   "source": [
    "df_aal = file2df(data_files_aal)\n",
    "df_aal = rem_space_columns(df_aal)\n",
    "df_aal.reset_index(inplace=True)\n",
    "\n",
    "df_ho = file2df(data_files_ho)\n",
    "df_ho = rem_space_columns(df_ho)\n",
    "df_ho.reset_index(inplace=True)"
   ]
  },
  {
   "cell_type": "markdown",
   "id": "strange-bunch",
   "metadata": {},
   "source": [
    "### ROI label data load"
   ]
  },
  {
   "cell_type": "code",
   "execution_count": 6,
   "id": "split-display",
   "metadata": {},
   "outputs": [],
   "source": [
    "df_labels_aal = pd.read_csv('../01_data/roi_atlas/aal_labels.csv',header = 1)\n",
    "df_labels_aal.set_axis(['number','roi'], axis='columns',inplace = True)\n",
    "df_labels_ho = pd.read_csv('../01_data/roi_atlas/ho_labels.csv',header = 1)\n",
    "df_labels_ho.set_axis(['number','roi'], axis='columns',inplace = True)\n",
    "\n",
    "def change_labels_name(df_labels):\n",
    "    lis = list(df_labels.roi)\n",
    "    lis_new = []\n",
    "    for i in lis:\n",
    "        i = i.replace(' ','_')\n",
    "        i = i.replace(';','')\n",
    "        i = i.replace(\"'\",\"_\")\n",
    "        i = i.replace('(','')\n",
    "        i = i.replace(')','')\n",
    "        lis_new.append(i)\n",
    "    df_labels.roi = lis_new\n",
    "    return df_labels\n",
    "\n",
    "df_labels_aal = change_labels_name(df_labels_aal)\n",
    "df_labels_ho = change_labels_name(df_labels_ho)\n",
    "df_ho.drop('Mean_3455', axis=1, inplace=True)"
   ]
  },
  {
   "cell_type": "markdown",
   "id": "overall-parade",
   "metadata": {},
   "source": [
    "### change timeseries name"
   ]
  },
  {
   "cell_type": "code",
   "execution_count": 7,
   "id": "lonely-enemy",
   "metadata": {},
   "outputs": [],
   "source": [
    "def change_columns_name(df,df_labels):\n",
    "    lis = list(df.columns)\n",
    "    for num in df_labels.number:\n",
    "        temp = [str(num) in i for i in df.columns]\n",
    "        lis[temp.index(True)] = df_labels[df_labels.number == num].roi.iloc[0]\n",
    "        df.set_axis(lis, axis='columns',inplace = True)\n",
    "    return df\n",
    "\n",
    "df_aal = change_columns_name(df_aal,df_labels_aal)\n",
    "df_ho  = change_columns_name(df_ho ,df_labels_ho)"
   ]
  },
  {
   "cell_type": "markdown",
   "id": "unnecessary-upgrade",
   "metadata": {},
   "source": [
    "### subjects data load"
   ]
  },
  {
   "cell_type": "code",
   "execution_count": 5,
   "id": "frozen-nation",
   "metadata": {},
   "outputs": [],
   "source": [
    "df_subjects_data = pd.read_excel('../01_data/shimane_basicInfo/RevisedNew_Shimane3TsubjectsData.xlsx',engine='openpyxl')\n",
    "df_subjects_data.drop('Unnamed: 102',axis=1,inplace=True)"
   ]
  },
  {
   "cell_type": "markdown",
   "id": "magnetic-valuation",
   "metadata": {},
   "source": [
    "## ROI Standardization"
   ]
  },
  {
   "cell_type": "code",
   "execution_count": 9,
   "id": "inside-reasoning",
   "metadata": {},
   "outputs": [
    {
     "name": "stdout",
     "output_type": "stream",
     "text": [
      "0.025446614285714323\n",
      "9.0354087866445\n"
     ]
    }
   ],
   "source": [
    "#標準化前\n",
    "print(np.mean(df_aal[df_aal.subID == 'D5340'].Precentral_L))\n",
    "print(np.std(df_aal[df_aal.subID == 'D5340'].Precentral_L))"
   ]
  },
  {
   "cell_type": "code",
   "execution_count": 10,
   "id": "choice-leone",
   "metadata": {
    "tags": []
   },
   "outputs": [],
   "source": [
    "def standardization(df):\n",
    "    for subID in tqdm(df.subID.unique()):\n",
    "        df_ = df[df['subID'] == subID]\n",
    "        df_ = df_.drop(['index','subID'],axis=1)\n",
    "        data = np.array(df_)\n",
    "        data -= np.mean(data)\n",
    "        data /= np.std(data)\n",
    "        roi_name = [i for i in list(df.columns).copy() if i != 'index' and i != 'subID']\n",
    "        df.loc[df['subID'] == subID,roi_name] = data\n",
    "    return df"
   ]
  },
  {
   "cell_type": "code",
   "execution_count": 11,
   "id": "chubby-remark",
   "metadata": {},
   "outputs": [
    {
     "data": {
      "application/vnd.jupyter.widget-view+json": {
       "model_id": "87d7cea91d3e4bc990719f01d687a262",
       "version_major": 2,
       "version_minor": 0
      },
      "text/plain": [
       "  0%|          | 0/617 [00:00<?, ?it/s]"
      ]
     },
     "metadata": {},
     "output_type": "display_data"
    },
    {
     "data": {
      "application/vnd.jupyter.widget-view+json": {
       "model_id": "e4d35506c7274217a9cb62651b002af5",
       "version_major": 2,
       "version_minor": 0
      },
      "text/plain": [
       "  0%|          | 0/617 [00:00<?, ?it/s]"
      ]
     },
     "metadata": {},
     "output_type": "display_data"
    }
   ],
   "source": [
    "df_aal = standardization(df_aal)\n",
    "df_ho  = standardization(df_ho)\n",
    "\n",
    "df_aal.rename(columns={'index': 'time'}, inplace=True)\n",
    "df_ho.rename(columns={'index': 'time'}, inplace=True)"
   ]
  },
  {
   "cell_type": "code",
   "execution_count": 12,
   "id": "dirty-destruction",
   "metadata": {},
   "outputs": [
    {
     "name": "stdout",
     "output_type": "stream",
     "text": [
      "-0.0018505632030283263\n",
      "0.5405966433109262\n"
     ]
    }
   ],
   "source": [
    "#標準化後\n",
    "print(np.mean(df_aal[df_aal.subID == 'D5340'].Precentral_L))\n",
    "print(np.std(df_aal[df_aal.subID == 'D5340'].Precentral_L))\n",
    "#-1.2688263138573217e-17\n",
    "#1.0"
   ]
  },
  {
   "cell_type": "code",
   "execution_count": 13,
   "id": "several-reputation",
   "metadata": {},
   "outputs": [
    {
     "data": {
      "text/plain": [
       "(86380, 118)"
      ]
     },
     "execution_count": 13,
     "metadata": {},
     "output_type": "execute_result"
    },
    {
     "data": {
      "text/plain": [
       "(86380, 112)"
      ]
     },
     "execution_count": 13,
     "metadata": {},
     "output_type": "execute_result"
    },
    {
     "data": {
      "text/plain": [
       "(116, 2)"
      ]
     },
     "execution_count": 13,
     "metadata": {},
     "output_type": "execute_result"
    },
    {
     "data": {
      "text/plain": [
       "(110, 2)"
      ]
     },
     "execution_count": 13,
     "metadata": {},
     "output_type": "execute_result"
    }
   ],
   "source": [
    "df_aal.shape\n",
    "df_ho.shape\n",
    "df_labels_aal.shape\n",
    "df_labels_ho.shape"
   ]
  },
  {
   "cell_type": "markdown",
   "id": "german-boards",
   "metadata": {},
   "source": [
    "## Dynamic FC"
   ]
  },
  {
   "cell_type": "code",
   "execution_count": 14,
   "id": "isolated-multimedia",
   "metadata": {},
   "outputs": [],
   "source": [
    "def dynamic_FC_fast(df,window_size = 18,extra = 2):\n",
    "    '''\n",
    "    window_size：TR=2.5より、45秒間\n",
    "    extra：dfのcolumnsの最初のindex,subIDを無視\n",
    "    dynamic_FC：被験者あたり２４分かかる(ROIの数に依る)\n",
    "    dynamic_FC_fast：被験者あたり２分以下で終わる(ROIの数に依る)\n",
    "    '''\n",
    "    \n",
    "    lis_col = list(df.columns)[extra:]#ROI名\n",
    "    lis_col_new = list(df.columns)[:extra]#dynamic_FCのcolumns\n",
    "    \n",
    "    for m in range(len(lis_col)):\n",
    "        for n in range(m+1,len(lis_col)):\n",
    "            lis_col_new.append(lis_col[m] + '_' + lis_col[n])\n",
    "    \n",
    "    lis = df.iloc[:,2:].values.tolist()#全データをlistに変換\n",
    "    num_take = int(len(lis)/len(df.subID.unique()))#一人あたり撮像回数\n",
    "    sub_list = list(df.subID.unique())\n",
    "    \n",
    "    lis_dynamic = []#ある被験者についてのdynamic FC情報\n",
    "    \n",
    "    for c, subID in enumerate(tqdm(sub_list)):\n",
    "        lis_temp = lis[c*num_take:c*num_take+num_take]#ある被験者についてのtimeseries情報\n",
    "        for i in range(len(lis_temp)-window_size+1):\n",
    "            lis_dynamic_temp = lis_temp[i:i+window_size]\n",
    "            lis_df = []#計算後DataFrameとなるlist\n",
    "            lis_df.append(f'{i}-{i+window_size-1}')\n",
    "            lis_df.append(f'{subID}')\n",
    "            for j in range(len(lis_col)):\n",
    "                for k in range(j+1,len(lis_col)):\n",
    "                    lis_dynamic_temp1 = []\n",
    "                    lis_dynamic_temp2 = []\n",
    "                    for l in lis_dynamic_temp:\n",
    "                        lis_dynamic_temp1.append(l[j])\n",
    "                        lis_dynamic_temp2.append(l[k])\n",
    "                    corr = np.corrcoef(lis_dynamic_temp1,lis_dynamic_temp2)[0,1]\n",
    "                    if np.isnan(corr):\n",
    "                        lis_df.append(0)\n",
    "                    else:\n",
    "                        lis_df.append(corr)\n",
    "            lis_dynamic.append(lis_df)\n",
    "    df_dynamic = pd.DataFrame(lis_dynamic,columns=lis_col_new)\n",
    "    return df_dynamic"
   ]
  },
  {
   "cell_type": "code",
   "execution_count": 15,
   "id": "complex-statement",
   "metadata": {},
   "outputs": [
    {
     "data": {
      "application/vnd.jupyter.widget-view+json": {
       "model_id": "47a3a05ce0894aefa33532434df67cd8",
       "version_major": 2,
       "version_minor": 0
      },
      "text/plain": [
       "  0%|          | 0/617 [00:00<?, ?it/s]"
      ]
     },
     "metadata": {},
     "output_type": "display_data"
    },
    {
     "name": "stderr",
     "output_type": "stream",
     "text": [
      "/home/1/16B14626/.local/lib/python3.6/site-packages/numpy/lib/function_base.py:2559: RuntimeWarning: invalid value encountered in true_divide\n",
      "  c /= stddev[:, None]\n",
      "/home/1/16B14626/.local/lib/python3.6/site-packages/numpy/lib/function_base.py:2560: RuntimeWarning: invalid value encountered in true_divide\n",
      "  c /= stddev[None, :]\n"
     ]
    },
    {
     "data": {
      "text/plain": [
       "(75891, 6672)"
      ]
     },
     "execution_count": 15,
     "metadata": {},
     "output_type": "execute_result"
    }
   ],
   "source": [
    "#1日程度の時間がかかる\n",
    "df_dynamic_aal = dynamic_FC_fast(df_aal)\n",
    "df_dynamic_aal.shape\n",
    "df_dynamic_aal.rename(columns={'index': 'time'}, inplace=True)\n",
    "df_dynamic_aal.reset_index(inplace=True)\n",
    "df_dynamic_aal.drop('index',axis=1,inplace=True)"
   ]
  },
  {
   "cell_type": "code",
   "execution_count": 6,
   "id": "married-musical",
   "metadata": {},
   "outputs": [
    {
     "data": {
      "application/vnd.jupyter.widget-view+json": {
       "model_id": "558927aaa98d400f9e6db9e98d17175c",
       "version_major": 2,
       "version_minor": 0
      },
      "text/plain": [
       "  0%|          | 0/617 [00:00<?, ?it/s]"
      ]
     },
     "metadata": {},
     "output_type": "display_data"
    }
   ],
   "source": [
    "#1日程度の時間がかかる\n",
    "df_dynamic_ho = dynamic_FC_fast(df_ho)\n",
    "df_dynamic_ho.shape\n",
    "df_dynamic_ho.rename(columns={'index': 'time'}, inplace=True)\n",
    "df_dynamic_ho.reset_index(inplace=True)\n",
    "df_dynamic_ho.drop('index',axis=1,inplace=True)"
   ]
  },
  {
   "cell_type": "markdown",
   "id": "african-interface",
   "metadata": {},
   "source": [
    "##　存在する被験者のデータのみにsubjects_infoを絞る"
   ]
  },
  {
   "cell_type": "code",
   "execution_count": 16,
   "id": "angry-impression",
   "metadata": {},
   "outputs": [],
   "source": [
    "def subjects_once(df = df_aal, df_sub = df_subjects_data):\n",
    "    sub_lis = list(df[['subID']].drop_duplicates()['subID'])\n",
    "    for i in range(df_sub.shape[0]):\n",
    "        subID = df_sub['subID'][i][df_sub['subID'][i].find('D'):]\n",
    "        if subID in sub_lis:\n",
    "            df_sub.loc[i,'subID'] = df_sub['subID'][i][df_sub['subID'][i].find('D'):]\n",
    "    return df_sub[[False if i[0]=='2' else True for i in df_sub['subID']]]#入ってないやつは2から始まる\n",
    "\n",
    "def subjects_not_in(df,df_sub=df_subjects_data):\n",
    "    lis_not_in = list(set(list(df[['subID']].drop_duplicates()['subID'])) - set(df_sub.subID))\n",
    "    return df[[False if i in lis_not_in else True for i in df['subID']]]"
   ]
  },
  {
   "cell_type": "code",
   "execution_count": 17,
   "id": "introductory-pennsylvania",
   "metadata": {},
   "outputs": [],
   "source": [
    "df_subjects_data = df_subjects_data.rename(columns={'NewID': 'subID'})\n",
    "df_subjects_data = subjects_once(df = df_aal, df_sub = df_subjects_data)\n",
    "df_subjects_data = df_subjects_data.sort_values('subID').reset_index(drop=True)\n",
    "\n",
    "df_aal = subjects_not_in(df=df_aal,df_sub=df_subjects_data)\n",
    "df_aal = df_aal.sort_values(['subID','time']).reset_index(drop=True)\n",
    "\n",
    "df_ho = subjects_not_in(df=df_ho,df_sub=df_subjects_data)\n",
    "df_ho = df_ho.sort_values(['subID','time']).reset_index(drop=True)"
   ]
  },
  {
   "cell_type": "code",
   "execution_count": 18,
   "id": "composed-pavilion",
   "metadata": {},
   "outputs": [],
   "source": [
    "df_dynamic_aal = subjects_not_in(df=df_dynamic_aal,df_sub=df_subjects_data)\n",
    "df_dynamic_aal = df_dynamic_aal.sort_values(['subID','time']).reset_index(drop=True)"
   ]
  },
  {
   "cell_type": "code",
   "execution_count": null,
   "id": "severe-trinidad",
   "metadata": {},
   "outputs": [],
   "source": [
    "df_dynamic_ho = subjects_not_in(df=df_dynamic_ho, df_sub=df_subjects_data)\n",
    "df_dynamic_ho = df_dynamic_ho.sort_values(['subID','time']).reset_index(drop=True)"
   ]
  },
  {
   "cell_type": "markdown",
   "id": "greek-stephen",
   "metadata": {},
   "source": [
    "## randomに被験者の順番を並べ替える"
   ]
  },
  {
   "cell_type": "code",
   "execution_count": 82,
   "id": "neither-involvement",
   "metadata": {},
   "outputs": [],
   "source": [
    "def sort_df(df):\n",
    "    np.random.seed(0)\n",
    "    sort = np.array(df.subID.drop_duplicates())\n",
    "    sort = np.random.choice(sort, len(sort), replace=False)\n",
    "    sort = list(sort)\n",
    "    \n",
    "    if 'time' in df.columns:\n",
    "        df['sort'] = df['subID'].apply(lambda x: sort.index(x) if x in sort else -1)\n",
    "        df = df.sort_values(['sort','time']).reset_index(drop=True).drop('sort', axis=1)\n",
    "    else:\n",
    "        df['sort'] = df['subID'].apply(lambda x: sort.index(x) if x in sort else -1)\n",
    "        df = df.sort_values(['sort']).reset_index(drop=True).drop('sort', axis=1)\n",
    "    return df"
   ]
  },
  {
   "cell_type": "code",
   "execution_count": 83,
   "id": "cathedral-advisory",
   "metadata": {},
   "outputs": [
    {
     "name": "stdout",
     "output_type": "stream",
     "text": [
      "CPU times: user 9.73 s, sys: 4.72 s, total: 14.4 s\n",
      "Wall time: 14.5 s\n"
     ]
    }
   ],
   "source": [
    "%%time\n",
    "df_aal = sort_df(df_aal)\n",
    "df_ho  = sort_df(df_ho)\n",
    "df_subjects_data = sort_df(df_subjects_data)\n",
    "df_dynamic_aal = sort_df(df_dynamic_aal)\n",
    "df_dynamic_ho  = sort_df(df_dynamic_ho)"
   ]
  },
  {
   "cell_type": "markdown",
   "id": "alternative-tender",
   "metadata": {},
   "source": [
    "## dynamic FCのデータが大きすぎるので、float16に変換"
   ]
  },
  {
   "cell_type": "code",
   "execution_count": 85,
   "id": "social-explanation",
   "metadata": {
    "tags": []
   },
   "outputs": [],
   "source": [
    "def transform_float(df):\n",
    "    keys = list(df.columns)\n",
    "    keys.remove('time')\n",
    "    keys.remove('subID')\n",
    "    values = ['float16']*len(keys)\n",
    "    d = dict(zip(keys, values))\n",
    "    df = df.astype(d)\n",
    "    return df"
   ]
  },
  {
   "cell_type": "code",
   "execution_count": 86,
   "id": "thick-correlation",
   "metadata": {},
   "outputs": [
    {
     "name": "stdout",
     "output_type": "stream",
     "text": [
      "CPU times: user 9.82 s, sys: 22.3 ms, total: 9.84 s\n",
      "Wall time: 9.85 s\n"
     ]
    }
   ],
   "source": [
    "%%time\n",
    "df_dynamic_aal = transform_float(df_dynamic_aal)\n",
    "df_dynamic_ho  = transform_float(df_dynamic_ho)"
   ]
  },
  {
   "cell_type": "markdown",
   "id": "breathing-haven",
   "metadata": {},
   "source": [
    "## 外れ値除去"
   ]
  },
  {
   "cell_type": "code",
   "execution_count": null,
   "id": "practical-riding",
   "metadata": {},
   "outputs": [],
   "source": [
    "%%time\n",
    "df_aal = df_aal[df_aal['subID'] != df_subjects_data[df_subjects_data['Age'] == 20]['subID'].iloc[0]]\n",
    "df_ho  = df_ho[df_ho['subID'] != df_subjects_data[df_subjects_data['Age'] == 20]['subID'].iloc[0]]"
   ]
  },
  {
   "cell_type": "code",
   "execution_count": 40,
   "id": "angry-customer",
   "metadata": {},
   "outputs": [
    {
     "name": "stdout",
     "output_type": "stream",
     "text": [
      "CPU times: user 1.34 s, sys: 1.55 s, total: 2.89 s\n",
      "Wall time: 2.89 s\n"
     ]
    }
   ],
   "source": [
    "%%time\n",
    "df_dynamic_aal = df_dynamic_aal[df_dynamic_aal['subID'] != df_subjects_data[df_subjects_data['Age'] == 20]['subID'].iloc[0]]\n",
    "df_dynamic_ho  = df_dynamic_ho[df_dynamic_ho['subID'] != df_subjects_data[df_subjects_data['Age'] == 20]['subID'].iloc[0]]"
   ]
  },
  {
   "cell_type": "code",
   "execution_count": 41,
   "id": "certain-memorial",
   "metadata": {},
   "outputs": [],
   "source": [
    "df_subjects_data = df_subjects_data[df_subjects_data['subID'] != df_subjects_data[df_subjects_data['Age'] == 20]['subID'].iloc[0]]"
   ]
  },
  {
   "cell_type": "markdown",
   "id": "broadband-revelation",
   "metadata": {},
   "source": [
    "## Data 保存"
   ]
  },
  {
   "cell_type": "code",
   "execution_count": 45,
   "id": "expressed-opinion",
   "metadata": {},
   "outputs": [
    {
     "name": "stdout",
     "output_type": "stream",
     "text": [
      "CPU times: user 37.4 s, sys: 310 ms, total: 37.7 s\n",
      "Wall time: 38.1 s\n"
     ]
    }
   ],
   "source": [
    "%%time\n",
    "df_aal.to_csv('../02_data_analysis/roi_timeseries/timeseries_aal.csv', index=False)\n",
    "df_ho.to_csv('../02_data_analysis/roi_timeseries/timeseries_ho.csv', index=False)\n",
    "df_labels_aal.to_csv('../02_data_analysis/roi_labels/labels_aal.csv', index=False)\n",
    "df_labels_ho.to_csv('../02_data_analysis/roi_labels/labels_ho.csv', index=False)\n",
    "df_subjects_data.to_csv('../02_data_analysis/subjects_info/subjects_info.csv', index=False)"
   ]
  },
  {
   "cell_type": "code",
   "execution_count": 46,
   "id": "naughty-carter",
   "metadata": {},
   "outputs": [
    {
     "name": "stdout",
     "output_type": "stream",
     "text": [
      "CPU times: user 10min 44s, sys: 2.6 s, total: 10min 46s\n",
      "Wall time: 10min 48s\n"
     ]
    }
   ],
   "source": [
    "%%time\n",
    "df_dynamic_aal.to_csv('../02_data_analysis/dynamic_FC/dynamic_aal.csv', index=False)"
   ]
  },
  {
   "cell_type": "code",
   "execution_count": 47,
   "id": "floating-retrieval",
   "metadata": {},
   "outputs": [
    {
     "name": "stdout",
     "output_type": "stream",
     "text": [
      "CPU times: user 9min 46s, sys: 2.26 s, total: 9min 48s\n",
      "Wall time: 9min 50s\n"
     ]
    }
   ],
   "source": [
    "%%time\n",
    "df_dynamic_ho.to_csv('../02_data_analysis/dynamic_FC/dynamic_ho.csv', index=False)"
   ]
  },
  {
   "cell_type": "markdown",
   "id": "absent-generation",
   "metadata": {},
   "source": [
    "## Data load"
   ]
  },
  {
   "cell_type": "code",
   "execution_count": 48,
   "id": "adolescent-injection",
   "metadata": {},
   "outputs": [],
   "source": [
    "%%time\n",
    "df_aal = pd.read_csv('../02_data_analysis/roi_timeseries/timeseries_aal.csv')\n",
    "df_ho = pd.read_csv('../02_data_analysis/roi_timeseries/timeseries_ho.csv')\n",
    "df_labels_aal = pd.read_csv('../02_data_analysis/roi_labels/labels_aal.csv')\n",
    "df_labels_ho = pd.read_csv('../02_data_analysis/roi_labels/labels_ho.csv')\n",
    "df_subjects_data = pd.read_csv('../02_data_analysis/subjects_info/subjects_info.csv')"
   ]
  },
  {
   "cell_type": "code",
   "execution_count": 49,
   "id": "threaded-viking",
   "metadata": {},
   "outputs": [],
   "source": [
    "%%time\n",
    "df_dynamic_aal = pd.read_csv('../02_data_analysis/dynamic_FC/dynamic_aal.csv')\n",
    "df_dynamic_ho = pd.read_csv('../02_data_analysis/dynamic_FC/dynamic_ho.csv')"
   ]
  },
  {
   "cell_type": "code",
   "execution_count": 50,
   "id": "quantitative-campaign",
   "metadata": {},
   "outputs": [
    {
     "name": "stdout",
     "output_type": "stream",
     "text": [
      "615\n",
      "615\n",
      "615\n",
      "615\n",
      "615\n"
     ]
    }
   ],
   "source": [
    "print(len(df_aal.subID.drop_duplicates()))\n",
    "print(len(df_ho.subID.drop_duplicates()))\n",
    "print(len(df_dynamic_ho.subID.drop_duplicates()))\n",
    "print(len(df_dynamic_aal.subID.drop_duplicates()))\n",
    "print(len(df_subjects_data.subID.drop_duplicates()))"
   ]
  },
  {
   "cell_type": "code",
   "execution_count": 52,
   "id": "demographic-remains",
   "metadata": {},
   "outputs": [
    {
     "data": {
      "text/plain": [
       "(86100, 118)"
      ]
     },
     "execution_count": 52,
     "metadata": {},
     "output_type": "execute_result"
    },
    {
     "data": {
      "text/plain": [
       "(86100, 112)"
      ]
     },
     "execution_count": 52,
     "metadata": {},
     "output_type": "execute_result"
    },
    {
     "data": {
      "text/plain": [
       "(75645, 5997)"
      ]
     },
     "execution_count": 52,
     "metadata": {},
     "output_type": "execute_result"
    },
    {
     "data": {
      "text/plain": [
       "(75645, 6672)"
      ]
     },
     "execution_count": 52,
     "metadata": {},
     "output_type": "execute_result"
    },
    {
     "data": {
      "text/plain": [
       "(615, 102)"
      ]
     },
     "execution_count": 52,
     "metadata": {},
     "output_type": "execute_result"
    }
   ],
   "source": [
    "df_aal.shape\n",
    "df_ho.shape\n",
    "df_dynamic_ho.shape\n",
    "df_dynamic_aal.shape\n",
    "df_subjects_data.shape"
   ]
  },
  {
   "cell_type": "code",
   "execution_count": null,
   "id": "confirmed-bandwidth",
   "metadata": {},
   "outputs": [],
   "source": []
  }
 ],
 "metadata": {
  "kernelspec": {
   "display_name": "Python 3",
   "language": "python",
   "name": "python3"
  },
  "language_info": {
   "codemirror_mode": {
    "name": "ipython",
    "version": 3
   },
   "file_extension": ".py",
   "mimetype": "text/x-python",
   "name": "python",
   "nbconvert_exporter": "python",
   "pygments_lexer": "ipython3",
   "version": "3.6.5"
  }
 },
 "nbformat": 4,
 "nbformat_minor": 5
}
