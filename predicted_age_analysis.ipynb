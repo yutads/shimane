{
 "cells": [
  {
   "cell_type": "markdown",
   "id": "opponent-clarity",
   "metadata": {},
   "source": [
    "# Analysis"
   ]
  },
  {
   "cell_type": "code",
   "execution_count": 1,
   "id": "compressed-caution",
   "metadata": {},
   "outputs": [],
   "source": [
    "#!python3 -m pip install --user japanize-matplotlib"
   ]
  },
  {
   "cell_type": "markdown",
   "id": "hollywood-spelling",
   "metadata": {},
   "source": [
    "## import ライブラリー"
   ]
  },
  {
   "cell_type": "code",
   "execution_count": 2,
   "id": "continuing-roulette",
   "metadata": {},
   "outputs": [],
   "source": [
    "from IPython.core.interactiveshell import InteractiveShell\n",
    "InteractiveShell.ast_node_interactivity = 'all'\n",
    "\n",
    "import numpy as np\n",
    "import pandas as pd\n",
    "from scipy import stats\n",
    "from scipy.stats import pearsonr\n",
    "from scipy.stats import norm\n",
    "import matplotlib.pyplot as plt\n",
    "from sklearn.linear_model import LinearRegression\n",
    "from sklearn.metrics import r2_score\n",
    "from sklearn.metrics import mean_squared_error\n",
    "from sklearn.metrics import mean_absolute_error\n",
    "import japanize_matplotlib"
   ]
  },
  {
   "cell_type": "markdown",
   "id": "naughty-forest",
   "metadata": {},
   "source": [
    "## Data定義"
   ]
  },
  {
   "cell_type": "code",
   "execution_count": 3,
   "id": "official-least",
   "metadata": {},
   "outputs": [
    {
     "name": "stdout",
     "output_type": "stream",
     "text": [
      "CPU times: user 28.8 ms, sys: 399 µs, total: 29.2 ms\n",
      "Wall time: 36 ms\n"
     ]
    }
   ],
   "source": [
    "%%time\n",
    "df_subjects_info = pd.read_csv('../02_data_analysis/subjects_info/subjects_info.csv')\n",
    "#df_aal = pd.read_csv('../02_data_analysis/roi_timeseries/timeseries_aal.csv')\n",
    "#df_ho = pd.read_csv('../02_data_analysis/roi_timeseries/timeseries_ho.csv')\n",
    "\n",
    "#df_dynamic_aal = pd.read_csv('../02_data_analysis/dynamic_FC/dynamic_aal.csv')\n",
    "#df_dynamic_ho = pd.read_csv('../02_data_analysis/dynamic_FC/dynamic_ho.csv')"
   ]
  },
  {
   "cell_type": "code",
   "execution_count": 4,
   "id": "harmful-longer",
   "metadata": {},
   "outputs": [],
   "source": [
    "def make_info_data(df = df_subjects_info,col = ['Age','Sex','やる気スコア(Apathy scale)']):\n",
    "    subID = np.array(df.subID)\n",
    "    subjects_info_list = []\n",
    "    for ID in subID:\n",
    "        data = np.array(df[df.subID == ID][col])[0]\n",
    "        if 'Sex' in col:\n",
    "            idx_sex = col.index('Sex')\n",
    "            if data[idx_sex] == '男':\n",
    "                data[idx_sex] = 0\n",
    "            else:\n",
    "                data[idx_sex] = 1\n",
    "        \n",
    "        subjects_info_list.append(data)\n",
    "    subjects_info = np.array(subjects_info_list)\n",
    "    \n",
    "    if 'Age' in col:\n",
    "        idx_age = col.index('Age')\n",
    "    else:\n",
    "        idx_age = None\n",
    "    for i in range(len(col)):\n",
    "        if i == idx_age:\n",
    "            subjects_info[:,i] = (subjects_info[:,i] - \\\n",
    "                                  np.mean(subjects_info[:,i]))/np.std(subjects_info[:,i])\n",
    "    return subjects_info.astype(np.float)\n",
    "\n",
    "def make_data(df, subID = df_subjects_info.subID ,remove_list = ['time','subID']):\n",
    "    data_list = []\n",
    "    df_cols = list(df.columns)\n",
    "    for r in remove_list:\n",
    "        try:\n",
    "            df_cols.remove(r)\n",
    "        except:\n",
    "            pass\n",
    "    for ID in df_subjects_info.subID:\n",
    "        data = df[df.subID == ID][df_cols]\n",
    "        data = np.array(data)\n",
    "        data_list.append(data)\n",
    "    data = np.array(data_list)\n",
    "    return data"
   ]
  },
  {
   "cell_type": "code",
   "execution_count": 5,
   "id": "latest-excellence",
   "metadata": {},
   "outputs": [
    {
     "name": "stdout",
     "output_type": "stream",
     "text": [
      "CPU times: user 1.05 s, sys: 1.41 ms, total: 1.05 s\n",
      "Wall time: 1.05 s\n"
     ]
    }
   ],
   "source": [
    "%%time\n",
    "data_label = make_info_data()\n",
    "age_mean= df_subjects_info.Age.mean()\n",
    "age_std = df_subjects_info.Age.std()\n",
    "\n",
    "#data_aal = make_data(df_aal)\n",
    "#data_ho = make_data(df_ho)\n",
    "#data_dynamic_aal = make_data(df_dynamic_aal)\n",
    "#data_dynamic_ho  = make_data(df_dynamic_ho)"
   ]
  },
  {
   "cell_type": "code",
   "execution_count": 6,
   "id": "crucial-trace",
   "metadata": {},
   "outputs": [],
   "source": [
    "roi_list = ['msdl',\n",
    "            'Yeo',\n",
    "            'aal',\n",
    "            'ho',\n",
    "            'destrieux',\n",
    "            #'Dosenbach',\n",
    "            #'Power',\n",
    "            #'seitzman'\n",
    "           ]"
   ]
  },
  {
   "cell_type": "code",
   "execution_count": 7,
   "id": "latin-bachelor",
   "metadata": {},
   "outputs": [],
   "source": [
    "def variable_name(roi = ''):\n",
    "    user_input = f'{roi}_1'\n",
    "    globals()[user_input] = np.load(f'../02_data_analysis/temp/{roi}_1.npz', allow_pickle=True)\n",
    "    user_input = f'{roi}_2'\n",
    "    globals()[user_input] = np.load(f'../02_data_analysis/temp/{roi}_2.npz', allow_pickle=True)\n",
    "    user_input = f'{roi}_dynamic_1'\n",
    "    globals()[user_input] = np.load(f'../02_data_analysis/temp/{roi}_dynamic_1.npz', allow_pickle=True)\n",
    "    user_input = f'{roi}_dynamic_2'\n",
    "    globals()[user_input] = np.load(f'../02_data_analysis/temp/{roi}_dynamic_2.npz', allow_pickle=True)\n",
    "    \n",
    "    name = f'{roi}_1'\n",
    "    user_input = f'test_pred_{roi}_1'\n",
    "    globals()[user_input] = eval(name)['arr_0']\n",
    "    user_input = f'test_pred_{roi}_corrected_1'\n",
    "    globals()[user_input] = eval(name)['arr_1']\n",
    "    user_input = f'test_label_{roi}_1'\n",
    "    globals()[user_input] = eval(name)['arr_2']\n",
    "    user_input = f'test_idx_{roi}_1'\n",
    "    globals()[user_input] = eval(name)['arr_3']\n",
    "    \n",
    "    name = f'{roi}_2'\n",
    "    user_input = f'test_pred_{roi}_2'\n",
    "    globals()[user_input] = eval(name)['arr_0']\n",
    "    user_input = f'test_pred_{roi}_corrected_2'\n",
    "    globals()[user_input] = eval(name)['arr_1']\n",
    "    user_input = f'test_label_{roi}_2'\n",
    "    globals()[user_input] = eval(name)['arr_2']\n",
    "    user_input = f'test_idx_{roi}_2'\n",
    "    globals()[user_input] = eval(name)['arr_3']\n",
    "    \n",
    "    name = f'{roi}_dynamic_1'\n",
    "    user_input = f'test_pred_{roi}_dynamic_1'\n",
    "    globals()[user_input] = eval(name)['arr_0']\n",
    "    user_input = f'test_pred_{roi}_dynamic_corrected_1'\n",
    "    globals()[user_input] = eval(name)['arr_1']\n",
    "    user_input = f'test_label_{roi}_dynamic_1'\n",
    "    globals()[user_input] = eval(name)['arr_2']\n",
    "    user_input = f'test_idx_{roi}_dynamic_1'\n",
    "    globals()[user_input] = eval(name)['arr_3']\n",
    "    \n",
    "    name = f'{roi}_dynamic_2'\n",
    "    user_input = f'test_pred_{roi}_dynamic_2'\n",
    "    globals()[user_input] = eval(name)['arr_0']\n",
    "    user_input = f'test_pred_{roi}_dynamic_corrected_2'\n",
    "    globals()[user_input] = eval(name)['arr_1']\n",
    "    user_input = f'test_label_{roi}_dynamic_2'\n",
    "    globals()[user_input] = eval(name)['arr_2']\n",
    "    user_input = f'test_idx_{roi}_dynamic_2'\n",
    "    globals()[user_input] = eval(name)['arr_3']"
   ]
  },
  {
   "cell_type": "code",
   "execution_count": 8,
   "id": "medical-ensemble",
   "metadata": {},
   "outputs": [],
   "source": [
    "for roi_name in roi_list:\n",
    "    variable_name(roi_name)"
   ]
  },
  {
   "cell_type": "code",
   "execution_count": 9,
   "id": "ignored-victorian",
   "metadata": {},
   "outputs": [],
   "source": [
    "def variable_name_LSTM(roi = ''):\n",
    "    user_input = f'{roi}_lstm'\n",
    "    globals()[user_input] = np.load(f'../02_data_analysis/temp/{roi}_lstm.npz', allow_pickle=True)\n",
    "    user_input = f'{roi}_lstm_bi'\n",
    "    globals()[user_input] = np.load(f'../02_data_analysis/temp/{roi}_lstm_bi.npz', allow_pickle=True)\n",
    "    user_input = f'{roi}_dynamic_lstm'\n",
    "    globals()[user_input] = np.load(f'../02_data_analysis/temp/{roi}_lstm_dynamic.npz', allow_pickle=True)\n",
    "    user_input = f'{roi}_dynamic_lstm_bi'\n",
    "    globals()[user_input] = np.load(f'../02_data_analysis/temp/{roi}_lstm_dynamic_bi.npz', allow_pickle=True)\n",
    "    \n",
    "    name = f'{roi}_lstm'\n",
    "    user_input = f'test_pred_{roi}_lstm'\n",
    "    globals()[user_input] = eval(name)['arr_0']\n",
    "    user_input = f'test_pred_{roi}_corrected_lstm'\n",
    "    globals()[user_input] = eval(name)['arr_1']\n",
    "    user_input = f'test_label_{roi}_lstm'\n",
    "    globals()[user_input] = eval(name)['arr_2']\n",
    "    user_input = f'test_idx_{roi}_lstm'\n",
    "    globals()[user_input] = eval(name)['arr_3']\n",
    "    \n",
    "    name = f'{roi}_lstm_bi'\n",
    "    user_input = f'test_pred_{roi}_lstm_bi'\n",
    "    globals()[user_input] = eval(name)['arr_0']\n",
    "    user_input = f'test_pred_{roi}_corrected_lstm_bi'\n",
    "    globals()[user_input] = eval(name)['arr_1']\n",
    "    user_input = f'test_label_{roi}_lstm_bi'\n",
    "    globals()[user_input] = eval(name)['arr_2']\n",
    "    user_input = f'test_idx_{roi}_lstm_bi'\n",
    "    globals()[user_input] = eval(name)['arr_3']\n",
    "    \n",
    "    name = f'{roi}_dynamic_lstm'\n",
    "    user_input = f'test_pred_{roi}_dynamic_lstm'\n",
    "    globals()[user_input] = eval(name)['arr_0']\n",
    "    user_input = f'test_pred_{roi}_dynamic_corrected_lstm'\n",
    "    globals()[user_input] = eval(name)['arr_1']\n",
    "    user_input = f'test_label_{roi}_dynamic_lstm'\n",
    "    globals()[user_input] = eval(name)['arr_2']\n",
    "    user_input = f'test_idx_{roi}_dynamic_lstm'\n",
    "    globals()[user_input] = eval(name)['arr_3']\n",
    "    \n",
    "    name = f'{roi}_dynamic_lstm_bi'\n",
    "    user_input = f'test_pred_{roi}_dynamic_lstm_bi'\n",
    "    globals()[user_input] = eval(name)['arr_0']\n",
    "    user_input = f'test_pred_{roi}_dynamic_corrected_lstm_bi'\n",
    "    globals()[user_input] = eval(name)['arr_1']\n",
    "    user_input = f'test_label_{roi}_dynamic_lstm_bi'\n",
    "    globals()[user_input] = eval(name)['arr_2']\n",
    "    user_input = f'test_idx_{roi}_dynamic_lstm_bi'\n",
    "    globals()[user_input] = eval(name)['arr_3']"
   ]
  },
  {
   "cell_type": "code",
   "execution_count": 10,
   "id": "suspected-foster",
   "metadata": {},
   "outputs": [],
   "source": [
    "for roi_name in roi_list:\n",
    "    variable_name_LSTM(roi_name)"
   ]
  },
  {
   "cell_type": "code",
   "execution_count": 11,
   "id": "rocky-implementation",
   "metadata": {},
   "outputs": [],
   "source": [
    "def variable_name_Multi(roi = ''):\n",
    "    user_input = f'multi_{roi}_1'\n",
    "    globals()[user_input] = np.load(f'../02_data_analysis/temp/multi_smooth_{roi}_1.npz', allow_pickle=True)\n",
    "    user_input = f'multi_{roi}_2'\n",
    "    globals()[user_input] = np.load(f'../02_data_analysis/temp/multi_smooth_{roi}_2.npz', allow_pickle=True)\n",
    "    user_input = f'multi_{roi}_dynamic_1'\n",
    "    globals()[user_input] = np.load(f'../02_data_analysis/temp/multi_smooth_{roi}_dynamic_1.npz', allow_pickle=True)\n",
    "    user_input = f'multi_{roi}_dynamic_2'\n",
    "    globals()[user_input] = np.load(f'../02_data_analysis/temp/multi_smooth_{roi}_dynamic_2.npz', allow_pickle=True)\n",
    "    \n",
    "    name = f'multi_{roi}_1'\n",
    "    user_input = f'test_pred_multi_{roi}_1'\n",
    "    globals()[user_input] = eval(name)['arr_0']\n",
    "    user_input = f'test_pred_multi_{roi}_corrected_1'\n",
    "    globals()[user_input] = eval(name)['arr_1']\n",
    "    user_input = f'test_label_multi_{roi}_1'\n",
    "    globals()[user_input] = eval(name)['arr_2']\n",
    "    user_input = f'test_idx_multi_{roi}_1'\n",
    "    globals()[user_input] = eval(name)['arr_3']\n",
    "    \n",
    "    name = f'multi_{roi}_2'\n",
    "    user_input = f'test_pred_multi_{roi}_2'\n",
    "    globals()[user_input] = eval(name)['arr_0']\n",
    "    user_input = f'test_pred_multi_{roi}_corrected_2'\n",
    "    globals()[user_input] = eval(name)['arr_1']\n",
    "    user_input = f'test_label_multi_{roi}_2'\n",
    "    globals()[user_input] = eval(name)['arr_2']\n",
    "    user_input = f'test_idx_multi_{roi}_2'\n",
    "    globals()[user_input] = eval(name)['arr_3']\n",
    "    \n",
    "    name = f'multi_{roi}_dynamic_1'\n",
    "    user_input = f'test_pred_multi_{roi}_dynamic_1'\n",
    "    globals()[user_input] = eval(name)['arr_0']\n",
    "    user_input = f'test_pred_multi_{roi}_dynamic_corrected_1'\n",
    "    globals()[user_input] = eval(name)['arr_1']\n",
    "    user_input = f'test_label_multi_{roi}_dynamic_1'\n",
    "    globals()[user_input] = eval(name)['arr_2']\n",
    "    user_input = f'test_idx_multi_{roi}_dynamic_1'\n",
    "    globals()[user_input] = eval(name)['arr_3']\n",
    "    \n",
    "    name = f'multi_{roi}_dynamic_2'\n",
    "    user_input = f'test_pred_multi_{roi}_dynamic_2'\n",
    "    globals()[user_input] = eval(name)['arr_0']\n",
    "    user_input = f'test_pred_multi_{roi}_dynamic_corrected_2'\n",
    "    globals()[user_input] = eval(name)['arr_1']\n",
    "    user_input = f'test_label_multi_{roi}_dynamic_2'\n",
    "    globals()[user_input] = eval(name)['arr_2']\n",
    "    user_input = f'test_idx_multi_{roi}_dynamic_2'\n",
    "    globals()[user_input] = eval(name)['arr_3']"
   ]
  },
  {
   "cell_type": "code",
   "execution_count": 12,
   "id": "banner-venue",
   "metadata": {},
   "outputs": [],
   "source": [
    "for roi_name in roi_list:\n",
    "    variable_name_Multi(roi_name)"
   ]
  },
  {
   "cell_type": "code",
   "execution_count": 13,
   "id": "cooked-mineral",
   "metadata": {},
   "outputs": [],
   "source": [
    "def variable_name_Single(roi = ''):\n",
    "    user_input = f'single_{roi}_1'\n",
    "    globals()[user_input] = np.load(f'../02_data_analysis/temp/single_smooth_{roi}_1.npz', allow_pickle=True)\n",
    "    user_input = f'single_{roi}_2'\n",
    "    globals()[user_input] = np.load(f'../02_data_analysis/temp/single_smooth_{roi}_2.npz', allow_pickle=True)\n",
    "    user_input = f'single_{roi}_dynamic_1'\n",
    "    globals()[user_input] = np.load(f'../02_data_analysis/temp/single_smooth_{roi}_dynamic_1.npz', allow_pickle=True)\n",
    "    user_input = f'single_{roi}_dynamic_2'\n",
    "    globals()[user_input] = np.load(f'../02_data_analysis/temp/single_smooth_{roi}_dynamic_2.npz', allow_pickle=True)\n",
    "    \n",
    "    name = f'single_{roi}_1'\n",
    "    user_input = f'test_pred_single_{roi}_1'\n",
    "    globals()[user_input] = eval(name)['arr_0']\n",
    "    user_input = f'test_pred_single_{roi}_corrected_1'\n",
    "    globals()[user_input] = eval(name)['arr_1']\n",
    "    user_input = f'test_label_single_{roi}_1'\n",
    "    globals()[user_input] = eval(name)['arr_2']\n",
    "    user_input = f'test_idx_single_{roi}_1'\n",
    "    globals()[user_input] = eval(name)['arr_3']\n",
    "    \n",
    "    name = f'single_{roi}_2'\n",
    "    user_input = f'test_pred_single_{roi}_2'\n",
    "    globals()[user_input] = eval(name)['arr_0']\n",
    "    user_input = f'test_pred_single_{roi}_corrected_2'\n",
    "    globals()[user_input] = eval(name)['arr_1']\n",
    "    user_input = f'test_label_single_{roi}_2'\n",
    "    globals()[user_input] = eval(name)['arr_2']\n",
    "    user_input = f'test_idx_single_{roi}_2'\n",
    "    globals()[user_input] = eval(name)['arr_3']\n",
    "    \n",
    "    name = f'single_{roi}_dynamic_1'\n",
    "    user_input = f'test_pred_single_{roi}_dynamic_1'\n",
    "    globals()[user_input] = eval(name)['arr_0']\n",
    "    user_input = f'test_pred_single_{roi}_dynamic_corrected_1'\n",
    "    globals()[user_input] = eval(name)['arr_1']\n",
    "    user_input = f'test_label_single_{roi}_dynamic_1'\n",
    "    globals()[user_input] = eval(name)['arr_2']\n",
    "    user_input = f'test_idx_single_{roi}_dynamic_1'\n",
    "    globals()[user_input] = eval(name)['arr_3']\n",
    "    \n",
    "    name = f'single_{roi}_dynamic_2'\n",
    "    user_input = f'test_pred_single_{roi}_dynamic_2'\n",
    "    globals()[user_input] = eval(name)['arr_0']\n",
    "    user_input = f'test_pred_single_{roi}_dynamic_corrected_2'\n",
    "    globals()[user_input] = eval(name)['arr_1']\n",
    "    user_input = f'test_label_single_{roi}_dynamic_2'\n",
    "    globals()[user_input] = eval(name)['arr_2']\n",
    "    user_input = f'test_idx_single_{roi}_dynamic_2'\n",
    "    globals()[user_input] = eval(name)['arr_3']"
   ]
  },
  {
   "cell_type": "code",
   "execution_count": 14,
   "id": "sweet-operations",
   "metadata": {},
   "outputs": [],
   "source": [
    "for roi_name in roi_list:\n",
    "    variable_name_Single(roi_name)"
   ]
  },
  {
   "cell_type": "markdown",
   "id": "representative-friendly",
   "metadata": {},
   "source": [
    "## 予測結果"
   ]
  },
  {
   "cell_type": "code",
   "execution_count": 15,
   "id": "excited-instruction",
   "metadata": {},
   "outputs": [
    {
     "data": {
      "text/plain": [
       "True"
      ]
     },
     "execution_count": 15,
     "metadata": {},
     "output_type": "execute_result"
    },
    {
     "data": {
      "text/plain": [
       "True"
      ]
     },
     "execution_count": 15,
     "metadata": {},
     "output_type": "execute_result"
    }
   ],
   "source": [
    "np.all(test_label_msdl_1 == test_label_msdl_2)\n",
    "test_label = test_label_msdl_1\n",
    "np.all(test_idx_msdl_1 == test_idx_msdl_2)\n",
    "test_idx = test_idx_msdl_1"
   ]
  },
  {
   "cell_type": "code",
   "execution_count": 16,
   "id": "several-africa",
   "metadata": {},
   "outputs": [],
   "source": [
    "n_splits = len(test_idx_msdl_1)"
   ]
  },
  {
   "cell_type": "code",
   "execution_count": 17,
   "id": "superb-expense",
   "metadata": {},
   "outputs": [],
   "source": [
    "def mean_absolute_error_pred(preds,labels):\n",
    "    for i in range(n_splits):\n",
    "        if not i:\n",
    "            label = labels[i,:,0:1]\n",
    "        else:\n",
    "            label = np.concatenate([label,labels[i,:,0:1]])\n",
    "\n",
    "    for i in range(n_splits):\n",
    "        if not i:\n",
    "            pred = preds[i].mean(axis=0)[:,0:1]\n",
    "        else:\n",
    "            pred = np.concatenate([pred,preds[i].mean(axis=0)[:,0:1]])\n",
    "            \n",
    "    label = label.reshape(-1)\n",
    "    label = label*age_std+age_mean\n",
    "    pred  = pred.reshape(-1)\n",
    "    pred  = pred*age_std+age_mean\n",
    "    \n",
    "    return mean_absolute_error(pred,label)\n",
    "\n",
    "def mean_squared_error_pred(preds,labels):\n",
    "    for i in range(n_splits):\n",
    "        if not i:\n",
    "            label = labels[i,:,0:1]\n",
    "        else:\n",
    "            label = np.concatenate([label,labels[i,:,0:1]])\n",
    "\n",
    "    for i in range(n_splits):\n",
    "        if not i:\n",
    "            pred = preds[i].mean(axis=0)[:,0:1]\n",
    "        else:\n",
    "            pred = np.concatenate([pred,preds[i].mean(axis=0)[:,0:1]])\n",
    "    \n",
    "    label = label.reshape(-1)\n",
    "    label = label*age_std+age_mean\n",
    "    pred  = pred.reshape(-1)\n",
    "    pred  = pred*age_std+age_mean\n",
    "    \n",
    "    return mean_squared_error(pred,label)"
   ]
  },
  {
   "cell_type": "code",
   "execution_count": 18,
   "id": "textile-bridge",
   "metadata": {},
   "outputs": [
    {
     "name": "stdout",
     "output_type": "stream",
     "text": [
      "AAL Transformer\n"
     ]
    },
    {
     "data": {
      "text/plain": [
       "8.344981455871606"
      ]
     },
     "execution_count": 18,
     "metadata": {},
     "output_type": "execute_result"
    },
    {
     "data": {
      "text/plain": [
       "8.316643974436607"
      ]
     },
     "execution_count": 18,
     "metadata": {},
     "output_type": "execute_result"
    },
    {
     "data": {
      "text/plain": [
       "8.58145617964987"
      ]
     },
     "execution_count": 18,
     "metadata": {},
     "output_type": "execute_result"
    },
    {
     "data": {
      "text/plain": [
       "8.710014010935456"
      ]
     },
     "execution_count": 18,
     "metadata": {},
     "output_type": "execute_result"
    },
    {
     "name": "stdout",
     "output_type": "stream",
     "text": [
      "AAL Multi Transformer\n"
     ]
    },
    {
     "data": {
      "text/plain": [
       "8.551378967410564"
      ]
     },
     "execution_count": 18,
     "metadata": {},
     "output_type": "execute_result"
    },
    {
     "data": {
      "text/plain": [
       "8.496075465080187"
      ]
     },
     "execution_count": 18,
     "metadata": {},
     "output_type": "execute_result"
    },
    {
     "data": {
      "text/plain": [
       "8.608539981469612"
      ]
     },
     "execution_count": 18,
     "metadata": {},
     "output_type": "execute_result"
    },
    {
     "data": {
      "text/plain": [
       "8.62177725678544"
      ]
     },
     "execution_count": 18,
     "metadata": {},
     "output_type": "execute_result"
    },
    {
     "name": "stdout",
     "output_type": "stream",
     "text": [
      "AAL LSTM\n"
     ]
    },
    {
     "data": {
      "text/plain": [
       "8.621858368742116"
      ]
     },
     "execution_count": 18,
     "metadata": {},
     "output_type": "execute_result"
    },
    {
     "data": {
      "text/plain": [
       "9.171760635882"
      ]
     },
     "execution_count": 18,
     "metadata": {},
     "output_type": "execute_result"
    },
    {
     "data": {
      "text/plain": [
       "8.621729427358149"
      ]
     },
     "execution_count": 18,
     "metadata": {},
     "output_type": "execute_result"
    },
    {
     "data": {
      "text/plain": [
       "8.75685752626647"
      ]
     },
     "execution_count": 18,
     "metadata": {},
     "output_type": "execute_result"
    }
   ],
   "source": [
    "print('AAL Transformer')\n",
    "mean_absolute_error_pred(test_pred_aal_1,test_label)\n",
    "mean_absolute_error_pred(test_pred_aal_2,test_label)\n",
    "mean_absolute_error_pred(test_pred_aal_dynamic_1,test_label)\n",
    "mean_absolute_error_pred(test_pred_aal_dynamic_2,test_label)\n",
    "\n",
    "print('AAL Multi Transformer')\n",
    "mean_absolute_error_pred(test_pred_multi_aal_1,test_label)\n",
    "mean_absolute_error_pred(test_pred_multi_aal_2,test_label)\n",
    "mean_absolute_error_pred(test_pred_multi_aal_dynamic_1,test_label)\n",
    "mean_absolute_error_pred(test_pred_multi_aal_dynamic_2,test_label)\n",
    "\n",
    "print('AAL LSTM')\n",
    "mean_absolute_error_pred(test_pred_aal_lstm,test_label)\n",
    "mean_absolute_error_pred(test_pred_aal_lstm_bi,test_label)\n",
    "mean_absolute_error_pred(test_pred_aal_dynamic_lstm,test_label)\n",
    "mean_absolute_error_pred(test_pred_aal_dynamic_lstm_bi,test_label)"
   ]
  },
  {
   "cell_type": "code",
   "execution_count": 19,
   "id": "novel-species",
   "metadata": {},
   "outputs": [
    {
     "name": "stdout",
     "output_type": "stream",
     "text": [
      "Harvard-Oxford Transformer\n"
     ]
    },
    {
     "data": {
      "text/plain": [
       "8.733321584221313"
      ]
     },
     "execution_count": 19,
     "metadata": {},
     "output_type": "execute_result"
    },
    {
     "data": {
      "text/plain": [
       "8.939323797509617"
      ]
     },
     "execution_count": 19,
     "metadata": {},
     "output_type": "execute_result"
    },
    {
     "data": {
      "text/plain": [
       "8.182145476400848"
      ]
     },
     "execution_count": 19,
     "metadata": {},
     "output_type": "execute_result"
    },
    {
     "data": {
      "text/plain": [
       "8.304340580103462"
      ]
     },
     "execution_count": 19,
     "metadata": {},
     "output_type": "execute_result"
    },
    {
     "name": "stdout",
     "output_type": "stream",
     "text": [
      "Harvard-Oxford Multi Transformer\n"
     ]
    },
    {
     "data": {
      "text/plain": [
       "8.819089075810972"
      ]
     },
     "execution_count": 19,
     "metadata": {},
     "output_type": "execute_result"
    },
    {
     "data": {
      "text/plain": [
       "9.047169517236679"
      ]
     },
     "execution_count": 19,
     "metadata": {},
     "output_type": "execute_result"
    },
    {
     "data": {
      "text/plain": [
       "8.276954987919623"
      ]
     },
     "execution_count": 19,
     "metadata": {},
     "output_type": "execute_result"
    },
    {
     "data": {
      "text/plain": [
       "8.591003123594032"
      ]
     },
     "execution_count": 19,
     "metadata": {},
     "output_type": "execute_result"
    },
    {
     "name": "stdout",
     "output_type": "stream",
     "text": [
      "Harvard-Oxford LSTM\n"
     ]
    },
    {
     "data": {
      "text/plain": [
       "8.811098226420343"
      ]
     },
     "execution_count": 19,
     "metadata": {},
     "output_type": "execute_result"
    },
    {
     "data": {
      "text/plain": [
       "8.770974718194154"
      ]
     },
     "execution_count": 19,
     "metadata": {},
     "output_type": "execute_result"
    },
    {
     "data": {
      "text/plain": [
       "8.456507401281621"
      ]
     },
     "execution_count": 19,
     "metadata": {},
     "output_type": "execute_result"
    },
    {
     "data": {
      "text/plain": [
       "8.942631096139863"
      ]
     },
     "execution_count": 19,
     "metadata": {},
     "output_type": "execute_result"
    }
   ],
   "source": [
    "print('Harvard-Oxford Transformer')\n",
    "mean_absolute_error_pred(test_pred_ho_1,test_label)\n",
    "mean_absolute_error_pred(test_pred_ho_2,test_label)\n",
    "mean_absolute_error_pred(test_pred_ho_dynamic_1,test_label)\n",
    "mean_absolute_error_pred(test_pred_ho_dynamic_2,test_label)\n",
    "\n",
    "print('Harvard-Oxford Multi Transformer')\n",
    "mean_absolute_error_pred(test_pred_multi_ho_1,test_label)\n",
    "mean_absolute_error_pred(test_pred_multi_ho_2,test_label)\n",
    "mean_absolute_error_pred(test_pred_multi_ho_dynamic_1,test_label)\n",
    "mean_absolute_error_pred(test_pred_multi_ho_dynamic_2,test_label)\n",
    "\n",
    "print('Harvard-Oxford LSTM')\n",
    "mean_absolute_error_pred(test_pred_ho_lstm,test_label)\n",
    "mean_absolute_error_pred(test_pred_ho_lstm_bi,test_label)\n",
    "mean_absolute_error_pred(test_pred_ho_dynamic_lstm,test_label)\n",
    "mean_absolute_error_pred(test_pred_ho_dynamic_lstm_bi,test_label)"
   ]
  },
  {
   "cell_type": "code",
   "execution_count": 20,
   "id": "changed-corruption",
   "metadata": {},
   "outputs": [],
   "source": [
    "def test_plot(preds_ROI1,\n",
    "              preds_ROI2,\n",
    "              preds_dfc1,\n",
    "              preds_dfc2,\n",
    "              labels,\n",
    "              title=''):\n",
    "    preds_list = [preds_ROI1,\n",
    "                 preds_ROI2,\n",
    "                 preds_dfc1,\n",
    "                 preds_dfc2]\n",
    "    \n",
    "    fig, axs = plt.subplots(2, 2, figsize=(12, 12), dpi=96)\n",
    "    fig.suptitle(title, fontsize=14, x=0.5, y=0.92)   # 図のタイトル\n",
    "    plt.subplots_adjust(wspace=0.2, hspace=0.25)\n",
    "    \n",
    "    for n, preds in enumerate(preds_list):\n",
    "    \n",
    "        for i in range(n_splits):\n",
    "            if not i:\n",
    "                label = labels[i,:,0:1]\n",
    "            else:\n",
    "                label = np.concatenate([label,labels[i,:,0:1]])\n",
    "\n",
    "        for i in range(n_splits):\n",
    "            if not i:\n",
    "                pred = preds[i].mean(axis=0)[:,0:1]\n",
    "            else:\n",
    "                pred = np.concatenate([pred,preds[i].mean(axis=0)[:,0:1]])\n",
    "\n",
    "        if n == 0:\n",
    "            lis = [0,0]\n",
    "            if 'LSTM' in title or 'lstm' in title:\n",
    "                tit = 'ROI Model'\n",
    "            else:\n",
    "                tit = 'ROI Model 1'\n",
    "        elif n == 1:\n",
    "            lis = [0,1]\n",
    "            if 'LSTM' in title or 'lstm' in title:\n",
    "                tit = 'ROI Model Bidirectional'\n",
    "            else:\n",
    "                tit = 'ROI Model 2'\n",
    "        elif n == 2:\n",
    "            lis = [1,0]\n",
    "            if 'LSTM' in title or 'lstm' in title:\n",
    "                tit = 'dFC Model'\n",
    "            else:\n",
    "                tit = 'dFC Model 1'\n",
    "        elif n == 3:\n",
    "            lis = [1,1]\n",
    "            if 'LSTM' in title or 'lstm' in title:\n",
    "                tit = 'dFC Model Bidirectional'\n",
    "            else:\n",
    "                tit = 'dFC Model 2'\n",
    "        \n",
    "        new_line = '\\n'\n",
    "        \n",
    "        lr = LinearRegression()\n",
    "        lr.fit(label*age_std+age_mean,pred[:,0]*age_std+age_mean)\n",
    "        corr,p = pearsonr(label[:,0],pred[:,0])\n",
    "        mae = mean_absolute_error_pred(preds,labels)\n",
    "        \n",
    "        axs[lis[0], lis[1]].scatter(label[:,0]*age_std+age_mean,pred[:,0]*age_std+age_mean,\n",
    "                   label = f'corrcoef : {corr:.3f}{new_line}p value : {p}{new_line}MAE : {mae}')\n",
    "        \n",
    "        plt.axes(axs[lis[0], lis[1]])\n",
    "        plt.plot(label[:,0]*age_std+age_mean,\n",
    "                 lr.predict(label*age_std+age_mean), color = 'red',\n",
    "                label = f'y = {lr.coef_[0]:.3f}x + {lr.intercept_:.3f}')#回帰直線をプロット\n",
    "        plt.title(tit, fontsize=14)    # x軸のラベル\n",
    "        plt.xlabel('Chronological Age', fontsize=14)    # x軸のラベル\n",
    "        plt.ylabel('Predicted Age', fontsize=14)  # y軸のラベル\n",
    "        plt.legend(fontsize=10.5)\n",
    "        plt.grid()                     # グリッド線を表示\n",
    "        \n",
    "    path = '../04_result/image/'\n",
    "    title = title.split()\n",
    "    path += 'Predict_'\n",
    "    for s in title:\n",
    "        path += s + '_'\n",
    "    path = path[:-1] + '.png'\n",
    "\n",
    "    fig.savefig(path)"
   ]
  },
  {
   "cell_type": "code",
   "execution_count": 21,
   "id": "sapphire-italic",
   "metadata": {},
   "outputs": [],
   "source": [
    "def corrected_predicted_age(preds_ROI1,\n",
    "                            preds_ROI2,\n",
    "                            preds_dfc1,\n",
    "                            preds_dfc2,\n",
    "                            labels):\n",
    "    preds_list = [preds_ROI1,\n",
    "                 preds_ROI2,\n",
    "                 preds_dfc1,\n",
    "                 preds_dfc2]\n",
    "    \n",
    "    corrected_preds_all = []\n",
    "    for n, preds in enumerate(preds_list):\n",
    "        corrected_preds = []\n",
    "        for i in range(n_splits):\n",
    "            label = labels[i,:,0:1]\n",
    "            pred = preds[i].mean(axis=0)[:,0:1]\n",
    "            lr = LinearRegression()\n",
    "            lr.fit(label*age_std+age_mean,pred[:,0]*age_std+age_mean)\n",
    "            corrected_pred = pred[:,0]*age_std+age_mean + label[:,0]*age_std+age_mean - (lr.coef_[0] * (label[:,0]*age_std+age_mean) + lr.intercept_)\n",
    "            corrected_pred = (corrected_pred - age_mean) / age_std\n",
    "            corrected_pred = corrected_pred.reshape(1,corrected_pred.shape[0],1)\n",
    "            corrected_preds.append(corrected_pred)\n",
    "        corrected_preds_all.append(corrected_preds)\n",
    "    return np.array(corrected_preds_all)"
   ]
  },
  {
   "cell_type": "code",
   "execution_count": 22,
   "id": "seven-iceland",
   "metadata": {},
   "outputs": [],
   "source": [
    "def test_plot_all(model = 'transformer',\n",
    "                  roi_list = roi_list,\n",
    "                  corrected = False,\n",
    "                  corrected_leak = False):\n",
    "    if corrected:\n",
    "        if corrected_leak:\n",
    "            for roi in roi_list:\n",
    "                if model == 'transformer':\n",
    "                    test_plot(eval(f'test_corrected_pred_{roi}_1'),\n",
    "                              eval(f'test_corrected_pred_{roi}_2'),\n",
    "                              eval(f'test_corrected_pred_{roi}_dynamic_1'),\n",
    "                              eval(f'test_corrected_pred_{roi}_dynamic_2'),\n",
    "                              test_label,\n",
    "                              f'Corrected 2 {roi} Transformer')\n",
    "                elif model == 'LSTM':\n",
    "                    test_plot(eval(f'test_corrected_pred_{roi}_lstm'),\n",
    "                              eval(f'test_corrected_pred_{roi}_lstm_bi'),\n",
    "                              eval(f'test_corrected_pred_{roi}_dynamic_lstm'),\n",
    "                              eval(f'test_corrected_pred_{roi}_dynamic_lstm_bi'),\n",
    "                              test_label,\n",
    "                              f'Corrected 2 {roi} LSTM')\n",
    "                elif 'Multi' in model:\n",
    "                    test_plot(eval(f'test_corrected_pred_multi_{roi}_1'),\n",
    "                              eval(f'test_corrected_pred_multi_{roi}_2'),\n",
    "                              eval(f'test_corrected_pred_multi_{roi}_dynamic_1'),\n",
    "                              eval(f'test_corrected_pred_multi_{roi}_dynamic_2'),\n",
    "                              test_label,\n",
    "                              f'Corrected 2 {roi} Multi')\n",
    "        else:\n",
    "            for roi in roi_list:\n",
    "                if model == 'transformer':\n",
    "                    test_plot(eval(f'test_pred_{roi}_corrected_1'),\n",
    "                              eval(f'test_pred_{roi}_corrected_2'),\n",
    "                              eval(f'test_pred_{roi}_dynamic_corrected_1'),\n",
    "                              eval(f'test_pred_{roi}_dynamic_corrected_2'),\n",
    "                              test_label,\n",
    "                              f'Corrected 1 {roi} Transformer')\n",
    "                elif model == 'LSTM':\n",
    "                    test_plot(eval(f'test_pred_{roi}_corrected_lstm'),\n",
    "                              eval(f'test_pred_{roi}_corrected_lstm_bi'),\n",
    "                              eval(f'test_pred_{roi}_dynamic_corrected_lstm'),\n",
    "                              eval(f'test_pred_{roi}_dynamic_corrected_lstm_bi'),\n",
    "                              test_label,\n",
    "                              f'Corrected 1 {roi} LSTM')\n",
    "                elif 'Multi' in model:\n",
    "                    test_plot(eval(f'test_pred_multi_{roi}_corrected_1'),\n",
    "                              eval(f'test_pred_multi_{roi}_corrected_2'),\n",
    "                              eval(f'test_pred_multi_{roi}_dynamic_corrected_1'),\n",
    "                              eval(f'test_pred_multi_{roi}_dynamic_corrected_2'),\n",
    "                              test_label,\n",
    "                              f'Corrected 1 {roi} Multi')\n",
    "            \n",
    "    else:\n",
    "        for roi in roi_list:\n",
    "            if model == 'transformer':\n",
    "                test_plot(eval(f'test_pred_{roi}_1'),\n",
    "                          eval(f'test_pred_{roi}_2'),\n",
    "                          eval(f'test_pred_{roi}_dynamic_1'),\n",
    "                          eval(f'test_pred_{roi}_dynamic_2'),\n",
    "                          test_label,\n",
    "                          f'{roi} Transformer')\n",
    "            elif model == 'LSTM':\n",
    "                test_plot(eval(f'test_pred_{roi}_lstm'),\n",
    "                          eval(f'test_pred_{roi}_lstm_bi'),\n",
    "                          eval(f'test_pred_{roi}_dynamic_lstm'),\n",
    "                          eval(f'test_pred_{roi}_dynamic_lstm_bi'),\n",
    "                          test_label,\n",
    "                          f'{roi} LSTM')\n",
    "            elif 'Multi' in model:\n",
    "                test_plot(eval(f'test_pred_multi_{roi}_1'),\n",
    "                          eval(f'test_pred_multi_{roi}_2'),\n",
    "                          eval(f'test_pred_multi_{roi}_dynamic_1'),\n",
    "                          eval(f'test_pred_multi_{roi}_dynamic_2'),\n",
    "                          test_label,\n",
    "                          f'{roi} Multi')"
   ]
  },
  {
   "cell_type": "code",
   "execution_count": 23,
   "id": "reverse-minister",
   "metadata": {},
   "outputs": [],
   "source": [
    "def corrected_predicted_age_all(model = 'transformer',\n",
    "                                roi_list = roi_list):\n",
    "    for roi in roi_list:\n",
    "        print(f'{model}:{roi}')\n",
    "        if model == 'transformer':\n",
    "            user_input1 = f'test_corrected_pred_{roi}_1'\n",
    "            user_input2 = f'test_corrected_pred_{roi}_2'\n",
    "            user_input3 = f'test_corrected_pred_{roi}_dynamic_1'\n",
    "            user_input4 = f'test_corrected_pred_{roi}_dynamic_2'\n",
    "            \n",
    "            globals()[user_input1],\\\n",
    "            globals()[user_input2],\\\n",
    "            globals()[user_input3],\\\n",
    "            globals()[user_input4] = corrected_predicted_age(eval(f'test_pred_{roi}_1'),\n",
    "                                                             eval(f'test_pred_{roi}_2'),\n",
    "                                                             eval(f'test_pred_{roi}_dynamic_1'),\n",
    "                                                             eval(f'test_pred_{roi}_dynamic_2'),\n",
    "                                                             test_label\n",
    "                                                            )\n",
    "        elif model == 'LSTM':\n",
    "            user_input1 = f'test_corrected_pred_{roi}_lstm'\n",
    "            user_input2 = f'test_corrected_pred_{roi}_lstm_bi'\n",
    "            user_input3 = f'test_corrected_pred_{roi}_dynamic_lstm'\n",
    "            user_input4 = f'test_corrected_pred_{roi}_dynamic_lstm_bi'\n",
    "            \n",
    "            globals()[user_input1],\\\n",
    "            globals()[user_input2],\\\n",
    "            globals()[user_input3],\\\n",
    "            globals()[user_input4] = corrected_predicted_age(eval(f'test_pred_{roi}_lstm'),\n",
    "                                                             eval(f'test_pred_{roi}_lstm_bi'),\n",
    "                                                             eval(f'test_pred_{roi}_dynamic_lstm'),\n",
    "                                                             eval(f'test_pred_{roi}_dynamic_lstm_bi'),\n",
    "                                                             test_label\n",
    "                                                            )\n",
    "            \n",
    "        elif 'Multi' in model:\n",
    "            \n",
    "            user_input1 = f'test_corrected_pred_multi_{roi}_1'\n",
    "            user_input2 = f'test_corrected_pred_multi_{roi}_2'\n",
    "            user_input3 = f'test_corrected_pred_multi_{roi}_dynamic_1'\n",
    "            user_input4 = f'test_corrected_pred_multi_{roi}_dynamic_2'\n",
    "            \n",
    "            globals()[user_input1],\\\n",
    "            globals()[user_input2],\\\n",
    "            globals()[user_input3],\\\n",
    "            globals()[user_input4] = corrected_predicted_age(eval(f'test_pred_multi_{roi}_1'),\n",
    "                                                             eval(f'test_pred_multi_{roi}_2'),\n",
    "                                                             eval(f'test_pred_multi_{roi}_dynamic_1'),\n",
    "                                                             eval(f'test_pred_multi_{roi}_dynamic_2'),\n",
    "                                                             test_label)"
   ]
  },
  {
   "cell_type": "code",
   "execution_count": 24,
   "id": "descending-costume",
   "metadata": {},
   "outputs": [
    {
     "name": "stdout",
     "output_type": "stream",
     "text": [
      "transformer:msdl\n",
      "transformer:Yeo\n",
      "transformer:aal\n",
      "transformer:ho\n",
      "transformer:destrieux\n",
      "LSTM:msdl\n",
      "LSTM:Yeo\n",
      "LSTM:aal\n",
      "LSTM:ho\n",
      "LSTM:destrieux\n",
      "Multi:msdl\n",
      "Multi:Yeo\n",
      "Multi:aal\n",
      "Multi:ho\n",
      "Multi:destrieux\n"
     ]
    }
   ],
   "source": [
    "corrected_predicted_age_all()\n",
    "corrected_predicted_age_all('LSTM')\n",
    "corrected_predicted_age_all('Multi')"
   ]
  },
  {
   "cell_type": "markdown",
   "id": "dimensional-refund",
   "metadata": {},
   "source": [
    "### Transformer"
   ]
  },
  {
   "cell_type": "code",
   "execution_count": 25,
   "id": "automatic-intellectual",
   "metadata": {},
   "outputs": [],
   "source": [
    "#test_plot_all()\n",
    "#test_plot_all(corrected = True)\n",
    "#test_plot_all(corrected = True,corrected_leak = True)"
   ]
  },
  {
   "cell_type": "markdown",
   "id": "configured-failure",
   "metadata": {},
   "source": [
    "### LSTM"
   ]
  },
  {
   "cell_type": "code",
   "execution_count": 26,
   "id": "metropolitan-withdrawal",
   "metadata": {},
   "outputs": [],
   "source": [
    "#test_plot_all(model = 'LSTM')\n",
    "#test_plot_all(model = 'LSTM', corrected = True)\n",
    "#test_plot_all(model = 'LSTM', corrected = True,corrected_leak = True)"
   ]
  },
  {
   "cell_type": "markdown",
   "id": "occupied-kingdom",
   "metadata": {},
   "source": [
    "### Multi"
   ]
  },
  {
   "cell_type": "code",
   "execution_count": 27,
   "id": "later-oriental",
   "metadata": {},
   "outputs": [],
   "source": [
    "#test_plot_all(model = 'Multi')\n",
    "#test_plot_all(model = 'Multi', corrected = True)\n",
    "#test_plot_all(model = 'Multi', corrected = True,corrected_leak = True)"
   ]
  },
  {
   "cell_type": "markdown",
   "id": "rocky-event",
   "metadata": {},
   "source": [
    "## やる気スコアとの相関"
   ]
  },
  {
   "cell_type": "code",
   "execution_count": 28,
   "id": "improving-arlington",
   "metadata": {},
   "outputs": [],
   "source": [
    "def test_compare(preds_ROI1,\n",
    "                 preds_ROI2,\n",
    "                 preds_dfc1,\n",
    "                 preds_dfc2,\n",
    "                 labels,\n",
    "                 title='',\n",
    "                 test_idxs = test_idx,\n",
    "                 index = 'やる気スコア(Apathy scale)'\n",
    "                ):\n",
    "    preds_list = [preds_ROI1,\n",
    "                 preds_ROI2,\n",
    "                 preds_dfc1,\n",
    "                 preds_dfc2]\n",
    "    \n",
    "    data_label = make_info_data(col = [index])\n",
    "    \n",
    "    fig, axs = plt.subplots(4, 3, figsize=(15, 24), dpi=96)\n",
    "    fig.suptitle(index + ' ' + title, fontsize=16, x=0.5, y=0.92)   # 図のタイトル\n",
    "    plt.subplots_adjust(wspace=0.2, hspace=0.3)\n",
    "    \n",
    "    for n, preds in enumerate(preds_list):\n",
    "    \n",
    "        for i in range(n_splits):\n",
    "            if not i:\n",
    "                label = labels[i,:,0:1]\n",
    "            else:\n",
    "                label = np.concatenate([label,labels[i,:,0:1]])\n",
    "\n",
    "        for i in range(n_splits):\n",
    "            if not i:\n",
    "                pred = preds[i].mean(axis=0)[:,0:1]\n",
    "            else:\n",
    "                pred = np.concatenate([pred,preds[i].mean(axis=0)[:,0:1]])\n",
    "    \n",
    "        for i in range(n_splits):\n",
    "            if not i:\n",
    "                test_idx = test_idxs[i]\n",
    "            else:\n",
    "                test_idx = np.concatenate([test_idx,test_idxs[i]])\n",
    "                \n",
    "        if n == 0:\n",
    "            if 'LSTM' in title or 'lstm' in title:\n",
    "                tit = 'ROI Model'\n",
    "            else:\n",
    "                tit = 'ROI Model 1'\n",
    "        elif n == 1:\n",
    "            if 'LSTM' in title or 'lstm' in title:\n",
    "                tit = 'ROI Model Bidirectional'\n",
    "            else:\n",
    "                tit = 'ROI Model 2'\n",
    "        elif n == 2:\n",
    "            if 'LSTM' in title or 'lstm' in title:\n",
    "                tit = 'dFC Model'\n",
    "            else:\n",
    "                tit = 'dFC Model 1'\n",
    "        elif n == 3:\n",
    "            if 'LSTM' in title or 'lstm' in title:\n",
    "                tit = 'dFC Model Bidirectional'\n",
    "            else:\n",
    "                tit = 'dFC Model 2'\n",
    "            \n",
    "        new_line = '\\n'\n",
    "\n",
    "\n",
    "        label = label.reshape(-1)\n",
    "        label = label*age_std+age_mean\n",
    "        pred  = pred.reshape(-1)\n",
    "        pred  = pred*age_std+age_mean \n",
    "        diff  = pred - label\n",
    "    \n",
    "        corr_diff,p_diff = pearsonr(diff,data_label[test_idx][:,0])\n",
    "        corr_pred,p_pred = pearsonr(pred,data_label[test_idx][:,0])\n",
    "        corr_label,p_label = pearsonr(label,data_label[test_idx][:,0])\n",
    "        \n",
    "        axs[n,0].scatter(label,data_label[test_idx][:,0],\n",
    "                   label = f'corrcoef label: {corr_label:.3f},p value : {p_label:.3f}')#散布図をプロット\n",
    "        plt.axes(axs[n,0])\n",
    "        plt.xlabel('Chronological Age', fontsize=14)    # x軸のラベル\n",
    "        plt.ylabel('apathy scale', fontsize=14)  # y軸のラベル\n",
    "        plt.legend(fontsize=10.5)\n",
    "        plt.grid()                     # グリッド線を表示\n",
    "\n",
    "        axs[n,1].scatter(pred,data_label[test_idx][:,0],\n",
    "                   label = f'corrcoef pred: {corr_pred:.3f},p value : {p_pred:.3f}')#散布図をプロット\n",
    "        plt.axes(axs[n,1])\n",
    "        plt.xlabel('Corrcted Predicted Age', fontsize=14)    # x軸のラベル\n",
    "        plt.ylabel('apathy scale', fontsize=14)  # y軸のラベル\n",
    "        plt.title(tit, fontsize=14)\n",
    "        plt.legend(fontsize=10.5)\n",
    "        plt.grid()                     # グリッド線を表示\n",
    "        \n",
    "        axs[n,2].scatter(diff,data_label[test_idx][:,0],\n",
    "                   label = f'corrcoef diff: {corr_diff:.3f},p value : {p_diff:.3f}')#散布図をプロット\n",
    "        plt.axes(axs[n,2])\n",
    "        plt.xlabel('Corrcted Predicted Age - Chronological Age', fontsize=14)    # x軸のラベル\n",
    "        plt.ylabel('apathy scale', fontsize=14)  # y軸のラベル\n",
    "        plt.legend(fontsize=10.5)\n",
    "        plt.grid()                     # グリッド線を表示\n",
    "        \n",
    "\n",
    "    plt.show()\n",
    "    \n",
    "    path = '../04_result/image/'\n",
    "    title = title.split()\n",
    "    for s in title:\n",
    "        path += s + '_'\n",
    "    path = path[:-1] + '.png'\n",
    "\n",
    "    fig.savefig(path)"
   ]
  },
  {
   "cell_type": "code",
   "execution_count": 29,
   "id": "surrounded-liability",
   "metadata": {},
   "outputs": [],
   "source": [
    "def test_compare_all(model = 'transformer',\n",
    "                     roi_list = roi_list,\n",
    "                     corrected_leak = True,\n",
    "                     index = 'やる気スコア(Apathy scale)'\n",
    "                    ):\n",
    "    if corrected_leak:\n",
    "        for roi in roi_list:\n",
    "            if model == 'transformer':\n",
    "                test_compare(eval(f'test_corrected_pred_{roi}_1'),\n",
    "                             eval(f'test_corrected_pred_{roi}_2'),\n",
    "                             eval(f'test_corrected_pred_{roi}_dynamic_1'),\n",
    "                             eval(f'test_corrected_pred_{roi}_dynamic_2'),\n",
    "                             test_label,\n",
    "                             f'Age Correlation 2 {roi} Transformer',\n",
    "                             index = index)\n",
    "            elif model == 'LSTM':\n",
    "                test_compare(eval(f'test_corrected_pred_{roi}_lstm'),\n",
    "                             eval(f'test_corrected_pred_{roi}_lstm_bi'),\n",
    "                             eval(f'test_corrected_pred_{roi}_dynamic_lstm'),\n",
    "                             eval(f'test_corrected_pred_{roi}_dynamic_lstm_bi'),\n",
    "                             test_label,\n",
    "                             f'Age Correlation 2 {roi} LSTM',\n",
    "                             index = index)\n",
    "            elif 'Multi' in model:\n",
    "                test_compare(eval(f'test_corrected_pred_multi_{roi}_1'),\n",
    "                             eval(f'test_corrected_pred_multi_{roi}_2'),\n",
    "                             eval(f'test_corrected_pred_multi_{roi}_dynamic_1'),\n",
    "                             eval(f'test_corrected_pred_multi_{roi}_dynamic_2'),\n",
    "                             test_label,\n",
    "                             f'Age Correlation 2 {roi} Multi',\n",
    "                             index = index)\n",
    "    else:\n",
    "        for roi in roi_list:\n",
    "            if model == 'transformer':\n",
    "                test_compare(eval(f'test_pred_{roi}_corrected_1'),\n",
    "                             eval(f'test_pred_{roi}_corrected_2'),\n",
    "                             eval(f'test_pred_{roi}_dynamic_corrected_1'),\n",
    "                             eval(f'test_pred_{roi}_dynamic_corrected_2'),\n",
    "                             test_label,\n",
    "                             f'Age Correlation 1 {roi} Transformer',\n",
    "                             index = index)\n",
    "            elif model == 'LSTM':\n",
    "                test_compare(eval(f'test_pred_{roi}_corrected_lstm'),\n",
    "                             eval(f'test_pred_{roi}_corrected_lstm_bi'),\n",
    "                             eval(f'test_pred_{roi}_dynamic_corrected_lstm'),\n",
    "                             eval(f'test_pred_{roi}_dynamic_corrected_lstm_bi'),\n",
    "                             test_label,\n",
    "                             f'Age Correlation 1 {roi} LSTM',\n",
    "                             index = index)\n",
    "            elif 'Multi' in model:\n",
    "                test_compare(eval(f'test_pred_multi_{roi}_corrected_1'),\n",
    "                             eval(f'test_pred_multi_{roi}_corrected_2'),\n",
    "                             eval(f'test_pred_multi_{roi}_dynamic_corrected_1'),\n",
    "                             eval(f'test_pred_multi_{roi}_dynamic_corrected_2'),\n",
    "                             test_label,\n",
    "                             f'Age Correlation 1 {roi} Multi',\n",
    "                             index = index)"
   ]
  },
  {
   "cell_type": "markdown",
   "id": "universal-occupation",
   "metadata": {},
   "source": [
    "### Transformer"
   ]
  },
  {
   "cell_type": "code",
   "execution_count": 30,
   "id": "civic-separate",
   "metadata": {},
   "outputs": [],
   "source": [
    "#SDS（自己評価式抑うつ性尺度)\n",
    "#岡部"
   ]
  },
  {
   "cell_type": "code",
   "execution_count": 31,
   "id": "conventional-medline",
   "metadata": {},
   "outputs": [],
   "source": [
    "#test_compare_all()\n",
    "#test_compare_all(corrected_leak = False)"
   ]
  },
  {
   "cell_type": "markdown",
   "id": "documented-cooler",
   "metadata": {},
   "source": [
    "### LSTM"
   ]
  },
  {
   "cell_type": "code",
   "execution_count": 32,
   "id": "existing-september",
   "metadata": {},
   "outputs": [],
   "source": [
    "#test_compare_all(model = 'LSTM')\n",
    "#test_compare_all(model = 'LSTM', corrected_leak = False)"
   ]
  },
  {
   "cell_type": "markdown",
   "id": "faced-europe",
   "metadata": {},
   "source": [
    "### Multi"
   ]
  },
  {
   "cell_type": "code",
   "execution_count": 33,
   "id": "reported-hopkins",
   "metadata": {},
   "outputs": [],
   "source": [
    "#test_compare_all(model = 'Multi')\n",
    "#test_compare_all(model = 'Multi', corrected_leak = False)"
   ]
  },
  {
   "cell_type": "markdown",
   "id": "respective-luxury",
   "metadata": {},
   "source": [
    "### 検定"
   ]
  },
  {
   "cell_type": "code",
   "execution_count": 34,
   "id": "instant-analysis",
   "metadata": {},
   "outputs": [],
   "source": [
    "def test_t_test(preds_ROI1,\n",
    "                preds_ROI2,\n",
    "                preds_dfc1,\n",
    "                preds_dfc2,\n",
    "                labels,\n",
    "                title='',\n",
    "                test_idxs = test_idx,\n",
    "                index = 'やる気スコア(Apathy scale)'\n",
    "               ):\n",
    "    preds_list = [preds_ROI1,\n",
    "                 preds_ROI2,\n",
    "                 preds_dfc1,\n",
    "                 preds_dfc2]\n",
    "    \n",
    "    data_label = make_info_data(col = [index])\n",
    "\n",
    "    for n, preds in enumerate(preds_list):\n",
    "    \n",
    "        for i in range(n_splits):\n",
    "            if not i:\n",
    "                label = labels[i,:,0:1]\n",
    "            else:\n",
    "                label = np.concatenate([label,labels[i,:,0:1]])\n",
    "\n",
    "        for i in range(n_splits):\n",
    "            if not i:\n",
    "                pred = preds[i].mean(axis=0)[:,0:1]\n",
    "            else:\n",
    "                pred = np.concatenate([pred,preds[i].mean(axis=0)[:,0:1]])\n",
    "    \n",
    "        for i in range(n_splits):\n",
    "            if not i:\n",
    "                test_idx = test_idxs[i]\n",
    "            else:\n",
    "                test_idx = np.concatenate([test_idx,test_idxs[i]])\n",
    "                \n",
    "        if n == 0:\n",
    "            if 'LSTM' in title or 'lstm' in title:\n",
    "                tit = 'ROI Model'\n",
    "            else:\n",
    "                tit = 'ROI Model 1'\n",
    "        elif n == 1:\n",
    "            if 'LSTM' in title or 'lstm' in title:\n",
    "                tit = 'ROI Model Bidirectional'\n",
    "            else:\n",
    "                tit = 'ROI Model 2'\n",
    "        elif n == 2:\n",
    "            if 'LSTM' in title or 'lstm' in title:\n",
    "                tit = 'dFC Model'\n",
    "            else:\n",
    "                tit = 'dFC Model 1'\n",
    "        elif n == 3:\n",
    "            if 'LSTM' in title or 'lstm' in title:\n",
    "                tit = 'dFC Model Bidirectional'\n",
    "            else:\n",
    "                tit = 'dFC Model 2'\n",
    "            \n",
    "        new_line = '\\n'\n",
    "\n",
    "\n",
    "        label = label.reshape(-1)\n",
    "        label = label*age_std+age_mean\n",
    "        pred  = pred.reshape(-1)\n",
    "        pred  = pred*age_std+age_mean \n",
    "        diff  = pred - label\n",
    "        \n",
    "        data_label = data_label.reshape(-1)\n",
    "        \n",
    "        diff_0 = diff[data_label >= 20]\n",
    "        diff_1 = diff[data_label <= 10]\n",
    "        \n",
    "        #plt.hist(diff_0)\n",
    "        #plt.show()\n",
    "        #plt.hist(diff_1)\n",
    "        #plt.show()\n",
    "        #print(f'np.mean(diff_0):{np.mean(diff_0)}')\n",
    "        #print(f'np.mean(diff_1):{np.mean(diff_1)}')\n",
    "        \n",
    "        t,p = stats.ttest_ind(diff_0,diff_1)\n",
    "        print(f't:{t:.4f}')\n",
    "        print(f'p:{p:.4f}')\n",
    "        \n",
    "        data_label_0 = data_label[diff >= 0]\n",
    "        data_label_1 = data_label[diff <= -0]\n",
    "        \n",
    "        #plt.hist(data_label_0)\n",
    "        #plt.show()\n",
    "        #plt.hist(data_label_1)\n",
    "        #plt.show()\n",
    "        #print(f'np.mean(data_label_0):{np.mean(data_label_0)}')\n",
    "        #print(f'np.mean(data_label_1):{np.mean(data_label_1)}')\n",
    "        \n",
    "        t,p = stats.ttest_ind(data_label_0,data_label_1)\n",
    "        print(f't:{t:.4f}')\n",
    "        print(f'p:{p:.4f}')"
   ]
  },
  {
   "cell_type": "code",
   "execution_count": 35,
   "id": "familiar-frequency",
   "metadata": {},
   "outputs": [],
   "source": [
    "def test_t_test_all(model = 'transformer',\n",
    "                     roi_list = roi_list,\n",
    "                     corrected_leak = True,\n",
    "                     index = 'やる気スコア(Apathy scale)'\n",
    "                    ):\n",
    "    if corrected_leak:\n",
    "        for roi in roi_list:\n",
    "            print(roi)\n",
    "            if model == 'transformer':\n",
    "                test_t_test(eval(f'test_corrected_pred_{roi}_1'),\n",
    "                             eval(f'test_corrected_pred_{roi}_2'),\n",
    "                             eval(f'test_corrected_pred_{roi}_dynamic_1'),\n",
    "                             eval(f'test_corrected_pred_{roi}_dynamic_2'),\n",
    "                             test_label,\n",
    "                             f'Age Correlation 2 {roi} Transformer',\n",
    "                             index = index)\n",
    "            elif model == 'LSTM':\n",
    "                test_t_test(eval(f'test_corrected_pred_{roi}_lstm'),\n",
    "                             eval(f'test_corrected_pred_{roi}_lstm_bi'),\n",
    "                             eval(f'test_corrected_pred_{roi}_dynamic_lstm'),\n",
    "                             eval(f'test_corrected_pred_{roi}_dynamic_lstm_bi'),\n",
    "                             test_label,\n",
    "                             f'Age Correlation 2 {roi} LSTM',\n",
    "                             index = index)\n",
    "            elif 'Multi' in model:\n",
    "                test_t_test(eval(f'test_corrected_pred_multi_{roi}_1'),\n",
    "                             eval(f'test_corrected_pred_multi_{roi}_2'),\n",
    "                             eval(f'test_corrected_pred_multi_{roi}_dynamic_1'),\n",
    "                             eval(f'test_corrected_pred_multi_{roi}_dynamic_2'),\n",
    "                             test_label,\n",
    "                             f'Age Correlation 2 {roi} Multi',\n",
    "                             index = index)\n",
    "    else:\n",
    "        for roi in roi_list:\n",
    "            print(roi)\n",
    "            if model == 'transformer':\n",
    "                test_t_test(eval(f'test_pred_{roi}_corrected_1'),\n",
    "                             eval(f'test_pred_{roi}_corrected_2'),\n",
    "                             eval(f'test_pred_{roi}_dynamic_corrected_1'),\n",
    "                             eval(f'test_pred_{roi}_dynamic_corrected_2'),\n",
    "                             test_label,\n",
    "                             f'Age Correlation 1 {roi} Transformer',\n",
    "                             index = index)\n",
    "            elif model == 'LSTM':\n",
    "                test_t_test(eval(f'test_pred_{roi}_corrected_lstm'),\n",
    "                             eval(f'test_pred_{roi}_corrected_lstm_bi'),\n",
    "                             eval(f'test_pred_{roi}_dynamic_corrected_lstm'),\n",
    "                             eval(f'test_pred_{roi}_dynamic_corrected_lstm_bi'),\n",
    "                             test_label,\n",
    "                             f'Age Correlation 1 {roi} LSTM',\n",
    "                             index = index)\n",
    "            elif 'Multi' in model:\n",
    "                test_t_test(eval(f'test_pred_multi_{roi}_corrected_1'),\n",
    "                             eval(f'test_pred_multi_{roi}_corrected_2'),\n",
    "                             eval(f'test_pred_multi_{roi}_dynamic_corrected_1'),\n",
    "                             eval(f'test_pred_multi_{roi}_dynamic_corrected_2'),\n",
    "                             test_label,\n",
    "                             f'Age Correlation 1 {roi} Multi',\n",
    "                             index = index)"
   ]
  },
  {
   "cell_type": "code",
   "execution_count": 36,
   "id": "senior-orleans",
   "metadata": {},
   "outputs": [
    {
     "name": "stdout",
     "output_type": "stream",
     "text": [
      "msdl\n",
      "t:0.7699\n",
      "p:0.4419\n",
      "t:0.6992\n",
      "p:0.4847\n",
      "t:0.3317\n",
      "p:0.7403\n",
      "t:0.7974\n",
      "p:0.4255\n",
      "t:1.0044\n",
      "p:0.3159\n",
      "t:1.7676\n",
      "p:0.0776\n",
      "t:0.7413\n",
      "p:0.4590\n",
      "t:-0.1997\n",
      "p:0.8418\n",
      "Yeo\n",
      "t:0.0650\n",
      "p:0.9482\n",
      "t:0.9620\n",
      "p:0.3364\n",
      "t:-0.3306\n",
      "p:0.7412\n",
      "t:0.2480\n",
      "p:0.8042\n",
      "t:1.5367\n",
      "p:0.1254\n",
      "t:0.5267\n",
      "p:0.5986\n",
      "t:1.4836\n",
      "p:0.1389\n",
      "t:1.0056\n",
      "p:0.3150\n",
      "aal\n",
      "t:1.8154\n",
      "p:0.0704\n",
      "t:0.0173\n",
      "p:0.9862\n",
      "t:2.0287\n",
      "p:0.0433\n",
      "t:0.3877\n",
      "p:0.6984\n",
      "t:1.5569\n",
      "p:0.1205\n",
      "t:0.0121\n",
      "p:0.9903\n",
      "t:2.1189\n",
      "p:0.0349\n",
      "t:1.1111\n",
      "p:0.2670\n",
      "ho\n",
      "t:1.4622\n",
      "p:0.1447\n",
      "t:-0.7051\n",
      "p:0.4810\n",
      "t:1.7618\n",
      "p:0.0790\n",
      "t:0.4471\n",
      "p:0.6550\n",
      "t:1.6420\n",
      "p:0.1016\n",
      "t:0.4295\n",
      "p:0.6677\n",
      "t:1.8700\n",
      "p:0.0624\n",
      "t:-0.0747\n",
      "p:0.9405\n",
      "destrieux\n",
      "t:1.5474\n",
      "p:0.1227\n",
      "t:0.3248\n",
      "p:0.7455\n",
      "t:1.2959\n",
      "p:0.1959\n",
      "t:0.7293\n",
      "p:0.4661\n",
      "t:0.9155\n",
      "p:0.3606\n",
      "t:0.4960\n",
      "p:0.6201\n",
      "t:1.0499\n",
      "p:0.2945\n",
      "t:-0.3283\n",
      "p:0.7428\n"
     ]
    }
   ],
   "source": [
    "test_t_test_all()"
   ]
  },
  {
   "cell_type": "markdown",
   "id": "nervous-cooler",
   "metadata": {},
   "source": [
    "## 相補性"
   ]
  },
  {
   "cell_type": "code",
   "execution_count": 37,
   "id": "progressive-client",
   "metadata": {},
   "outputs": [],
   "source": [
    "def test_complement(preds1,preds2,title=''):\n",
    "    for i in range(n_splits):\n",
    "        if not i:\n",
    "            pred1 = preds1[i].mean(axis=0)\n",
    "        else:\n",
    "            pred1 = np.concatenate([pred1,preds1[i].mean(axis=0)])\n",
    "    for i in range(n_splits):\n",
    "        if not i:\n",
    "            pred2 = preds2[i].mean(axis=0)\n",
    "        else:\n",
    "            pred2 = np.concatenate([pred2,preds2[i].mean(axis=0)])\n",
    "    \n",
    "    new_line = '\\n'\n",
    "\n",
    "    corr,p = pearsonr(pred1[:,0]*age_std + age_mean,pred2[:,0]*age_std + age_mean)\n",
    "    lr = LinearRegression()\n",
    "    lr.fit(pred1*age_std + age_mean,pred2[:,0]*age_std + age_mean)\n",
    "    \n",
    "    plt.figure(figsize=(6, 6), dpi=96)\n",
    "    plt.scatter(pred1[:,0]*age_std + age_mean,pred2[:,0]*age_std + age_mean,\n",
    "               label = f'corrcoef: {corr:.3f}{new_line}p value : {p}')\n",
    "    plt.title(title, fontsize=14)   # 図のタイトル\n",
    "    plt.legend(fontsize=10.5)\n",
    "    plt.grid()                     # グリッド線を表示\n",
    "    plt.show()                     # 図の表示\n",
    "\n",
    "    print(\"相関係数: \", corr)\n",
    "    print('r^2 data: ', r2_score(pred1[:,0],pred2[:,0]))\n",
    "    print('切片: ', lr.intercept_)\n",
    "    print('傾き: ', lr.coef_[0])"
   ]
  },
  {
   "cell_type": "code",
   "execution_count": 38,
   "id": "reflected-player",
   "metadata": {},
   "outputs": [
    {
     "data": {
      "image/png": "[encoded data removed]",
      "text/plain": [
       "<Figure size 576x576 with 1 Axes>"
      ]
     },
     "metadata": {
      "needs_background": "light"
     },
     "output_type": "display_data"
    },
    {
     "name": "stdout",
     "output_type": "stream",
     "text": [
      "相関係数:  0.8719467153630405\n",
      "r^2 data:  0.7599238209807084\n",
      "切片:  15.9091835\n",
      "傾き:  0.7448727\n"
     ]
    }
   ],
   "source": [
    "test_complement(test_pred_aal_lstm,test_pred_aal_lstm_bi,'LSTM vs LSTM bi')"
   ]
  },
  {
   "cell_type": "code",
   "execution_count": 39,
   "id": "clean-checklist",
   "metadata": {},
   "outputs": [
    {
     "data": {
      "image/png": "[encoded data removed]",
      "text/plain": [
       "<Figure size 576x576 with 1 Axes>"
      ]
     },
     "metadata": {
      "needs_background": "light"
     },
     "output_type": "display_data"
    },
    {
     "name": "stdout",
     "output_type": "stream",
     "text": [
      "相関係数:  0.8924837708648612\n",
      "r^2 data:  0.7890798416611688\n",
      "切片:  17.457957737726865\n",
      "傾き:  0.72054225004226\n"
     ]
    }
   ],
   "source": [
    "test_complement(test_pred_aal_1,test_pred_aal_lstm,'Transformer vs LSTM')"
   ]
  },
  {
   "cell_type": "code",
   "execution_count": 40,
   "id": "cheap-messenger",
   "metadata": {},
   "outputs": [
    {
     "data": {
      "image/png": "[encoded data removed]",
      "text/plain": [
       "<Figure size 576x576 with 1 Axes>"
      ]
     },
     "metadata": {
      "needs_background": "light"
     },
     "output_type": "display_data"
    },
    {
     "name": "stdout",
     "output_type": "stream",
     "text": [
      "相関係数:  0.864053864099372\n",
      "r^2 data:  0.7157822264915187\n",
      "切片:  25.240048088925775\n",
      "傾き:  0.5959254530763082\n"
     ]
    }
   ],
   "source": [
    "test_complement(test_pred_aal_1,test_pred_aal_lstm_bi,'Transformer vs LSTM bi')"
   ]
  },
  {
   "cell_type": "code",
   "execution_count": 41,
   "id": "hybrid-shore",
   "metadata": {},
   "outputs": [
    {
     "data": {
      "image/png": "[encoded data removed]",
      "text/plain": [
       "<Figure size 576x576 with 1 Axes>"
      ]
     },
     "metadata": {
      "needs_background": "light"
     },
     "output_type": "display_data"
    },
    {
     "name": "stdout",
     "output_type": "stream",
     "text": [
      "相関係数:  0.9648520126058379\n",
      "r^2 data:  0.9303864936138253\n",
      "切片:  2.8620376391005067\n",
      "傾き:  0.9534494050085327\n"
     ]
    }
   ],
   "source": [
    "test_complement(test_pred_aal_1,test_pred_aal_2,'Transformer 1 vs Transformer 2')"
   ]
  },
  {
   "cell_type": "code",
   "execution_count": 42,
   "id": "mexican-bacteria",
   "metadata": {},
   "outputs": [
    {
     "data": {
      "image/png": "[encoded data removed]",
      "text/plain": [
       "<Figure size 576x576 with 1 Axes>"
      ]
     },
     "metadata": {
      "needs_background": "light"
     },
     "output_type": "display_data"
    },
    {
     "name": "stdout",
     "output_type": "stream",
     "text": [
      "相関係数:  0.9704017789123648\n",
      "r^2 data:  0.9321075837565101\n",
      "切片:  9.381706522143261\n",
      "傾き:  0.8473722842778505\n"
     ]
    }
   ],
   "source": [
    "test_complement(test_pred_aal_dynamic_1,test_pred_aal_dynamic_2,\n",
    "                'Transformer 1 dFC vs Transformer 2 dFC')"
   ]
  },
  {
   "cell_type": "code",
   "execution_count": 43,
   "id": "intellectual-scanner",
   "metadata": {},
   "outputs": [
    {
     "data": {
      "image/png": "[encoded data removed]",
      "text/plain": [
       "<Figure size 576x576 with 1 Axes>"
      ]
     },
     "metadata": {
      "needs_background": "light"
     },
     "output_type": "display_data"
    },
    {
     "name": "stdout",
     "output_type": "stream",
     "text": [
      "相関係数:  0.7542421281745746\n",
      "r^2 data:  0.5203843553206008\n",
      "切片:  16.462419106439228\n",
      "傾き:  0.7349692737141295\n"
     ]
    }
   ],
   "source": [
    "test_complement(test_pred_aal_1,test_pred_ho_1,'Transformer aal vs Transformer ho')"
   ]
  },
  {
   "cell_type": "code",
   "execution_count": 44,
   "id": "secret-racing",
   "metadata": {},
   "outputs": [
    {
     "data": {
      "image/png": "[encoded data removed]",
      "text/plain": [
       "<Figure size 576x576 with 1 Axes>"
      ]
     },
     "metadata": {
      "needs_background": "light"
     },
     "output_type": "display_data"
    },
    {
     "name": "stdout",
     "output_type": "stream",
     "text": [
      "相関係数:  0.7734572856537634\n",
      "r^2 data:  0.537535140842652\n",
      "切片:  13.204964935935784\n",
      "傾き:  0.7886193175376064\n"
     ]
    }
   ],
   "source": [
    "test_complement(test_pred_aal_1,test_pred_aal_dynamic_1,'Transformer aal vs Transformer aal dFC')"
   ]
  },
  {
   "cell_type": "code",
   "execution_count": 45,
   "id": "north-acoustic",
   "metadata": {},
   "outputs": [
    {
     "data": {
      "image/png": "[encoded data removed]",
      "text/plain": [
       "<Figure size 576x576 with 1 Axes>"
      ]
     },
     "metadata": {
      "needs_background": "light"
     },
     "output_type": "display_data"
    },
    {
     "name": "stdout",
     "output_type": "stream",
     "text": [
      "相関係数:  0.9704672114563936\n",
      "r^2 data:  0.9404809104873939\n",
      "切片:  5.392021557607187\n",
      "傾き:  0.910662210868841\n"
     ]
    }
   ],
   "source": [
    "test_complement(test_pred_aal_1,test_pred_multi_aal_1,\n",
    "                'Transformer aal vs Transformer aal Multi')"
   ]
  },
  {
   "cell_type": "code",
   "execution_count": 46,
   "id": "helpful-argentina",
   "metadata": {},
   "outputs": [
    {
     "data": {
      "image/png": "[encoded data removed]",
      "text/plain": [
       "<Figure size 576x576 with 1 Axes>"
      ]
     },
     "metadata": {
      "needs_background": "light"
     },
     "output_type": "display_data"
    },
    {
     "name": "stdout",
     "output_type": "stream",
     "text": [
      "相関係数:  0.9540638823733258\n",
      "r^2 data:  0.9094251554409388\n",
      "切片:  6.434971221023893\n",
      "傾き:  0.9002040505501179\n"
     ]
    }
   ],
   "source": [
    "test_complement(test_pred_aal_dynamic_1,test_pred_multi_aal_dynamic_1,\n",
    "                'Transformer aal dFC vs Transformer aal dFC Multi')"
   ]
  },
  {
   "cell_type": "markdown",
   "id": "oriental-somewhere",
   "metadata": {},
   "source": [
    "## 男女分類"
   ]
  },
  {
   "cell_type": "code",
   "execution_count": 47,
   "id": "rational-powder",
   "metadata": {},
   "outputs": [],
   "source": [
    "test_label_multi = test_label_multi_msdl_1"
   ]
  },
  {
   "cell_type": "code",
   "execution_count": 48,
   "id": "indian-portfolio",
   "metadata": {},
   "outputs": [],
   "source": [
    "def test_sex_plot(preds_ROI1,\n",
    "                  preds_ROI2,\n",
    "                  preds_dfc1,\n",
    "                  preds_dfc2,\n",
    "                  labels,\n",
    "                  title=''):\n",
    "    preds_list = [preds_ROI1,\n",
    "                  preds_ROI2,\n",
    "                  preds_dfc1,\n",
    "                  preds_dfc2]\n",
    "    \n",
    "    fig, axs = plt.subplots(2, 2, figsize=(12, 12), dpi=96)\n",
    "    fig.suptitle(title, fontsize=14, x=0.5, y=0.92)   # 図のタイトル\n",
    "    plt.subplots_adjust(wspace=0.2, hspace=0.25)\n",
    "    \n",
    "    for n, preds in enumerate(preds_list):\n",
    "    \n",
    "        for i in range(n_splits):\n",
    "            if not i:\n",
    "                label = labels[i,:,1:2]\n",
    "            else:\n",
    "                label = np.concatenate([label,labels[i,:,1:2]])\n",
    "\n",
    "        for i in range(n_splits):\n",
    "            if not i:\n",
    "                pred = preds[i].mean(axis=0)[:,1:2]\n",
    "            else:\n",
    "                pred = np.concatenate([pred,preds[i].mean(axis=0)[:,1:2]])\n",
    "\n",
    "        if n == 0:\n",
    "            lis = [0,0]\n",
    "            if 'LSTM' in title or 'lstm' in title:\n",
    "                tit = 'ROI Model'\n",
    "            else:\n",
    "                tit = 'ROI Model 1'\n",
    "        elif n == 1:\n",
    "            lis = [0,1]\n",
    "            if 'LSTM' in title or 'lstm' in title:\n",
    "                tit = 'ROI Model Bidirectional'\n",
    "            else:\n",
    "                tit = 'ROI Model 2'\n",
    "        elif n == 2:\n",
    "            lis = [1,0]\n",
    "            if 'LSTM' in title or 'lstm' in title:\n",
    "                tit = 'dFC Model'\n",
    "            else:\n",
    "                tit = 'dFC Model 1'\n",
    "        elif n == 3:\n",
    "            lis = [1,1]\n",
    "            if 'LSTM' in title or 'lstm' in title:\n",
    "                tit = 'dFC Model Bidirectional'\n",
    "            else:\n",
    "                tit = 'dFC Model 2'\n",
    "\n",
    "        new_line = '\\n'\n",
    "\n",
    "        acc = 0\n",
    "        for i,c in enumerate(label[:,0]):\n",
    "            if c == 1:\n",
    "                if pred[:,0][i] >= 0.5:\n",
    "                    acc += 1\n",
    "            else:\n",
    "                if pred[:,0][i] < 0.5:\n",
    "                    acc += 1\n",
    "        q = 1/2\n",
    "        n = len(label[:,0])\n",
    "        z = (acc - n*q)/np.sqrt(n*q*(1-q))\n",
    "        p = norm.sf(z)\n",
    "        acc = acc/len(label[:,0])\n",
    "        \n",
    "        axs[lis[0], lis[1]].scatter(label[:,0],pred[:,0],label = f'train accuracy : {acc:.3f}{new_line}p value : {p}')\n",
    "        \n",
    "        plt.axes(axs[lis[0], lis[1]])\n",
    "        plt.title(tit, fontsize=14)    # x軸のラベル\n",
    "        plt.xlabel('chronological sex', fontsize=14)    # x軸のラベル\n",
    "        plt.ylabel('predicted probability', fontsize=14)  # y軸のラベル\n",
    "        plt.legend(fontsize=10.5)\n",
    "        plt.grid()                     # グリッド線を表示\n",
    "        \n",
    "    path = '../04_result/image/'\n",
    "    title = title.split()\n",
    "    path += 'Gender_'\n",
    "    for s in title:\n",
    "        path += s + '_'\n",
    "    path = path[:-1] + '.png'\n",
    "\n",
    "    fig.savefig(path)"
   ]
  },
  {
   "cell_type": "code",
   "execution_count": 49,
   "id": "hawaiian-denver",
   "metadata": {},
   "outputs": [],
   "source": [
    "def test_sex_plot_all(model = 'Multi',\n",
    "                      roi_list = roi_list,\n",
    "                     ):\n",
    "    for roi in roi_list:\n",
    "        if model == 'Multi':\n",
    "            test_sex_plot(eval(f'test_pred_multi_{roi}_1'),\n",
    "                          eval(f'test_pred_multi_{roi}_2'),\n",
    "                          eval(f'test_pred_multi_{roi}_dynamic_1'),\n",
    "                          eval(f'test_pred_multi_{roi}_dynamic_2'),\n",
    "                          test_label_multi,\n",
    "                          f'Multi {roi} Transformer'\n",
    "                         )\n",
    "        elif model == 'Single':\n",
    "            test_sex_plot(eval(f'test_pred_single_{roi}_1'),\n",
    "                          eval(f'test_pred_single_{roi}_2'),\n",
    "                          eval(f'test_pred_single_{roi}_dynamic_1'),\n",
    "                          eval(f'test_pred_single_{roi}_dynamic_2'),\n",
    "                          test_label_multi,\n",
    "                          f'Single {roi} Transformer'\n",
    "                         )\n",
    "#test_sex_plot_all()\n",
    "#test_sex_plot_all('Single')"
   ]
  },
  {
   "cell_type": "markdown",
   "id": "unauthorized-marathon",
   "metadata": {},
   "source": [
    "## CSV化"
   ]
  },
  {
   "cell_type": "markdown",
   "id": "nervous-token",
   "metadata": {},
   "source": [
    "### 年齢予測結果"
   ]
  },
  {
   "cell_type": "code",
   "execution_count": 50,
   "id": "informed-external",
   "metadata": {},
   "outputs": [],
   "source": [
    "def test_csv(labels,\n",
    "              mode,\n",
    "              *args,\n",
    "              ):\n",
    "    preds_lists = list(args)\n",
    "    model_name = [0] * len(preds_lists) \n",
    "    \n",
    "    if len(preds_lists) == 2:\n",
    "        model_name[0] = 'Transformer AAL'\n",
    "        model_name[1] = 'Transformer HO'\n",
    "    elif len(preds_lists) == 4:\n",
    "        model_name[0] = 'Transformer AAL'\n",
    "        model_name[1] = 'Transformer HO'\n",
    "        model_name[2] = 'LSTM AAL'\n",
    "        model_name[3] = 'LSTM HO'\n",
    "    \n",
    "    n = len(preds_lists)\n",
    "    \n",
    "    df_mae = pd.DataFrame(np.arange(5*n).reshape(n, 5),\n",
    "                  columns=[mode,'ROI1' ,'ROI2', 'dFC1', 'dFC2'])\n",
    "    \n",
    "    df_slope = pd.DataFrame(np.arange(5*n).reshape(n, 5),\n",
    "                  columns=[mode,'ROI1' ,'ROI2', 'dFC1', 'dFC2'])\n",
    "    \n",
    "    for m , preds_list in enumerate(preds_lists):\n",
    "        \n",
    "        mae_lis = [model_name[m]]\n",
    "        slope_lis = [model_name[m]]\n",
    "        \n",
    "        for n, preds in enumerate(preds_list):\n",
    "            for i in range(n_splits):\n",
    "                if not i:\n",
    "                    label = labels[i,:,0:1]\n",
    "                else:\n",
    "                    label = np.concatenate([label,labels[i,:,0:1]])\n",
    "\n",
    "            for i in range(n_splits):\n",
    "                if not i:\n",
    "                    pred = preds[i].mean(axis=0)[:,0:1]\n",
    "                else:\n",
    "                    pred = np.concatenate([pred,preds[i].mean(axis=0)[:,0:1]])\n",
    "\n",
    "            new_line = '\\n'\n",
    "\n",
    "            lr = LinearRegression()\n",
    "            lr.fit(label*age_std+age_mean,pred[:,0]*age_std+age_mean)\n",
    "            corr,p = pearsonr(label[:,0],pred[:,0])\n",
    "            mae = mean_absolute_error_pred(preds,labels)\n",
    "            mae_lis.append(round(mae, 3))\n",
    "            slope_lis.append(round(lr.coef_[0], 3))\n",
    "            \n",
    "        df_mae.iloc[m] = mae_lis\n",
    "        df_slope.iloc[m] = slope_lis\n",
    "        \n",
    "    path_mae = '../04_result/csv/' + mode + '_mae' + '.csv'\n",
    "    df_mae.to_csv(path_mae, index=False)\n",
    "    path_slope = '../04_result/csv/' + mode + '_slope' + '.csv'\n",
    "    df_slope.to_csv(path_slope, index=False)"
   ]
  },
  {
   "cell_type": "code",
   "execution_count": 51,
   "id": "mature-estate",
   "metadata": {},
   "outputs": [],
   "source": [
    "test_pred_aal_all = [test_pred_aal_1,\n",
    "test_pred_aal_2,\n",
    "test_pred_aal_dynamic_1,\n",
    "test_pred_aal_dynamic_2]\n",
    "\n",
    "test_pred_ho_all = [test_pred_ho_1,\n",
    "test_pred_ho_2,\n",
    "test_pred_ho_dynamic_1,\n",
    "test_pred_ho_dynamic_2]\n",
    "\n",
    "test_pred_aal_lstm_all = [test_pred_aal_lstm,\n",
    "test_pred_aal_lstm_bi,\n",
    "test_pred_aal_dynamic_lstm,\n",
    "test_pred_aal_dynamic_lstm_bi]\n",
    "\n",
    "test_pred_ho_lstm_all = [test_pred_ho_lstm,\n",
    "test_pred_ho_lstm_bi,\n",
    "test_pred_ho_dynamic_lstm,\n",
    "test_pred_ho_dynamic_lstm_bi]\n",
    "\n",
    "test_csv(test_label,\n",
    "          'Normal',\n",
    "          test_pred_aal_all,\n",
    "          test_pred_ho_all,\n",
    "          test_pred_aal_lstm_all,\n",
    "          test_pred_ho_lstm_all)"
   ]
  },
  {
   "cell_type": "code",
   "execution_count": 52,
   "id": "nasty-clause",
   "metadata": {},
   "outputs": [],
   "source": [
    "test_pred_aal_corrected_all = [test_pred_aal_corrected_1,\n",
    "test_pred_aal_corrected_2,\n",
    "test_pred_aal_dynamic_corrected_1,\n",
    "test_pred_aal_dynamic_corrected_2]\n",
    "\n",
    "test_pred_ho_corrected_all = [test_pred_ho_corrected_1,\n",
    "test_pred_ho_corrected_2,\n",
    "test_pred_ho_dynamic_corrected_1,\n",
    "test_pred_ho_dynamic_corrected_2]\n",
    "\n",
    "test_pred_aal_corrected_lstm_all = [test_pred_aal_corrected_lstm,\n",
    "test_pred_aal_corrected_lstm_bi,\n",
    "test_pred_aal_dynamic_corrected_lstm,\n",
    "test_pred_aal_dynamic_corrected_lstm_bi]\n",
    "\n",
    "test_pred_ho_corrected_lstm_all = [test_pred_ho_corrected_lstm,\n",
    "test_pred_ho_corrected_lstm_bi,\n",
    "test_pred_ho_dynamic_corrected_lstm,\n",
    "test_pred_ho_dynamic_corrected_lstm_bi]\n",
    "\n",
    "test_csv(test_label,\n",
    "          'Corrected_1',\n",
    "          test_pred_aal_corrected_all,\n",
    "          test_pred_ho_corrected_all,\n",
    "          test_pred_aal_corrected_lstm_all,\n",
    "          test_pred_ho_corrected_lstm_all)"
   ]
  },
  {
   "cell_type": "code",
   "execution_count": 53,
   "id": "toxic-eagle",
   "metadata": {},
   "outputs": [],
   "source": [
    "test_corrected_pred_aal_all = [test_corrected_pred_aal_1,\n",
    "test_corrected_pred_aal_2,\n",
    "test_corrected_pred_aal_dynamic_1,\n",
    "test_corrected_pred_aal_dynamic_2]\n",
    "\n",
    "test_corrected_pred_ho_all = [test_corrected_pred_ho_1,\n",
    "test_corrected_pred_ho_2,\n",
    "test_corrected_pred_ho_dynamic_1,\n",
    "test_corrected_pred_ho_dynamic_2]\n",
    "\n",
    "test_corrected_pred_aal_lstm_all = [test_corrected_pred_aal_lstm,\n",
    "test_corrected_pred_aal_lstm_bi,\n",
    "test_corrected_pred_aal_dynamic_lstm,\n",
    "test_corrected_pred_aal_dynamic_lstm_bi]\n",
    "\n",
    "test_corrected_pred_ho_lstm_all = [test_corrected_pred_ho_lstm,\n",
    "test_corrected_pred_ho_lstm_bi,\n",
    "test_corrected_pred_ho_dynamic_lstm,\n",
    "test_corrected_pred_ho_dynamic_lstm_bi]\n",
    "\n",
    "test_csv(test_label,\n",
    "          'Corrected_2',\n",
    "          test_corrected_pred_aal_all,\n",
    "          test_corrected_pred_ho_all,\n",
    "          test_corrected_pred_aal_lstm_all,\n",
    "          test_corrected_pred_ho_lstm_all)"
   ]
  },
  {
   "cell_type": "code",
   "execution_count": 54,
   "id": "collaborative-rebate",
   "metadata": {},
   "outputs": [],
   "source": [
    "test_pred_multi_aal_all = [test_pred_multi_aal_1,\n",
    "test_pred_multi_aal_2,\n",
    "test_pred_multi_aal_dynamic_1,\n",
    "test_pred_multi_aal_dynamic_2]\n",
    "\n",
    "test_pred_multi_ho_all = [test_pred_multi_ho_1,\n",
    "test_pred_multi_ho_2,\n",
    "test_pred_multi_ho_dynamic_1,\n",
    "test_pred_multi_ho_dynamic_2]\n",
    "\n",
    "test_csv(test_label,\n",
    "          'Multi_task_Normal',\n",
    "          test_pred_multi_aal_all,\n",
    "          test_pred_multi_ho_all)"
   ]
  },
  {
   "cell_type": "code",
   "execution_count": 55,
   "id": "opposite-forwarding",
   "metadata": {},
   "outputs": [],
   "source": [
    "test_pred_multi_aal_corrected_all = [test_pred_multi_aal_corrected_1,\n",
    "test_pred_multi_aal_corrected_2,\n",
    "test_pred_multi_aal_dynamic_corrected_1,\n",
    "test_pred_multi_aal_dynamic_corrected_2]\n",
    "\n",
    "test_pred_multi_ho_corrected_all = [test_pred_multi_ho_corrected_1,\n",
    "test_pred_multi_ho_corrected_2,\n",
    "test_pred_multi_ho_dynamic_corrected_1,\n",
    "test_pred_multi_ho_dynamic_corrected_2]\n",
    "\n",
    "test_csv(test_label,\n",
    "          'Multi_task_Corrected_1',\n",
    "          test_pred_multi_aal_corrected_all,\n",
    "          test_pred_multi_ho_corrected_all)"
   ]
  },
  {
   "cell_type": "code",
   "execution_count": 57,
   "id": "adaptive-serum",
   "metadata": {},
   "outputs": [],
   "source": [
    "test_corrected_pred_multi_aal_all = [test_corrected_pred_multi_aal_1,\n",
    "test_corrected_pred_multi_aal_2,\n",
    "test_corrected_pred_multi_aal_dynamic_1,\n",
    "test_corrected_pred_multi_aal_dynamic_2]\n",
    "\n",
    "test_corrected_pred_multi_ho_all = [test_corrected_pred_multi_ho_1,\n",
    "test_corrected_pred_multi_ho_2,\n",
    "test_corrected_pred_multi_ho_dynamic_1,\n",
    "test_corrected_pred_multi_ho_dynamic_2]\n",
    "\n",
    "test_csv(test_label,\n",
    "          'Multi_task_Corrected_2',\n",
    "          test_corrected_pred_multi_aal_all,\n",
    "          test_corrected_pred_multi_ho_all)"
   ]
  },
  {
   "cell_type": "markdown",
   "id": "colonial-security",
   "metadata": {},
   "source": [
    "### 男女判別精度"
   ]
  },
  {
   "cell_type": "markdown",
   "id": "reported-title",
   "metadata": {},
   "source": [
    "### やる気スコアとの相関"
   ]
  },
  {
   "cell_type": "code",
   "execution_count": 58,
   "id": "integral-conclusion",
   "metadata": {},
   "outputs": [],
   "source": [
    "def test_compare_csv(labels,\n",
    "                     *args,\n",
    "                     test_idxs = test_idx,\n",
    "                     mode=1\n",
    "                    ):\n",
    "    preds_lists = list(args)\n",
    "    model_name = ['Transformer AAL', 'Transformer HO','LSTM AAL','LSTM HO']\n",
    "    model_feature = ['ROI1' ,'ROI2', 'dFC1', 'dFC2']\n",
    "\n",
    "    n = len(model_name) * len(model_feature)\n",
    "    \n",
    "    index = []\n",
    "    for name in model_name:\n",
    "        for feature in model_feature:\n",
    "            index = index + [name + ' ' + feature]\n",
    "    \n",
    "    df = pd.DataFrame(np.arange(6*n).reshape(n, 6),\n",
    "                      columns=['Age' ,'p-value', 'Corrected Predicted Age', 'p-value','Difference', 'p-value'],\n",
    "                      index = index\n",
    "                     )\n",
    "    \n",
    "    for m , preds_list in enumerate(preds_lists):\n",
    "        for n, preds in enumerate(preds_list):\n",
    "            for i in range(n_splits):\n",
    "                if not i:\n",
    "                    label = labels[i,:,0:1]\n",
    "                else:\n",
    "                    label = np.concatenate([label,labels[i,:,0:1]])\n",
    "\n",
    "            for i in range(n_splits):\n",
    "                if not i:\n",
    "                    pred = preds[i].mean(axis=0)[:,0:1]\n",
    "                else:\n",
    "                    pred = np.concatenate([pred,preds[i].mean(axis=0)[:,0:1]])\n",
    "\n",
    "            for i in range(n_splits):\n",
    "                if not i:\n",
    "                    test_idx = test_idxs[i]\n",
    "                else:\n",
    "                    test_idx = np.concatenate([test_idx,test_idxs[i]])\n",
    "\n",
    "            label = label.reshape(-1)\n",
    "            label = label*age_std+age_mean\n",
    "            pred  = pred.reshape(-1)\n",
    "            pred  = pred*age_std+age_mean \n",
    "            diff  = pred - label\n",
    "\n",
    "            corr_diff,p_diff = pearsonr(diff,data_label[test_idx][:,2])\n",
    "            corr_pred,p_pred = pearsonr(pred,data_label[test_idx][:,2])\n",
    "            corr_label,p_label = pearsonr(label,data_label[test_idx][:,2])\n",
    "\n",
    "            df.iloc[4 * m + n] = [round(corr_label,3),round(p_label,3),round(corr_pred,3),round(p_pred,3),round(corr_diff,3),round(p_diff,3)]\n",
    "    \n",
    "    path = f'../04_result/csv/apacy_corrected_{mode}.csv'\n",
    "    df.to_csv(path)"
   ]
  },
  {
   "cell_type": "code",
   "execution_count": 59,
   "id": "emerging-magic",
   "metadata": {},
   "outputs": [],
   "source": [
    "df_1 = test_compare_csv(test_label,\n",
    "                        test_pred_aal_corrected_all,\n",
    "                        test_pred_ho_corrected_all,\n",
    "                        test_pred_aal_corrected_lstm_all,\n",
    "                        test_pred_ho_corrected_lstm_all,\n",
    "                        mode=1)"
   ]
  },
  {
   "cell_type": "code",
   "execution_count": 60,
   "id": "retained-kinase",
   "metadata": {},
   "outputs": [],
   "source": [
    "df_2 = test_compare_csv(test_label,\n",
    "                        test_corrected_pred_aal_all,\n",
    "                        test_corrected_pred_ho_all,\n",
    "                        test_corrected_pred_aal_lstm_all,\n",
    "                        test_corrected_pred_ho_lstm_all,\n",
    "                        mode=2)"
   ]
  },
  {
   "cell_type": "markdown",
   "id": "copyrighted-zambia",
   "metadata": {},
   "source": [
    "### 男女判別"
   ]
  },
  {
   "cell_type": "code",
   "execution_count": 61,
   "id": "binding-credits",
   "metadata": {},
   "outputs": [],
   "source": [
    "def test_sex_csv(labels,\n",
    "                 mode,\n",
    "                 *args,\n",
    "                ):\n",
    "    preds_lists = list(args)\n",
    "    model_name = [0] * len(preds_lists) \n",
    "    \n",
    "    if len(preds_lists) == 2:\n",
    "        model_name[0] = 'Transformer AAL'\n",
    "        model_name[1] = 'Transformer HO'\n",
    "    elif len(preds_lists) == 4:\n",
    "        model_name[0] = 'Transformer AAL'\n",
    "        model_name[1] = 'Transformer HO'\n",
    "        model_name[2] = 'LSTM AAL'\n",
    "        model_name[3] = 'LSTM HO'\n",
    "    \n",
    "    n = len(preds_lists)\n",
    "    df_sex = pd.DataFrame(np.arange(9*n).reshape(n, 9),\n",
    "                  columns=[mode,\n",
    "                           'ROI1 acc','ROI1 p-value',\n",
    "                           'ROI2 acc','ROI2 p-value',\n",
    "                           'dFC1 acc','dFC1 p-value',\n",
    "                           'dFC2 acc','dFC1 p-value'])\n",
    "    \n",
    "    for m , preds_list in enumerate(preds_lists):\n",
    "        \n",
    "        sex_lis = [model_name[m]]\n",
    "        \n",
    "        for n, preds in enumerate(preds_list):\n",
    "            for i in range(n_splits):\n",
    "                if not i:\n",
    "                    label = labels[i,:,1:2]\n",
    "                else:\n",
    "                    label = np.concatenate([label,labels[i,:,1:2]])\n",
    "\n",
    "            for i in range(n_splits):\n",
    "                if not i:\n",
    "                    pred = preds[i].mean(axis=0)[:,1:2]\n",
    "                else:\n",
    "                    pred = np.concatenate([pred,preds[i].mean(axis=0)[:,1:2]])\n",
    "                    \n",
    "            acc = 0\n",
    "            \n",
    "            for i,c in enumerate(label[:,0]):\n",
    "                if c == 1:\n",
    "                    if pred[:,0][i] >= 0.5:\n",
    "                        acc += 1\n",
    "                else:\n",
    "                    if pred[:,0][i] < 0.5:\n",
    "                        acc += 1\n",
    "            q = 1/2\n",
    "            n = len(label[:,0])\n",
    "            z = (acc - n*q)/np.sqrt(n*q*(1-q))\n",
    "            p = norm.sf(z)\n",
    "            acc = acc/len(label[:,0])\n",
    "\n",
    "            sex_lis.append(round(acc, 4))\n",
    "            sex_lis.append(round(p, 4))\n",
    "        \n",
    "        df_sex.iloc[m] = sex_lis\n",
    "        \n",
    "    path_sex = '../04_result/csv/' + mode + '.csv'\n",
    "    df_sex.to_csv(path_sex, index=False)"
   ]
  },
  {
   "cell_type": "code",
   "execution_count": 62,
   "id": "steady-freeware",
   "metadata": {},
   "outputs": [],
   "source": [
    "test_pred_multi_aal_all = [test_pred_multi_aal_1,\n",
    "test_pred_multi_aal_2,\n",
    "test_pred_multi_aal_dynamic_1,\n",
    "test_pred_multi_aal_dynamic_2]\n",
    "\n",
    "test_pred_multi_ho_all = [test_pred_multi_ho_1,\n",
    "test_pred_multi_ho_2,\n",
    "test_pred_multi_ho_dynamic_1,\n",
    "test_pred_multi_ho_dynamic_2]\n",
    "\n",
    "test_sex_csv(test_label_multi,\n",
    "          'Sex_Multi_task_Normal',\n",
    "          test_pred_multi_aal_all,\n",
    "          test_pred_multi_ho_all)\n",
    "\n",
    "test_pred_single_aal_all = [test_pred_single_aal_1,\n",
    "test_pred_single_aal_2,\n",
    "test_pred_single_aal_dynamic_1,\n",
    "test_pred_single_aal_dynamic_2]\n",
    "\n",
    "test_pred_single_ho_all = [test_pred_single_ho_1,\n",
    "test_pred_single_ho_2,\n",
    "test_pred_single_ho_dynamic_1,\n",
    "test_pred_single_ho_dynamic_2]\n",
    "\n",
    "test_sex_csv(test_label_multi,\n",
    "          'Sex_Single_task_Normal',\n",
    "          test_pred_single_aal_all,\n",
    "          test_pred_single_ho_all)"
   ]
  },
  {
   "cell_type": "markdown",
   "id": "scheduled-yield",
   "metadata": {},
   "source": [
    "## 京大"
   ]
  },
  {
   "cell_type": "code",
   "execution_count": 63,
   "id": "hairy-opposition",
   "metadata": {},
   "outputs": [
    {
     "name": "stdout",
     "output_type": "stream",
     "text": [
      "CPU times: user 202 ms, sys: 27.7 ms, total: 230 ms\n",
      "Wall time: 1.14 s\n"
     ]
    }
   ],
   "source": [
    "%%time\n",
    "df_subjects_info_kyodai = pd.read_excel('../01_data/kyodai_IMPACT/KyodaiIMPACT_Age_ApathyScore.xlsx',engine='openpyxl')"
   ]
  },
  {
   "cell_type": "markdown",
   "id": "stainless-korean",
   "metadata": {},
   "source": [
    "## zip化"
   ]
  },
  {
   "cell_type": "code",
   "execution_count": 68,
   "id": "endless-struggle",
   "metadata": {},
   "outputs": [
    {
     "name": "stdout",
     "output_type": "stream",
     "text": [
      "/home/1/16B14626/t3workspace/work_shimane/04_result\n"
     ]
    }
   ],
   "source": [
    "#cd ../04_result"
   ]
  },
  {
   "cell_type": "code",
   "execution_count": 70,
   "id": "specialized-three",
   "metadata": {},
   "outputs": [],
   "source": [
    "#!zip -r image.zip image"
   ]
  },
  {
   "cell_type": "code",
   "execution_count": 72,
   "id": "crude-bailey",
   "metadata": {},
   "outputs": [],
   "source": [
    "#!zip -r csv.zip csv"
   ]
  },
  {
   "cell_type": "code",
   "execution_count": 73,
   "id": "compound-growing",
   "metadata": {},
   "outputs": [
    {
     "name": "stdout",
     "output_type": "stream",
     "text": [
      "/home/1/16B14626/t3workspace/work_shimane/03_script\n"
     ]
    }
   ],
   "source": [
    "#cd -"
   ]
  },
  {
   "cell_type": "code",
   "execution_count": null,
   "id": "normal-innocent",
   "metadata": {},
   "outputs": [],
   "source": []
  },
  {
   "cell_type": "code",
   "execution_count": null,
   "id": "fresh-median",
   "metadata": {},
   "outputs": [],
   "source": []
  },
  {
   "cell_type": "code",
   "execution_count": null,
   "id": "respiratory-shark",
   "metadata": {},
   "outputs": [],
   "source": []
  },
  {
   "cell_type": "code",
   "execution_count": null,
   "id": "starting-arena",
   "metadata": {},
   "outputs": [],
   "source": []
  },
  {
   "cell_type": "code",
   "execution_count": null,
   "id": "sticky-kazakhstan",
   "metadata": {},
   "outputs": [],
   "source": []
  },
  {
   "cell_type": "code",
   "execution_count": null,
   "id": "resident-monaco",
   "metadata": {},
   "outputs": [],
   "source": []
  },
  {
   "cell_type": "code",
   "execution_count": null,
   "id": "italian-motion",
   "metadata": {},
   "outputs": [],
   "source": []
  },
  {
   "cell_type": "code",
   "execution_count": null,
   "id": "forty-youth",
   "metadata": {},
   "outputs": [],
   "source": []
  },
  {
   "cell_type": "code",
   "execution_count": null,
   "id": "present-electron",
   "metadata": {},
   "outputs": [],
   "source": []
  },
  {
   "cell_type": "code",
   "execution_count": null,
   "id": "tracked-dutch",
   "metadata": {},
   "outputs": [],
   "source": []
  },
  {
   "cell_type": "code",
   "execution_count": null,
   "id": "particular-forwarding",
   "metadata": {},
   "outputs": [],
   "source": []
  },
  {
   "cell_type": "code",
   "execution_count": null,
   "id": "conventional-harris",
   "metadata": {},
   "outputs": [],
   "source": []
  },
  {
   "cell_type": "code",
   "execution_count": null,
   "id": "naked-going",
   "metadata": {},
   "outputs": [],
   "source": []
  },
  {
   "cell_type": "code",
   "execution_count": null,
   "id": "running-madness",
   "metadata": {},
   "outputs": [],
   "source": []
  },
  {
   "cell_type": "code",
   "execution_count": null,
   "id": "black-public",
   "metadata": {},
   "outputs": [],
   "source": []
  }
 ],
 "metadata": {
  "kernelspec": {
   "display_name": "Python 3",
   "language": "python",
   "name": "python3"
  },
  "language_info": {
   "codemirror_mode": {
    "name": "ipython",
    "version": 3
   },
   "file_extension": ".py",
   "mimetype": "text/x-python",
   "name": "python",
   "nbconvert_exporter": "python",
   "pygments_lexer": "ipython3",
   "version": "3.6.5"
  }
 },
 "nbformat": 4,
 "nbformat_minor": 5
}
